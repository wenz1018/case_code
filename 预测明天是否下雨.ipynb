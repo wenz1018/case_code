{
 "cells": [
  {
   "cell_type": "markdown",
   "metadata": {},
   "source": [
    "## 1.数据初步探索"
   ]
  },
  {
   "cell_type": "code",
   "execution_count": 1,
   "metadata": {},
   "outputs": [],
   "source": [
    "# 导入基本包\n",
    "import numpy as np\n",
    "import pandas as pd\n",
    "import matplotlib.pyplot as plt\n",
    "%matplotlib inline \n",
    "import seaborn as sns\n",
    "plt.style.use('seaborn')\n",
    "import warnings\n",
    "warnings.filterwarnings('ignore')"
   ]
  },
  {
   "cell_type": "code",
   "execution_count": 2,
   "metadata": {},
   "outputs": [
    {
     "data": {
      "text/html": [
       "<div>\n",
       "<style scoped>\n",
       "    .dataframe tbody tr th:only-of-type {\n",
       "        vertical-align: middle;\n",
       "    }\n",
       "\n",
       "    .dataframe tbody tr th {\n",
       "        vertical-align: top;\n",
       "    }\n",
       "\n",
       "    .dataframe thead th {\n",
       "        text-align: right;\n",
       "    }\n",
       "</style>\n",
       "<table border=\"1\" class=\"dataframe\">\n",
       "  <thead>\n",
       "    <tr style=\"text-align: right;\">\n",
       "      <th></th>\n",
       "      <th>Date</th>\n",
       "      <th>Location</th>\n",
       "      <th>MinTemp</th>\n",
       "      <th>MaxTemp</th>\n",
       "      <th>Rainfall</th>\n",
       "      <th>Evaporation</th>\n",
       "      <th>Sunshine</th>\n",
       "      <th>WindGustDir</th>\n",
       "      <th>WindGustSpeed</th>\n",
       "      <th>WindDir9am</th>\n",
       "      <th>WindDir3pm</th>\n",
       "      <th>WindSpeed9am</th>\n",
       "      <th>WindSpeed3pm</th>\n",
       "      <th>Humidity9am</th>\n",
       "      <th>Humidity3pm</th>\n",
       "      <th>Pressure9am</th>\n",
       "      <th>Pressure3pm</th>\n",
       "      <th>Cloud9am</th>\n",
       "      <th>Cloud3pm</th>\n",
       "      <th>Temp9am</th>\n",
       "      <th>Temp3pm</th>\n",
       "      <th>RainTomorrow</th>\n",
       "    </tr>\n",
       "  </thead>\n",
       "  <tbody>\n",
       "    <tr>\n",
       "      <th>0</th>\n",
       "      <td>2008-12-01</td>\n",
       "      <td>Albury</td>\n",
       "      <td>13.4</td>\n",
       "      <td>22.9</td>\n",
       "      <td>0.6</td>\n",
       "      <td>NaN</td>\n",
       "      <td>NaN</td>\n",
       "      <td>W</td>\n",
       "      <td>44.0</td>\n",
       "      <td>W</td>\n",
       "      <td>WNW</td>\n",
       "      <td>20.0</td>\n",
       "      <td>24.0</td>\n",
       "      <td>71.0</td>\n",
       "      <td>22.0</td>\n",
       "      <td>1007.7</td>\n",
       "      <td>1007.1</td>\n",
       "      <td>8.0</td>\n",
       "      <td>NaN</td>\n",
       "      <td>16.9</td>\n",
       "      <td>21.8</td>\n",
       "      <td>No</td>\n",
       "    </tr>\n",
       "    <tr>\n",
       "      <th>1</th>\n",
       "      <td>2008-12-02</td>\n",
       "      <td>Albury</td>\n",
       "      <td>7.4</td>\n",
       "      <td>25.1</td>\n",
       "      <td>0.0</td>\n",
       "      <td>NaN</td>\n",
       "      <td>NaN</td>\n",
       "      <td>WNW</td>\n",
       "      <td>44.0</td>\n",
       "      <td>NNW</td>\n",
       "      <td>WSW</td>\n",
       "      <td>4.0</td>\n",
       "      <td>22.0</td>\n",
       "      <td>44.0</td>\n",
       "      <td>25.0</td>\n",
       "      <td>1010.6</td>\n",
       "      <td>1007.8</td>\n",
       "      <td>NaN</td>\n",
       "      <td>NaN</td>\n",
       "      <td>17.2</td>\n",
       "      <td>24.3</td>\n",
       "      <td>No</td>\n",
       "    </tr>\n",
       "    <tr>\n",
       "      <th>2</th>\n",
       "      <td>2008-12-03</td>\n",
       "      <td>Albury</td>\n",
       "      <td>12.9</td>\n",
       "      <td>25.7</td>\n",
       "      <td>0.0</td>\n",
       "      <td>NaN</td>\n",
       "      <td>NaN</td>\n",
       "      <td>WSW</td>\n",
       "      <td>46.0</td>\n",
       "      <td>W</td>\n",
       "      <td>WSW</td>\n",
       "      <td>19.0</td>\n",
       "      <td>26.0</td>\n",
       "      <td>38.0</td>\n",
       "      <td>30.0</td>\n",
       "      <td>1007.6</td>\n",
       "      <td>1008.7</td>\n",
       "      <td>NaN</td>\n",
       "      <td>2.0</td>\n",
       "      <td>21.0</td>\n",
       "      <td>23.2</td>\n",
       "      <td>No</td>\n",
       "    </tr>\n",
       "    <tr>\n",
       "      <th>3</th>\n",
       "      <td>2008-12-04</td>\n",
       "      <td>Albury</td>\n",
       "      <td>9.2</td>\n",
       "      <td>28.0</td>\n",
       "      <td>0.0</td>\n",
       "      <td>NaN</td>\n",
       "      <td>NaN</td>\n",
       "      <td>NE</td>\n",
       "      <td>24.0</td>\n",
       "      <td>SE</td>\n",
       "      <td>E</td>\n",
       "      <td>11.0</td>\n",
       "      <td>9.0</td>\n",
       "      <td>45.0</td>\n",
       "      <td>16.0</td>\n",
       "      <td>1017.6</td>\n",
       "      <td>1012.8</td>\n",
       "      <td>NaN</td>\n",
       "      <td>NaN</td>\n",
       "      <td>18.1</td>\n",
       "      <td>26.5</td>\n",
       "      <td>No</td>\n",
       "    </tr>\n",
       "    <tr>\n",
       "      <th>4</th>\n",
       "      <td>2008-12-05</td>\n",
       "      <td>Albury</td>\n",
       "      <td>17.5</td>\n",
       "      <td>32.3</td>\n",
       "      <td>1.0</td>\n",
       "      <td>NaN</td>\n",
       "      <td>NaN</td>\n",
       "      <td>W</td>\n",
       "      <td>41.0</td>\n",
       "      <td>ENE</td>\n",
       "      <td>NW</td>\n",
       "      <td>7.0</td>\n",
       "      <td>20.0</td>\n",
       "      <td>82.0</td>\n",
       "      <td>33.0</td>\n",
       "      <td>1010.8</td>\n",
       "      <td>1006.0</td>\n",
       "      <td>7.0</td>\n",
       "      <td>8.0</td>\n",
       "      <td>17.8</td>\n",
       "      <td>29.7</td>\n",
       "      <td>No</td>\n",
       "    </tr>\n",
       "  </tbody>\n",
       "</table>\n",
       "</div>"
      ],
      "text/plain": [
       "         Date Location  MinTemp  MaxTemp  Rainfall  Evaporation  Sunshine  \\\n",
       "0  2008-12-01   Albury     13.4     22.9       0.6          NaN       NaN   \n",
       "1  2008-12-02   Albury      7.4     25.1       0.0          NaN       NaN   \n",
       "2  2008-12-03   Albury     12.9     25.7       0.0          NaN       NaN   \n",
       "3  2008-12-04   Albury      9.2     28.0       0.0          NaN       NaN   \n",
       "4  2008-12-05   Albury     17.5     32.3       1.0          NaN       NaN   \n",
       "\n",
       "  WindGustDir  WindGustSpeed WindDir9am WindDir3pm  WindSpeed9am  \\\n",
       "0           W           44.0          W        WNW          20.0   \n",
       "1         WNW           44.0        NNW        WSW           4.0   \n",
       "2         WSW           46.0          W        WSW          19.0   \n",
       "3          NE           24.0         SE          E          11.0   \n",
       "4           W           41.0        ENE         NW           7.0   \n",
       "\n",
       "   WindSpeed3pm  Humidity9am  Humidity3pm  Pressure9am  Pressure3pm  Cloud9am  \\\n",
       "0          24.0         71.0         22.0       1007.7       1007.1       8.0   \n",
       "1          22.0         44.0         25.0       1010.6       1007.8       NaN   \n",
       "2          26.0         38.0         30.0       1007.6       1008.7       NaN   \n",
       "3           9.0         45.0         16.0       1017.6       1012.8       NaN   \n",
       "4          20.0         82.0         33.0       1010.8       1006.0       7.0   \n",
       "\n",
       "   Cloud3pm  Temp9am  Temp3pm RainTomorrow  \n",
       "0       NaN     16.9     21.8           No  \n",
       "1       NaN     17.2     24.3           No  \n",
       "2       2.0     21.0     23.2           No  \n",
       "3       NaN     18.1     26.5           No  \n",
       "4       8.0     17.8     29.7           No  "
      ]
     },
     "execution_count": 2,
     "metadata": {},
     "output_type": "execute_result"
    }
   ],
   "source": [
    "# 导入数据\n",
    "weather = pd.read_csv('weather.csv',index_col=0)\n",
    "pd.set_option('max_columns',100)\n",
    "weather.head()"
   ]
  },
  {
   "cell_type": "code",
   "execution_count": 3,
   "metadata": {},
   "outputs": [],
   "source": [
    "# 随机抽取10000条数据进行处理\n",
    "df = weather.sample(n=10000,random_state=0)\n",
    "df.index = range(df.shape[0])"
   ]
  },
  {
   "cell_type": "code",
   "execution_count": 4,
   "metadata": {},
   "outputs": [
    {
     "data": {
      "text/plain": [
       "(10000, 22)"
      ]
     },
     "execution_count": 4,
     "metadata": {},
     "output_type": "execute_result"
    }
   ],
   "source": [
    "df.shape"
   ]
  },
  {
   "cell_type": "code",
   "execution_count": 5,
   "metadata": {},
   "outputs": [],
   "source": [
    "# 构建基本信息表"
   ]
  },
  {
   "cell_type": "code",
   "execution_count": 6,
   "metadata": {},
   "outputs": [],
   "source": [
    "df_info = pd.DataFrame(df.isnull().mean())"
   ]
  },
  {
   "cell_type": "code",
   "execution_count": 7,
   "metadata": {},
   "outputs": [],
   "source": [
    "df_info['Data_type'] = df.dtypes"
   ]
  },
  {
   "cell_type": "code",
   "execution_count": 8,
   "metadata": {},
   "outputs": [],
   "source": [
    "df_info = df_info.reset_index()"
   ]
  },
  {
   "cell_type": "code",
   "execution_count": 9,
   "metadata": {},
   "outputs": [],
   "source": [
    "df_info.columns = ['Var','NA_rate','Data_type']"
   ]
  },
  {
   "cell_type": "code",
   "execution_count": 10,
   "metadata": {},
   "outputs": [
    {
     "data": {
      "text/html": [
       "<div>\n",
       "<style scoped>\n",
       "    .dataframe tbody tr th:only-of-type {\n",
       "        vertical-align: middle;\n",
       "    }\n",
       "\n",
       "    .dataframe tbody tr th {\n",
       "        vertical-align: top;\n",
       "    }\n",
       "\n",
       "    .dataframe thead th {\n",
       "        text-align: right;\n",
       "    }\n",
       "</style>\n",
       "<table border=\"1\" class=\"dataframe\">\n",
       "  <thead>\n",
       "    <tr style=\"text-align: right;\">\n",
       "      <th></th>\n",
       "      <th>Var</th>\n",
       "      <th>NA_rate</th>\n",
       "      <th>Data_type</th>\n",
       "    </tr>\n",
       "  </thead>\n",
       "  <tbody>\n",
       "    <tr>\n",
       "      <th>0</th>\n",
       "      <td>Date</td>\n",
       "      <td>0.0000</td>\n",
       "      <td>object</td>\n",
       "    </tr>\n",
       "    <tr>\n",
       "      <th>1</th>\n",
       "      <td>Location</td>\n",
       "      <td>0.0000</td>\n",
       "      <td>object</td>\n",
       "    </tr>\n",
       "    <tr>\n",
       "      <th>2</th>\n",
       "      <td>MinTemp</td>\n",
       "      <td>0.0058</td>\n",
       "      <td>float64</td>\n",
       "    </tr>\n",
       "    <tr>\n",
       "      <th>3</th>\n",
       "      <td>MaxTemp</td>\n",
       "      <td>0.0020</td>\n",
       "      <td>float64</td>\n",
       "    </tr>\n",
       "    <tr>\n",
       "      <th>4</th>\n",
       "      <td>Rainfall</td>\n",
       "      <td>0.0110</td>\n",
       "      <td>float64</td>\n",
       "    </tr>\n",
       "    <tr>\n",
       "      <th>5</th>\n",
       "      <td>Evaporation</td>\n",
       "      <td>0.4360</td>\n",
       "      <td>float64</td>\n",
       "    </tr>\n",
       "    <tr>\n",
       "      <th>6</th>\n",
       "      <td>Sunshine</td>\n",
       "      <td>0.4813</td>\n",
       "      <td>float64</td>\n",
       "    </tr>\n",
       "    <tr>\n",
       "      <th>7</th>\n",
       "      <td>WindGustDir</td>\n",
       "      <td>0.0691</td>\n",
       "      <td>object</td>\n",
       "    </tr>\n",
       "    <tr>\n",
       "      <th>8</th>\n",
       "      <td>WindGustSpeed</td>\n",
       "      <td>0.0685</td>\n",
       "      <td>float64</td>\n",
       "    </tr>\n",
       "    <tr>\n",
       "      <th>9</th>\n",
       "      <td>WindDir9am</td>\n",
       "      <td>0.0718</td>\n",
       "      <td>object</td>\n",
       "    </tr>\n",
       "    <tr>\n",
       "      <th>10</th>\n",
       "      <td>WindDir3pm</td>\n",
       "      <td>0.0284</td>\n",
       "      <td>object</td>\n",
       "    </tr>\n",
       "    <tr>\n",
       "      <th>11</th>\n",
       "      <td>WindSpeed9am</td>\n",
       "      <td>0.0088</td>\n",
       "      <td>float64</td>\n",
       "    </tr>\n",
       "    <tr>\n",
       "      <th>12</th>\n",
       "      <td>WindSpeed3pm</td>\n",
       "      <td>0.0210</td>\n",
       "      <td>float64</td>\n",
       "    </tr>\n",
       "    <tr>\n",
       "      <th>13</th>\n",
       "      <td>Humidity9am</td>\n",
       "      <td>0.0099</td>\n",
       "      <td>float64</td>\n",
       "    </tr>\n",
       "    <tr>\n",
       "      <th>14</th>\n",
       "      <td>Humidity3pm</td>\n",
       "      <td>0.0267</td>\n",
       "      <td>float64</td>\n",
       "    </tr>\n",
       "    <tr>\n",
       "      <th>15</th>\n",
       "      <td>Pressure9am</td>\n",
       "      <td>0.1036</td>\n",
       "      <td>float64</td>\n",
       "    </tr>\n",
       "    <tr>\n",
       "      <th>16</th>\n",
       "      <td>Pressure3pm</td>\n",
       "      <td>0.1041</td>\n",
       "      <td>float64</td>\n",
       "    </tr>\n",
       "    <tr>\n",
       "      <th>17</th>\n",
       "      <td>Cloud9am</td>\n",
       "      <td>0.3740</td>\n",
       "      <td>float64</td>\n",
       "    </tr>\n",
       "    <tr>\n",
       "      <th>18</th>\n",
       "      <td>Cloud3pm</td>\n",
       "      <td>0.4059</td>\n",
       "      <td>float64</td>\n",
       "    </tr>\n",
       "    <tr>\n",
       "      <th>19</th>\n",
       "      <td>Temp9am</td>\n",
       "      <td>0.0045</td>\n",
       "      <td>float64</td>\n",
       "    </tr>\n",
       "    <tr>\n",
       "      <th>20</th>\n",
       "      <td>Temp3pm</td>\n",
       "      <td>0.0215</td>\n",
       "      <td>float64</td>\n",
       "    </tr>\n",
       "    <tr>\n",
       "      <th>21</th>\n",
       "      <td>RainTomorrow</td>\n",
       "      <td>0.0000</td>\n",
       "      <td>object</td>\n",
       "    </tr>\n",
       "  </tbody>\n",
       "</table>\n",
       "</div>"
      ],
      "text/plain": [
       "              Var  NA_rate Data_type\n",
       "0            Date   0.0000    object\n",
       "1        Location   0.0000    object\n",
       "2         MinTemp   0.0058   float64\n",
       "3         MaxTemp   0.0020   float64\n",
       "4        Rainfall   0.0110   float64\n",
       "5     Evaporation   0.4360   float64\n",
       "6        Sunshine   0.4813   float64\n",
       "7     WindGustDir   0.0691    object\n",
       "8   WindGustSpeed   0.0685   float64\n",
       "9      WindDir9am   0.0718    object\n",
       "10     WindDir3pm   0.0284    object\n",
       "11   WindSpeed9am   0.0088   float64\n",
       "12   WindSpeed3pm   0.0210   float64\n",
       "13    Humidity9am   0.0099   float64\n",
       "14    Humidity3pm   0.0267   float64\n",
       "15    Pressure9am   0.1036   float64\n",
       "16    Pressure3pm   0.1041   float64\n",
       "17       Cloud9am   0.3740   float64\n",
       "18       Cloud3pm   0.4059   float64\n",
       "19        Temp9am   0.0045   float64\n",
       "20        Temp3pm   0.0215   float64\n",
       "21   RainTomorrow   0.0000    object"
      ]
     },
     "execution_count": 10,
     "metadata": {},
     "output_type": "execute_result"
    }
   ],
   "source": [
    "df_info"
   ]
  },
  {
   "cell_type": "code",
   "execution_count": 11,
   "metadata": {},
   "outputs": [],
   "source": [
    "# 按照变量探索"
   ]
  },
  {
   "cell_type": "code",
   "execution_count": 12,
   "metadata": {},
   "outputs": [
    {
     "data": {
      "text/html": [
       "<div>\n",
       "<style scoped>\n",
       "    .dataframe tbody tr th:only-of-type {\n",
       "        vertical-align: middle;\n",
       "    }\n",
       "\n",
       "    .dataframe tbody tr th {\n",
       "        vertical-align: top;\n",
       "    }\n",
       "\n",
       "    .dataframe thead th {\n",
       "        text-align: right;\n",
       "    }\n",
       "</style>\n",
       "<table border=\"1\" class=\"dataframe\">\n",
       "  <thead>\n",
       "    <tr style=\"text-align: right;\">\n",
       "      <th></th>\n",
       "      <th>count</th>\n",
       "      <th>mean</th>\n",
       "      <th>std</th>\n",
       "      <th>min</th>\n",
       "      <th>1%</th>\n",
       "      <th>10%</th>\n",
       "      <th>25%</th>\n",
       "      <th>50%</th>\n",
       "      <th>75%</th>\n",
       "      <th>90%</th>\n",
       "      <th>99%</th>\n",
       "      <th>max</th>\n",
       "    </tr>\n",
       "  </thead>\n",
       "  <tbody>\n",
       "    <tr>\n",
       "      <th>MinTemp</th>\n",
       "      <td>9942.0</td>\n",
       "      <td>12.223516</td>\n",
       "      <td>6.404366</td>\n",
       "      <td>-6.9</td>\n",
       "      <td>-2.200</td>\n",
       "      <td>4.1</td>\n",
       "      <td>7.6</td>\n",
       "      <td>12.0</td>\n",
       "      <td>16.9</td>\n",
       "      <td>20.8</td>\n",
       "      <td>25.800</td>\n",
       "      <td>29.4</td>\n",
       "    </tr>\n",
       "    <tr>\n",
       "      <th>MaxTemp</th>\n",
       "      <td>9980.0</td>\n",
       "      <td>23.224128</td>\n",
       "      <td>7.147724</td>\n",
       "      <td>-4.1</td>\n",
       "      <td>8.579</td>\n",
       "      <td>14.5</td>\n",
       "      <td>18.0</td>\n",
       "      <td>22.7</td>\n",
       "      <td>28.3</td>\n",
       "      <td>33.0</td>\n",
       "      <td>40.200</td>\n",
       "      <td>44.7</td>\n",
       "    </tr>\n",
       "    <tr>\n",
       "      <th>Rainfall</th>\n",
       "      <td>9890.0</td>\n",
       "      <td>2.312912</td>\n",
       "      <td>7.873990</td>\n",
       "      <td>0.0</td>\n",
       "      <td>0.000</td>\n",
       "      <td>0.0</td>\n",
       "      <td>0.0</td>\n",
       "      <td>0.0</td>\n",
       "      <td>0.8</td>\n",
       "      <td>6.2</td>\n",
       "      <td>36.222</td>\n",
       "      <td>183.4</td>\n",
       "    </tr>\n",
       "    <tr>\n",
       "      <th>Evaporation</th>\n",
       "      <td>5640.0</td>\n",
       "      <td>5.378227</td>\n",
       "      <td>4.302460</td>\n",
       "      <td>0.0</td>\n",
       "      <td>0.339</td>\n",
       "      <td>1.4</td>\n",
       "      <td>2.6</td>\n",
       "      <td>4.8</td>\n",
       "      <td>7.2</td>\n",
       "      <td>9.8</td>\n",
       "      <td>17.000</td>\n",
       "      <td>145.0</td>\n",
       "    </tr>\n",
       "    <tr>\n",
       "      <th>Sunshine</th>\n",
       "      <td>5187.0</td>\n",
       "      <td>7.705456</td>\n",
       "      <td>3.733353</td>\n",
       "      <td>0.0</td>\n",
       "      <td>0.000</td>\n",
       "      <td>1.8</td>\n",
       "      <td>5.0</td>\n",
       "      <td>8.6</td>\n",
       "      <td>10.6</td>\n",
       "      <td>12.2</td>\n",
       "      <td>13.500</td>\n",
       "      <td>14.3</td>\n",
       "    </tr>\n",
       "    <tr>\n",
       "      <th>WindGustSpeed</th>\n",
       "      <td>9315.0</td>\n",
       "      <td>40.002040</td>\n",
       "      <td>13.767265</td>\n",
       "      <td>7.0</td>\n",
       "      <td>15.000</td>\n",
       "      <td>24.0</td>\n",
       "      <td>31.0</td>\n",
       "      <td>39.0</td>\n",
       "      <td>48.0</td>\n",
       "      <td>57.0</td>\n",
       "      <td>83.000</td>\n",
       "      <td>117.0</td>\n",
       "    </tr>\n",
       "    <tr>\n",
       "      <th>WindSpeed9am</th>\n",
       "      <td>9912.0</td>\n",
       "      <td>13.993442</td>\n",
       "      <td>8.977840</td>\n",
       "      <td>0.0</td>\n",
       "      <td>0.000</td>\n",
       "      <td>4.0</td>\n",
       "      <td>7.0</td>\n",
       "      <td>13.0</td>\n",
       "      <td>19.0</td>\n",
       "      <td>26.0</td>\n",
       "      <td>39.000</td>\n",
       "      <td>72.0</td>\n",
       "    </tr>\n",
       "    <tr>\n",
       "      <th>WindSpeed3pm</th>\n",
       "      <td>9790.0</td>\n",
       "      <td>18.743105</td>\n",
       "      <td>8.936644</td>\n",
       "      <td>0.0</td>\n",
       "      <td>2.000</td>\n",
       "      <td>9.0</td>\n",
       "      <td>13.0</td>\n",
       "      <td>19.0</td>\n",
       "      <td>24.0</td>\n",
       "      <td>30.0</td>\n",
       "      <td>43.000</td>\n",
       "      <td>87.0</td>\n",
       "    </tr>\n",
       "    <tr>\n",
       "      <th>Humidity9am</th>\n",
       "      <td>9901.0</td>\n",
       "      <td>68.848298</td>\n",
       "      <td>19.040314</td>\n",
       "      <td>5.0</td>\n",
       "      <td>18.000</td>\n",
       "      <td>44.0</td>\n",
       "      <td>57.0</td>\n",
       "      <td>70.0</td>\n",
       "      <td>83.0</td>\n",
       "      <td>94.0</td>\n",
       "      <td>100.000</td>\n",
       "      <td>100.0</td>\n",
       "    </tr>\n",
       "    <tr>\n",
       "      <th>Humidity3pm</th>\n",
       "      <td>9733.0</td>\n",
       "      <td>51.409021</td>\n",
       "      <td>20.744870</td>\n",
       "      <td>1.0</td>\n",
       "      <td>9.000</td>\n",
       "      <td>23.0</td>\n",
       "      <td>36.0</td>\n",
       "      <td>52.0</td>\n",
       "      <td>65.0</td>\n",
       "      <td>79.0</td>\n",
       "      <td>97.000</td>\n",
       "      <td>100.0</td>\n",
       "    </tr>\n",
       "    <tr>\n",
       "      <th>Pressure9am</th>\n",
       "      <td>8964.0</td>\n",
       "      <td>1017.680611</td>\n",
       "      <td>7.142705</td>\n",
       "      <td>982.0</td>\n",
       "      <td>1000.000</td>\n",
       "      <td>1008.8</td>\n",
       "      <td>1013.0</td>\n",
       "      <td>1017.7</td>\n",
       "      <td>1022.4</td>\n",
       "      <td>1026.9</td>\n",
       "      <td>1034.000</td>\n",
       "      <td>1039.2</td>\n",
       "    </tr>\n",
       "    <tr>\n",
       "      <th>Pressure3pm</th>\n",
       "      <td>8959.0</td>\n",
       "      <td>1015.279451</td>\n",
       "      <td>7.054675</td>\n",
       "      <td>985.5</td>\n",
       "      <td>998.800</td>\n",
       "      <td>1006.4</td>\n",
       "      <td>1010.5</td>\n",
       "      <td>1015.2</td>\n",
       "      <td>1020.0</td>\n",
       "      <td>1024.5</td>\n",
       "      <td>1031.500</td>\n",
       "      <td>1036.9</td>\n",
       "    </tr>\n",
       "    <tr>\n",
       "      <th>Cloud9am</th>\n",
       "      <td>6260.0</td>\n",
       "      <td>4.431150</td>\n",
       "      <td>2.871463</td>\n",
       "      <td>0.0</td>\n",
       "      <td>0.000</td>\n",
       "      <td>1.0</td>\n",
       "      <td>1.0</td>\n",
       "      <td>5.0</td>\n",
       "      <td>7.0</td>\n",
       "      <td>8.0</td>\n",
       "      <td>8.000</td>\n",
       "      <td>8.0</td>\n",
       "    </tr>\n",
       "    <tr>\n",
       "      <th>Cloud3pm</th>\n",
       "      <td>5941.0</td>\n",
       "      <td>4.473153</td>\n",
       "      <td>2.720572</td>\n",
       "      <td>0.0</td>\n",
       "      <td>0.000</td>\n",
       "      <td>1.0</td>\n",
       "      <td>2.0</td>\n",
       "      <td>5.0</td>\n",
       "      <td>7.0</td>\n",
       "      <td>8.0</td>\n",
       "      <td>8.000</td>\n",
       "      <td>8.0</td>\n",
       "    </tr>\n",
       "    <tr>\n",
       "      <th>Temp9am</th>\n",
       "      <td>9955.0</td>\n",
       "      <td>16.992767</td>\n",
       "      <td>6.529187</td>\n",
       "      <td>-5.3</td>\n",
       "      <td>2.000</td>\n",
       "      <td>8.9</td>\n",
       "      <td>12.3</td>\n",
       "      <td>16.8</td>\n",
       "      <td>21.6</td>\n",
       "      <td>25.9</td>\n",
       "      <td>31.046</td>\n",
       "      <td>37.7</td>\n",
       "    </tr>\n",
       "    <tr>\n",
       "      <th>Temp3pm</th>\n",
       "      <td>9785.0</td>\n",
       "      <td>21.685478</td>\n",
       "      <td>6.968544</td>\n",
       "      <td>-4.4</td>\n",
       "      <td>7.300</td>\n",
       "      <td>13.2</td>\n",
       "      <td>16.7</td>\n",
       "      <td>21.0</td>\n",
       "      <td>26.5</td>\n",
       "      <td>31.2</td>\n",
       "      <td>38.400</td>\n",
       "      <td>43.6</td>\n",
       "    </tr>\n",
       "  </tbody>\n",
       "</table>\n",
       "</div>"
      ],
      "text/plain": [
       "                count         mean        std    min        1%     10%  \\\n",
       "MinTemp        9942.0    12.223516   6.404366   -6.9    -2.200     4.1   \n",
       "MaxTemp        9980.0    23.224128   7.147724   -4.1     8.579    14.5   \n",
       "Rainfall       9890.0     2.312912   7.873990    0.0     0.000     0.0   \n",
       "Evaporation    5640.0     5.378227   4.302460    0.0     0.339     1.4   \n",
       "Sunshine       5187.0     7.705456   3.733353    0.0     0.000     1.8   \n",
       "WindGustSpeed  9315.0    40.002040  13.767265    7.0    15.000    24.0   \n",
       "WindSpeed9am   9912.0    13.993442   8.977840    0.0     0.000     4.0   \n",
       "WindSpeed3pm   9790.0    18.743105   8.936644    0.0     2.000     9.0   \n",
       "Humidity9am    9901.0    68.848298  19.040314    5.0    18.000    44.0   \n",
       "Humidity3pm    9733.0    51.409021  20.744870    1.0     9.000    23.0   \n",
       "Pressure9am    8964.0  1017.680611   7.142705  982.0  1000.000  1008.8   \n",
       "Pressure3pm    8959.0  1015.279451   7.054675  985.5   998.800  1006.4   \n",
       "Cloud9am       6260.0     4.431150   2.871463    0.0     0.000     1.0   \n",
       "Cloud3pm       5941.0     4.473153   2.720572    0.0     0.000     1.0   \n",
       "Temp9am        9955.0    16.992767   6.529187   -5.3     2.000     8.9   \n",
       "Temp3pm        9785.0    21.685478   6.968544   -4.4     7.300    13.2   \n",
       "\n",
       "                  25%     50%     75%     90%       99%     max  \n",
       "MinTemp           7.6    12.0    16.9    20.8    25.800    29.4  \n",
       "MaxTemp          18.0    22.7    28.3    33.0    40.200    44.7  \n",
       "Rainfall          0.0     0.0     0.8     6.2    36.222   183.4  \n",
       "Evaporation       2.6     4.8     7.2     9.8    17.000   145.0  \n",
       "Sunshine          5.0     8.6    10.6    12.2    13.500    14.3  \n",
       "WindGustSpeed    31.0    39.0    48.0    57.0    83.000   117.0  \n",
       "WindSpeed9am      7.0    13.0    19.0    26.0    39.000    72.0  \n",
       "WindSpeed3pm     13.0    19.0    24.0    30.0    43.000    87.0  \n",
       "Humidity9am      57.0    70.0    83.0    94.0   100.000   100.0  \n",
       "Humidity3pm      36.0    52.0    65.0    79.0    97.000   100.0  \n",
       "Pressure9am    1013.0  1017.7  1022.4  1026.9  1034.000  1039.2  \n",
       "Pressure3pm    1010.5  1015.2  1020.0  1024.5  1031.500  1036.9  \n",
       "Cloud9am          1.0     5.0     7.0     8.0     8.000     8.0  \n",
       "Cloud3pm          2.0     5.0     7.0     8.0     8.000     8.0  \n",
       "Temp9am          12.3    16.8    21.6    25.9    31.046    37.7  \n",
       "Temp3pm          16.7    21.0    26.5    31.2    38.400    43.6  "
      ]
     },
     "execution_count": 12,
     "metadata": {},
     "output_type": "execute_result"
    }
   ],
   "source": [
    "df.describe([0.01,0.1,0.25,0.5,0.75,0.9,0.99]).T"
   ]
  },
  {
   "cell_type": "markdown",
   "metadata": {},
   "source": [
    "从中可以看出Cloud9am Cloud3am为分类变量，验证是否正确"
   ]
  },
  {
   "cell_type": "code",
   "execution_count": 13,
   "metadata": {},
   "outputs": [
    {
     "data": {
      "text/plain": [
       "array([ 1.,  5., nan,  7.,  6.,  0.,  4.,  3.,  8.,  2.])"
      ]
     },
     "execution_count": 13,
     "metadata": {},
     "output_type": "execute_result"
    }
   ],
   "source": [
    "df.Cloud9am.unique()"
   ]
  },
  {
   "cell_type": "code",
   "execution_count": 14,
   "metadata": {},
   "outputs": [
    {
     "data": {
      "text/plain": [
       "array([ 0.,  4., nan,  1.,  8.,  7.,  5.,  3.,  2.,  6.])"
      ]
     },
     "execution_count": 14,
     "metadata": {},
     "output_type": "execute_result"
    }
   ],
   "source": [
    "df.Cloud3pm.unique()"
   ]
  },
  {
   "cell_type": "code",
   "execution_count": 15,
   "metadata": {},
   "outputs": [],
   "source": [
    "# 查看其它分类变量"
   ]
  },
  {
   "cell_type": "code",
   "execution_count": 16,
   "metadata": {},
   "outputs": [
    {
     "data": {
      "text/plain": [
       "array(['SE', 'SW', 'ESE', 'ENE', 'NNE', 'WNW', 'S', 'SSW', 'WSW', 'N',\n",
       "       'SSE', 'NNW', 'NE', nan, 'E', 'W', 'NW'], dtype=object)"
      ]
     },
     "execution_count": 16,
     "metadata": {},
     "output_type": "execute_result"
    }
   ],
   "source": [
    "df.WindDir9am.unique()"
   ]
  },
  {
   "cell_type": "code",
   "execution_count": 17,
   "metadata": {},
   "outputs": [
    {
     "data": {
      "text/plain": [
       "array(['No', 'Yes'], dtype=object)"
      ]
     },
     "execution_count": 17,
     "metadata": {},
     "output_type": "execute_result"
    }
   ],
   "source": [
    "df.RainTomorrow.unique()"
   ]
  },
  {
   "cell_type": "code",
   "execution_count": 18,
   "metadata": {},
   "outputs": [],
   "source": [
    "# 提取数据集的特征和标签"
   ]
  },
  {
   "cell_type": "code",
   "execution_count": 19,
   "metadata": {},
   "outputs": [],
   "source": [
    "X = df.iloc[:,:-1]\n",
    "Y = df.iloc[:,-1]  "
   ]
  },
  {
   "cell_type": "code",
   "execution_count": 20,
   "metadata": {},
   "outputs": [
    {
     "name": "stdout",
     "output_type": "stream",
     "text": [
      "<class 'pandas.core.frame.DataFrame'> <class 'pandas.core.series.Series'>\n"
     ]
    }
   ],
   "source": [
    "print(type(X),type(Y))"
   ]
  },
  {
   "cell_type": "code",
   "execution_count": 21,
   "metadata": {},
   "outputs": [
    {
     "name": "stdout",
     "output_type": "stream",
     "text": [
      "(10000, 21) (10000,)\n"
     ]
    }
   ],
   "source": [
    "print(X.shape,Y.shape)"
   ]
  },
  {
   "cell_type": "code",
   "execution_count": 22,
   "metadata": {},
   "outputs": [
    {
     "data": {
      "text/plain": [
       "0    No\n",
       "1    No\n",
       "Name: RainTomorrow, dtype: object"
      ]
     },
     "execution_count": 22,
     "metadata": {},
     "output_type": "execute_result"
    }
   ],
   "source": [
    "Y.head(2)"
   ]
  },
  {
   "cell_type": "code",
   "execution_count": 23,
   "metadata": {},
   "outputs": [
    {
     "data": {
      "text/plain": [
       "No     7763\n",
       "Yes    2237\n",
       "Name: RainTomorrow, dtype: int64"
      ]
     },
     "execution_count": 23,
     "metadata": {},
     "output_type": "execute_result"
    }
   ],
   "source": [
    "Y.value_counts()"
   ]
  },
  {
   "cell_type": "code",
   "execution_count": 24,
   "metadata": {},
   "outputs": [],
   "source": [
    "# 切分数据集"
   ]
  },
  {
   "cell_type": "code",
   "execution_count": 25,
   "metadata": {},
   "outputs": [
    {
     "name": "stdout",
     "output_type": "stream",
     "text": [
      "(7000, 21) (7000,) (3000, 21) (3000,)\n"
     ]
    }
   ],
   "source": [
    "from sklearn.model_selection import train_test_split\n",
    "\n",
    "Xtrain,Xtest,Ytrain,Ytest = train_test_split(X,Y,test_size = 0.3,random_state = 420)\n",
    "\n",
    "print(Xtrain.shape,Ytrain.shape,Xtest.shape,Ytest.shape)"
   ]
  },
  {
   "cell_type": "code",
   "execution_count": 26,
   "metadata": {},
   "outputs": [],
   "source": [
    "# 恢复索引\n",
    "for i in [Xtrain,Xtest,Ytrain,Ytest]:\n",
    "    i.index = range(i.shape[0])"
   ]
  },
  {
   "cell_type": "markdown",
   "metadata": {},
   "source": [
    "## 2.探索标签"
   ]
  },
  {
   "cell_type": "code",
   "execution_count": 27,
   "metadata": {},
   "outputs": [],
   "source": [
    "# 探索标签不平衡问题"
   ]
  },
  {
   "cell_type": "code",
   "execution_count": 28,
   "metadata": {},
   "outputs": [
    {
     "data": {
      "text/plain": [
       "Text(0.5, 1.0, 'Ytest')"
      ]
     },
     "execution_count": 28,
     "metadata": {},
     "output_type": "execute_result"
    },
    {
     "data": {
      "image/png": "[encoded data removed]",
      "text/plain": [
       "<Figure size 864x432 with 2 Axes>"
      ]
     },
     "metadata": {},
     "output_type": "display_data"
    }
   ],
   "source": [
    "# 标签比例可视化\n",
    "f,ax = plt.subplots(1,2,figsize = (12,6))\n",
    "Ytrain.value_counts().plot.pie(explode=[0,0.1],autopct = '%.1f%%',shadow = True,ax =ax[0])\n",
    "Ytest.value_counts().plot.pie(explode=[0,0.1],autopct = '%.1f%%',shadow = True,ax = ax[1])\n",
    "ax[0].set_title('Ytrain')\n",
    "ax[1].set_title('Ytest')"
   ]
  },
  {
   "cell_type": "code",
   "execution_count": 29,
   "metadata": {},
   "outputs": [],
   "source": [
    "# 标签编码\n",
    "from sklearn.preprocessing import LabelEncoder\n",
    "LE = LabelEncoder()\n",
    "LE = LE.fit(Ytrain)\n",
    "Ytrain = LE.transform(Ytrain)\n",
    "Ytest = LE.transform(Ytest)"
   ]
  },
  {
   "cell_type": "code",
   "execution_count": 30,
   "metadata": {},
   "outputs": [
    {
     "name": "stdout",
     "output_type": "stream",
     "text": [
      "<class 'numpy.ndarray'> <class 'numpy.ndarray'>\n"
     ]
    }
   ],
   "source": [
    "print(type(Ytrain),type(Ytest)) # 编码后类型为数组"
   ]
  },
  {
   "cell_type": "code",
   "execution_count": 31,
   "metadata": {},
   "outputs": [
    {
     "data": {
      "text/plain": [
       "array(['No', 'Yes'], dtype=object)"
      ]
     },
     "execution_count": 31,
     "metadata": {},
     "output_type": "execute_result"
    }
   ],
   "source": [
    "LE.classes_"
   ]
  },
  {
   "cell_type": "code",
   "execution_count": 32,
   "metadata": {},
   "outputs": [
    {
     "name": "stdout",
     "output_type": "stream",
     "text": [
      "[0 1] [0 1]\n"
     ]
    }
   ],
   "source": [
    "print(np.unique(Ytrain),np.unique(Ytest))"
   ]
  },
  {
   "cell_type": "markdown",
   "metadata": {},
   "source": [
    "不下雨为0 下雨为1"
   ]
  },
  {
   "cell_type": "code",
   "execution_count": 33,
   "metadata": {},
   "outputs": [],
   "source": [
    "# 编码完成后变为dataframe\n",
    "Ytrain = pd.DataFrame(Ytrain)\n",
    "Ytest = pd.DataFrame(Ytest)"
   ]
  },
  {
   "cell_type": "markdown",
   "metadata": {},
   "source": [
    "## 3.异常值处理"
   ]
  },
  {
   "cell_type": "code",
   "execution_count": 34,
   "metadata": {},
   "outputs": [],
   "source": [
    "# 区分连续变量和分类变量"
   ]
  },
  {
   "cell_type": "code",
   "execution_count": 35,
   "metadata": {},
   "outputs": [
    {
     "data": {
      "text/html": [
       "<div>\n",
       "<style scoped>\n",
       "    .dataframe tbody tr th:only-of-type {\n",
       "        vertical-align: middle;\n",
       "    }\n",
       "\n",
       "    .dataframe tbody tr th {\n",
       "        vertical-align: top;\n",
       "    }\n",
       "\n",
       "    .dataframe thead th {\n",
       "        text-align: right;\n",
       "    }\n",
       "</style>\n",
       "<table border=\"1\" class=\"dataframe\">\n",
       "  <thead>\n",
       "    <tr style=\"text-align: right;\">\n",
       "      <th></th>\n",
       "      <th>count</th>\n",
       "      <th>mean</th>\n",
       "      <th>std</th>\n",
       "      <th>min</th>\n",
       "      <th>1%</th>\n",
       "      <th>10%</th>\n",
       "      <th>25%</th>\n",
       "      <th>50%</th>\n",
       "      <th>75%</th>\n",
       "      <th>90%</th>\n",
       "      <th>99%</th>\n",
       "      <th>max</th>\n",
       "    </tr>\n",
       "  </thead>\n",
       "  <tbody>\n",
       "    <tr>\n",
       "      <th>MinTemp</th>\n",
       "      <td>6959.0</td>\n",
       "      <td>12.163501</td>\n",
       "      <td>6.394985</td>\n",
       "      <td>-6.9</td>\n",
       "      <td>-2.242</td>\n",
       "      <td>4.1</td>\n",
       "      <td>7.6</td>\n",
       "      <td>11.9</td>\n",
       "      <td>16.8</td>\n",
       "      <td>20.7</td>\n",
       "      <td>25.800</td>\n",
       "      <td>29.4</td>\n",
       "    </tr>\n",
       "    <tr>\n",
       "      <th>MaxTemp</th>\n",
       "      <td>6984.0</td>\n",
       "      <td>23.121420</td>\n",
       "      <td>7.119224</td>\n",
       "      <td>-4.1</td>\n",
       "      <td>8.900</td>\n",
       "      <td>14.4</td>\n",
       "      <td>18.0</td>\n",
       "      <td>22.5</td>\n",
       "      <td>28.1</td>\n",
       "      <td>33.0</td>\n",
       "      <td>40.000</td>\n",
       "      <td>44.7</td>\n",
       "    </tr>\n",
       "    <tr>\n",
       "      <th>Rainfall</th>\n",
       "      <td>6932.0</td>\n",
       "      <td>2.344057</td>\n",
       "      <td>7.574423</td>\n",
       "      <td>0.0</td>\n",
       "      <td>0.000</td>\n",
       "      <td>0.0</td>\n",
       "      <td>0.0</td>\n",
       "      <td>0.0</td>\n",
       "      <td>0.8</td>\n",
       "      <td>6.6</td>\n",
       "      <td>36.076</td>\n",
       "      <td>159.8</td>\n",
       "    </tr>\n",
       "    <tr>\n",
       "      <th>Evaporation</th>\n",
       "      <td>3913.0</td>\n",
       "      <td>5.369844</td>\n",
       "      <td>4.515142</td>\n",
       "      <td>0.0</td>\n",
       "      <td>0.400</td>\n",
       "      <td>1.4</td>\n",
       "      <td>2.6</td>\n",
       "      <td>4.8</td>\n",
       "      <td>7.2</td>\n",
       "      <td>9.8</td>\n",
       "      <td>17.000</td>\n",
       "      <td>145.0</td>\n",
       "    </tr>\n",
       "    <tr>\n",
       "      <th>Sunshine</th>\n",
       "      <td>3621.0</td>\n",
       "      <td>7.648716</td>\n",
       "      <td>3.706407</td>\n",
       "      <td>0.0</td>\n",
       "      <td>0.000</td>\n",
       "      <td>1.8</td>\n",
       "      <td>5.0</td>\n",
       "      <td>8.5</td>\n",
       "      <td>10.5</td>\n",
       "      <td>12.0</td>\n",
       "      <td>13.500</td>\n",
       "      <td>14.3</td>\n",
       "    </tr>\n",
       "    <tr>\n",
       "      <th>WindGustSpeed</th>\n",
       "      <td>6504.0</td>\n",
       "      <td>40.060732</td>\n",
       "      <td>13.746441</td>\n",
       "      <td>7.0</td>\n",
       "      <td>15.000</td>\n",
       "      <td>24.0</td>\n",
       "      <td>31.0</td>\n",
       "      <td>39.0</td>\n",
       "      <td>48.0</td>\n",
       "      <td>57.0</td>\n",
       "      <td>81.000</td>\n",
       "      <td>117.0</td>\n",
       "    </tr>\n",
       "    <tr>\n",
       "      <th>WindSpeed9am</th>\n",
       "      <td>6938.0</td>\n",
       "      <td>13.994523</td>\n",
       "      <td>8.943674</td>\n",
       "      <td>0.0</td>\n",
       "      <td>0.000</td>\n",
       "      <td>4.0</td>\n",
       "      <td>7.0</td>\n",
       "      <td>13.0</td>\n",
       "      <td>19.0</td>\n",
       "      <td>26.0</td>\n",
       "      <td>39.000</td>\n",
       "      <td>72.0</td>\n",
       "    </tr>\n",
       "    <tr>\n",
       "      <th>WindSpeed3pm</th>\n",
       "      <td>6845.0</td>\n",
       "      <td>18.854785</td>\n",
       "      <td>8.908815</td>\n",
       "      <td>0.0</td>\n",
       "      <td>2.000</td>\n",
       "      <td>9.0</td>\n",
       "      <td>13.0</td>\n",
       "      <td>19.0</td>\n",
       "      <td>24.0</td>\n",
       "      <td>30.0</td>\n",
       "      <td>44.000</td>\n",
       "      <td>87.0</td>\n",
       "    </tr>\n",
       "    <tr>\n",
       "      <th>Humidity9am</th>\n",
       "      <td>6931.0</td>\n",
       "      <td>69.053095</td>\n",
       "      <td>18.989564</td>\n",
       "      <td>5.0</td>\n",
       "      <td>18.000</td>\n",
       "      <td>45.0</td>\n",
       "      <td>57.0</td>\n",
       "      <td>70.0</td>\n",
       "      <td>83.0</td>\n",
       "      <td>94.0</td>\n",
       "      <td>100.000</td>\n",
       "      <td>100.0</td>\n",
       "    </tr>\n",
       "    <tr>\n",
       "      <th>Humidity3pm</th>\n",
       "      <td>6809.0</td>\n",
       "      <td>51.608459</td>\n",
       "      <td>20.735195</td>\n",
       "      <td>3.0</td>\n",
       "      <td>8.080</td>\n",
       "      <td>23.0</td>\n",
       "      <td>37.0</td>\n",
       "      <td>52.0</td>\n",
       "      <td>66.0</td>\n",
       "      <td>79.0</td>\n",
       "      <td>97.000</td>\n",
       "      <td>100.0</td>\n",
       "    </tr>\n",
       "    <tr>\n",
       "      <th>Pressure9am</th>\n",
       "      <td>6271.0</td>\n",
       "      <td>1017.667071</td>\n",
       "      <td>7.144203</td>\n",
       "      <td>982.0</td>\n",
       "      <td>1000.000</td>\n",
       "      <td>1008.8</td>\n",
       "      <td>1013.1</td>\n",
       "      <td>1017.7</td>\n",
       "      <td>1022.4</td>\n",
       "      <td>1026.9</td>\n",
       "      <td>1034.200</td>\n",
       "      <td>1039.1</td>\n",
       "    </tr>\n",
       "    <tr>\n",
       "      <th>Pressure3pm</th>\n",
       "      <td>6267.0</td>\n",
       "      <td>1015.290139</td>\n",
       "      <td>7.036833</td>\n",
       "      <td>985.5</td>\n",
       "      <td>998.900</td>\n",
       "      <td>1006.4</td>\n",
       "      <td>1010.5</td>\n",
       "      <td>1015.3</td>\n",
       "      <td>1020.1</td>\n",
       "      <td>1024.4</td>\n",
       "      <td>1031.534</td>\n",
       "      <td>1036.9</td>\n",
       "    </tr>\n",
       "    <tr>\n",
       "      <th>Cloud9am</th>\n",
       "      <td>4380.0</td>\n",
       "      <td>4.500685</td>\n",
       "      <td>2.857145</td>\n",
       "      <td>0.0</td>\n",
       "      <td>0.000</td>\n",
       "      <td>1.0</td>\n",
       "      <td>1.0</td>\n",
       "      <td>5.0</td>\n",
       "      <td>7.0</td>\n",
       "      <td>8.0</td>\n",
       "      <td>8.000</td>\n",
       "      <td>8.0</td>\n",
       "    </tr>\n",
       "    <tr>\n",
       "      <th>Cloud3pm</th>\n",
       "      <td>4171.0</td>\n",
       "      <td>4.512107</td>\n",
       "      <td>2.708727</td>\n",
       "      <td>0.0</td>\n",
       "      <td>0.000</td>\n",
       "      <td>1.0</td>\n",
       "      <td>2.0</td>\n",
       "      <td>5.0</td>\n",
       "      <td>7.0</td>\n",
       "      <td>8.0</td>\n",
       "      <td>8.000</td>\n",
       "      <td>8.0</td>\n",
       "    </tr>\n",
       "    <tr>\n",
       "      <th>Temp9am</th>\n",
       "      <td>6970.0</td>\n",
       "      <td>16.903329</td>\n",
       "      <td>6.496566</td>\n",
       "      <td>-5.3</td>\n",
       "      <td>2.000</td>\n",
       "      <td>8.9</td>\n",
       "      <td>12.2</td>\n",
       "      <td>16.6</td>\n",
       "      <td>21.5</td>\n",
       "      <td>25.8</td>\n",
       "      <td>31.000</td>\n",
       "      <td>37.7</td>\n",
       "    </tr>\n",
       "    <tr>\n",
       "      <th>Temp3pm</th>\n",
       "      <td>6848.0</td>\n",
       "      <td>21.607550</td>\n",
       "      <td>6.956762</td>\n",
       "      <td>-4.4</td>\n",
       "      <td>7.400</td>\n",
       "      <td>13.1</td>\n",
       "      <td>16.7</td>\n",
       "      <td>20.9</td>\n",
       "      <td>26.4</td>\n",
       "      <td>31.2</td>\n",
       "      <td>38.400</td>\n",
       "      <td>43.6</td>\n",
       "    </tr>\n",
       "  </tbody>\n",
       "</table>\n",
       "</div>"
      ],
      "text/plain": [
       "                count         mean        std    min        1%     10%  \\\n",
       "MinTemp        6959.0    12.163501   6.394985   -6.9    -2.242     4.1   \n",
       "MaxTemp        6984.0    23.121420   7.119224   -4.1     8.900    14.4   \n",
       "Rainfall       6932.0     2.344057   7.574423    0.0     0.000     0.0   \n",
       "Evaporation    3913.0     5.369844   4.515142    0.0     0.400     1.4   \n",
       "Sunshine       3621.0     7.648716   3.706407    0.0     0.000     1.8   \n",
       "WindGustSpeed  6504.0    40.060732  13.746441    7.0    15.000    24.0   \n",
       "WindSpeed9am   6938.0    13.994523   8.943674    0.0     0.000     4.0   \n",
       "WindSpeed3pm   6845.0    18.854785   8.908815    0.0     2.000     9.0   \n",
       "Humidity9am    6931.0    69.053095  18.989564    5.0    18.000    45.0   \n",
       "Humidity3pm    6809.0    51.608459  20.735195    3.0     8.080    23.0   \n",
       "Pressure9am    6271.0  1017.667071   7.144203  982.0  1000.000  1008.8   \n",
       "Pressure3pm    6267.0  1015.290139   7.036833  985.5   998.900  1006.4   \n",
       "Cloud9am       4380.0     4.500685   2.857145    0.0     0.000     1.0   \n",
       "Cloud3pm       4171.0     4.512107   2.708727    0.0     0.000     1.0   \n",
       "Temp9am        6970.0    16.903329   6.496566   -5.3     2.000     8.9   \n",
       "Temp3pm        6848.0    21.607550   6.956762   -4.4     7.400    13.1   \n",
       "\n",
       "                  25%     50%     75%     90%       99%     max  \n",
       "MinTemp           7.6    11.9    16.8    20.7    25.800    29.4  \n",
       "MaxTemp          18.0    22.5    28.1    33.0    40.000    44.7  \n",
       "Rainfall          0.0     0.0     0.8     6.6    36.076   159.8  \n",
       "Evaporation       2.6     4.8     7.2     9.8    17.000   145.0  \n",
       "Sunshine          5.0     8.5    10.5    12.0    13.500    14.3  \n",
       "WindGustSpeed    31.0    39.0    48.0    57.0    81.000   117.0  \n",
       "WindSpeed9am      7.0    13.0    19.0    26.0    39.000    72.0  \n",
       "WindSpeed3pm     13.0    19.0    24.0    30.0    44.000    87.0  \n",
       "Humidity9am      57.0    70.0    83.0    94.0   100.000   100.0  \n",
       "Humidity3pm      37.0    52.0    66.0    79.0    97.000   100.0  \n",
       "Pressure9am    1013.1  1017.7  1022.4  1026.9  1034.200  1039.1  \n",
       "Pressure3pm    1010.5  1015.3  1020.1  1024.4  1031.534  1036.9  \n",
       "Cloud9am          1.0     5.0     7.0     8.0     8.000     8.0  \n",
       "Cloud3pm          2.0     5.0     7.0     8.0     8.000     8.0  \n",
       "Temp9am          12.2    16.6    21.5    25.8    31.000    37.7  \n",
       "Temp3pm          16.7    20.9    26.4    31.2    38.400    43.6  "
      ]
     },
     "execution_count": 35,
     "metadata": {},
     "output_type": "execute_result"
    }
   ],
   "source": [
    "Xtrain.describe([0.01,0.1,0.25,0.5,0.75,0.9,0.99]).T"
   ]
  },
  {
   "cell_type": "code",
   "execution_count": 36,
   "metadata": {},
   "outputs": [
    {
     "data": {
      "text/html": [
       "<div>\n",
       "<style scoped>\n",
       "    .dataframe tbody tr th:only-of-type {\n",
       "        vertical-align: middle;\n",
       "    }\n",
       "\n",
       "    .dataframe tbody tr th {\n",
       "        vertical-align: top;\n",
       "    }\n",
       "\n",
       "    .dataframe thead th {\n",
       "        text-align: right;\n",
       "    }\n",
       "</style>\n",
       "<table border=\"1\" class=\"dataframe\">\n",
       "  <thead>\n",
       "    <tr style=\"text-align: right;\">\n",
       "      <th></th>\n",
       "      <th>count</th>\n",
       "      <th>mean</th>\n",
       "      <th>std</th>\n",
       "      <th>min</th>\n",
       "      <th>1%</th>\n",
       "      <th>10%</th>\n",
       "      <th>25%</th>\n",
       "      <th>50%</th>\n",
       "      <th>75%</th>\n",
       "      <th>90%</th>\n",
       "      <th>99%</th>\n",
       "      <th>max</th>\n",
       "    </tr>\n",
       "  </thead>\n",
       "  <tbody>\n",
       "    <tr>\n",
       "      <th>MinTemp</th>\n",
       "      <td>2983.0</td>\n",
       "      <td>12.363527</td>\n",
       "      <td>6.425094</td>\n",
       "      <td>-5.1</td>\n",
       "      <td>-1.918</td>\n",
       "      <td>4.1</td>\n",
       "      <td>7.7</td>\n",
       "      <td>12.2</td>\n",
       "      <td>17.100</td>\n",
       "      <td>20.90</td>\n",
       "      <td>25.700</td>\n",
       "      <td>28.5</td>\n",
       "    </tr>\n",
       "    <tr>\n",
       "      <th>MaxTemp</th>\n",
       "      <td>2996.0</td>\n",
       "      <td>23.463551</td>\n",
       "      <td>7.209239</td>\n",
       "      <td>-1.7</td>\n",
       "      <td>8.295</td>\n",
       "      <td>14.7</td>\n",
       "      <td>18.0</td>\n",
       "      <td>23.0</td>\n",
       "      <td>28.625</td>\n",
       "      <td>33.10</td>\n",
       "      <td>40.500</td>\n",
       "      <td>43.9</td>\n",
       "    </tr>\n",
       "    <tr>\n",
       "      <th>Rainfall</th>\n",
       "      <td>2958.0</td>\n",
       "      <td>2.239926</td>\n",
       "      <td>8.535829</td>\n",
       "      <td>0.0</td>\n",
       "      <td>0.000</td>\n",
       "      <td>0.0</td>\n",
       "      <td>0.0</td>\n",
       "      <td>0.0</td>\n",
       "      <td>0.575</td>\n",
       "      <td>5.60</td>\n",
       "      <td>36.286</td>\n",
       "      <td>183.4</td>\n",
       "    </tr>\n",
       "    <tr>\n",
       "      <th>Evaporation</th>\n",
       "      <td>1727.0</td>\n",
       "      <td>5.397221</td>\n",
       "      <td>3.777681</td>\n",
       "      <td>0.0</td>\n",
       "      <td>0.200</td>\n",
       "      <td>1.4</td>\n",
       "      <td>2.6</td>\n",
       "      <td>4.8</td>\n",
       "      <td>7.400</td>\n",
       "      <td>10.20</td>\n",
       "      <td>16.548</td>\n",
       "      <td>56.0</td>\n",
       "    </tr>\n",
       "    <tr>\n",
       "      <th>Sunshine</th>\n",
       "      <td>1566.0</td>\n",
       "      <td>7.836654</td>\n",
       "      <td>3.792873</td>\n",
       "      <td>0.0</td>\n",
       "      <td>0.000</td>\n",
       "      <td>1.6</td>\n",
       "      <td>5.1</td>\n",
       "      <td>8.8</td>\n",
       "      <td>10.800</td>\n",
       "      <td>12.35</td>\n",
       "      <td>13.435</td>\n",
       "      <td>13.9</td>\n",
       "    </tr>\n",
       "    <tr>\n",
       "      <th>WindGustSpeed</th>\n",
       "      <td>2811.0</td>\n",
       "      <td>39.866240</td>\n",
       "      <td>13.816820</td>\n",
       "      <td>9.0</td>\n",
       "      <td>15.000</td>\n",
       "      <td>24.0</td>\n",
       "      <td>31.0</td>\n",
       "      <td>39.0</td>\n",
       "      <td>46.000</td>\n",
       "      <td>57.00</td>\n",
       "      <td>83.000</td>\n",
       "      <td>115.0</td>\n",
       "    </tr>\n",
       "    <tr>\n",
       "      <th>WindSpeed9am</th>\n",
       "      <td>2974.0</td>\n",
       "      <td>13.990921</td>\n",
       "      <td>9.058556</td>\n",
       "      <td>0.0</td>\n",
       "      <td>0.000</td>\n",
       "      <td>4.0</td>\n",
       "      <td>7.0</td>\n",
       "      <td>13.0</td>\n",
       "      <td>19.000</td>\n",
       "      <td>26.00</td>\n",
       "      <td>41.000</td>\n",
       "      <td>57.0</td>\n",
       "    </tr>\n",
       "    <tr>\n",
       "      <th>WindSpeed3pm</th>\n",
       "      <td>2945.0</td>\n",
       "      <td>18.483531</td>\n",
       "      <td>8.997159</td>\n",
       "      <td>0.0</td>\n",
       "      <td>2.000</td>\n",
       "      <td>7.0</td>\n",
       "      <td>11.0</td>\n",
       "      <td>17.0</td>\n",
       "      <td>24.000</td>\n",
       "      <td>30.00</td>\n",
       "      <td>43.000</td>\n",
       "      <td>76.0</td>\n",
       "    </tr>\n",
       "    <tr>\n",
       "      <th>Humidity9am</th>\n",
       "      <td>2970.0</td>\n",
       "      <td>68.370370</td>\n",
       "      <td>19.152915</td>\n",
       "      <td>5.0</td>\n",
       "      <td>18.000</td>\n",
       "      <td>43.0</td>\n",
       "      <td>56.0</td>\n",
       "      <td>69.0</td>\n",
       "      <td>82.000</td>\n",
       "      <td>94.00</td>\n",
       "      <td>100.000</td>\n",
       "      <td>100.0</td>\n",
       "    </tr>\n",
       "    <tr>\n",
       "      <th>Humidity3pm</th>\n",
       "      <td>2924.0</td>\n",
       "      <td>50.944596</td>\n",
       "      <td>20.763506</td>\n",
       "      <td>1.0</td>\n",
       "      <td>9.000</td>\n",
       "      <td>24.0</td>\n",
       "      <td>36.0</td>\n",
       "      <td>51.0</td>\n",
       "      <td>64.000</td>\n",
       "      <td>79.00</td>\n",
       "      <td>97.770</td>\n",
       "      <td>100.0</td>\n",
       "    </tr>\n",
       "    <tr>\n",
       "      <th>Pressure9am</th>\n",
       "      <td>2693.0</td>\n",
       "      <td>1017.712143</td>\n",
       "      <td>7.140441</td>\n",
       "      <td>994.9</td>\n",
       "      <td>1000.036</td>\n",
       "      <td>1008.7</td>\n",
       "      <td>1013.0</td>\n",
       "      <td>1017.7</td>\n",
       "      <td>1022.400</td>\n",
       "      <td>1027.10</td>\n",
       "      <td>1033.900</td>\n",
       "      <td>1039.2</td>\n",
       "    </tr>\n",
       "    <tr>\n",
       "      <th>Pressure3pm</th>\n",
       "      <td>2692.0</td>\n",
       "      <td>1015.254569</td>\n",
       "      <td>7.097288</td>\n",
       "      <td>988.5</td>\n",
       "      <td>998.191</td>\n",
       "      <td>1006.5</td>\n",
       "      <td>1010.5</td>\n",
       "      <td>1015.1</td>\n",
       "      <td>1019.900</td>\n",
       "      <td>1024.69</td>\n",
       "      <td>1031.300</td>\n",
       "      <td>1036.9</td>\n",
       "    </tr>\n",
       "    <tr>\n",
       "      <th>Cloud9am</th>\n",
       "      <td>1880.0</td>\n",
       "      <td>4.269149</td>\n",
       "      <td>2.898846</td>\n",
       "      <td>0.0</td>\n",
       "      <td>0.000</td>\n",
       "      <td>0.0</td>\n",
       "      <td>1.0</td>\n",
       "      <td>5.0</td>\n",
       "      <td>7.000</td>\n",
       "      <td>8.00</td>\n",
       "      <td>8.000</td>\n",
       "      <td>8.0</td>\n",
       "    </tr>\n",
       "    <tr>\n",
       "      <th>Cloud3pm</th>\n",
       "      <td>1770.0</td>\n",
       "      <td>4.381356</td>\n",
       "      <td>2.746866</td>\n",
       "      <td>0.0</td>\n",
       "      <td>0.000</td>\n",
       "      <td>1.0</td>\n",
       "      <td>1.0</td>\n",
       "      <td>5.0</td>\n",
       "      <td>7.000</td>\n",
       "      <td>8.00</td>\n",
       "      <td>8.000</td>\n",
       "      <td>8.0</td>\n",
       "    </tr>\n",
       "    <tr>\n",
       "      <th>Temp9am</th>\n",
       "      <td>2985.0</td>\n",
       "      <td>17.201608</td>\n",
       "      <td>6.601109</td>\n",
       "      <td>-3.4</td>\n",
       "      <td>2.084</td>\n",
       "      <td>9.0</td>\n",
       "      <td>12.3</td>\n",
       "      <td>17.1</td>\n",
       "      <td>21.900</td>\n",
       "      <td>26.10</td>\n",
       "      <td>31.216</td>\n",
       "      <td>37.7</td>\n",
       "    </tr>\n",
       "    <tr>\n",
       "      <th>Temp3pm</th>\n",
       "      <td>2937.0</td>\n",
       "      <td>21.867177</td>\n",
       "      <td>6.993751</td>\n",
       "      <td>-2.1</td>\n",
       "      <td>7.072</td>\n",
       "      <td>13.3</td>\n",
       "      <td>16.7</td>\n",
       "      <td>21.3</td>\n",
       "      <td>26.700</td>\n",
       "      <td>31.30</td>\n",
       "      <td>38.164</td>\n",
       "      <td>41.9</td>\n",
       "    </tr>\n",
       "  </tbody>\n",
       "</table>\n",
       "</div>"
      ],
      "text/plain": [
       "                count         mean        std    min        1%     10%  \\\n",
       "MinTemp        2983.0    12.363527   6.425094   -5.1    -1.918     4.1   \n",
       "MaxTemp        2996.0    23.463551   7.209239   -1.7     8.295    14.7   \n",
       "Rainfall       2958.0     2.239926   8.535829    0.0     0.000     0.0   \n",
       "Evaporation    1727.0     5.397221   3.777681    0.0     0.200     1.4   \n",
       "Sunshine       1566.0     7.836654   3.792873    0.0     0.000     1.6   \n",
       "WindGustSpeed  2811.0    39.866240  13.816820    9.0    15.000    24.0   \n",
       "WindSpeed9am   2974.0    13.990921   9.058556    0.0     0.000     4.0   \n",
       "WindSpeed3pm   2945.0    18.483531   8.997159    0.0     2.000     7.0   \n",
       "Humidity9am    2970.0    68.370370  19.152915    5.0    18.000    43.0   \n",
       "Humidity3pm    2924.0    50.944596  20.763506    1.0     9.000    24.0   \n",
       "Pressure9am    2693.0  1017.712143   7.140441  994.9  1000.036  1008.7   \n",
       "Pressure3pm    2692.0  1015.254569   7.097288  988.5   998.191  1006.5   \n",
       "Cloud9am       1880.0     4.269149   2.898846    0.0     0.000     0.0   \n",
       "Cloud3pm       1770.0     4.381356   2.746866    0.0     0.000     1.0   \n",
       "Temp9am        2985.0    17.201608   6.601109   -3.4     2.084     9.0   \n",
       "Temp3pm        2937.0    21.867177   6.993751   -2.1     7.072    13.3   \n",
       "\n",
       "                  25%     50%       75%      90%       99%     max  \n",
       "MinTemp           7.7    12.2    17.100    20.90    25.700    28.5  \n",
       "MaxTemp          18.0    23.0    28.625    33.10    40.500    43.9  \n",
       "Rainfall          0.0     0.0     0.575     5.60    36.286   183.4  \n",
       "Evaporation       2.6     4.8     7.400    10.20    16.548    56.0  \n",
       "Sunshine          5.1     8.8    10.800    12.35    13.435    13.9  \n",
       "WindGustSpeed    31.0    39.0    46.000    57.00    83.000   115.0  \n",
       "WindSpeed9am      7.0    13.0    19.000    26.00    41.000    57.0  \n",
       "WindSpeed3pm     11.0    17.0    24.000    30.00    43.000    76.0  \n",
       "Humidity9am      56.0    69.0    82.000    94.00   100.000   100.0  \n",
       "Humidity3pm      36.0    51.0    64.000    79.00    97.770   100.0  \n",
       "Pressure9am    1013.0  1017.7  1022.400  1027.10  1033.900  1039.2  \n",
       "Pressure3pm    1010.5  1015.1  1019.900  1024.69  1031.300  1036.9  \n",
       "Cloud9am          1.0     5.0     7.000     8.00     8.000     8.0  \n",
       "Cloud3pm          1.0     5.0     7.000     8.00     8.000     8.0  \n",
       "Temp9am          12.3    17.1    21.900    26.10    31.216    37.7  \n",
       "Temp3pm          16.7    21.3    26.700    31.30    38.164    41.9  "
      ]
     },
     "execution_count": 36,
     "metadata": {},
     "output_type": "execute_result"
    }
   ],
   "source": [
    "Xtest.describe([0.01,0.1,0.25,0.5,0.75,0.9,0.99]).T"
   ]
  },
  {
   "cell_type": "code",
   "execution_count": 37,
   "metadata": {},
   "outputs": [
    {
     "data": {
      "text/plain": [
       "['Date', 'Location', 'WindGustDir', 'WindDir9am', 'WindDir3pm']"
      ]
     },
     "execution_count": 37,
     "metadata": {},
     "output_type": "execute_result"
    }
   ],
   "source": [
    "# 建立分类变量列表\n",
    "categ_col = Xtrain.columns[Xtrain.dtypes=='object'].tolist()\n",
    "categ_col"
   ]
  },
  {
   "cell_type": "code",
   "execution_count": 38,
   "metadata": {},
   "outputs": [
    {
     "data": {
      "text/plain": [
       "['Date',\n",
       " 'Location',\n",
       " 'WindGustDir',\n",
       " 'WindDir9am',\n",
       " 'WindDir3pm',\n",
       " 'Cloud9am',\n",
       " 'Cloud3pm']"
      ]
     },
     "execution_count": 38,
     "metadata": {},
     "output_type": "execute_result"
    }
   ],
   "source": [
    "categ_col.extend(['Cloud9am','Cloud3pm'])   # 不能写成cate_col = cate_col.extent(['Cloud9am','Cloud3pm'])\n",
    "categ_col"
   ]
  },
  {
   "cell_type": "code",
   "execution_count": 39,
   "metadata": {},
   "outputs": [
    {
     "data": {
      "text/plain": [
       "['MinTemp',\n",
       " 'MaxTemp',\n",
       " 'Rainfall',\n",
       " 'Evaporation',\n",
       " 'Sunshine',\n",
       " 'WindGustSpeed',\n",
       " 'WindSpeed9am',\n",
       " 'WindSpeed3pm',\n",
       " 'Humidity9am',\n",
       " 'Humidity3pm',\n",
       " 'Pressure9am',\n",
       " 'Pressure3pm',\n",
       " 'Temp9am',\n",
       " 'Temp3pm']"
      ]
     },
     "execution_count": 39,
     "metadata": {},
     "output_type": "execute_result"
    }
   ],
   "source": [
    "# 建立连续变量列表\n",
    "cont_col = []\n",
    "for i in Xtrain.columns:\n",
    "    if i not in categ_col:\n",
    "        cont_col.append(i)\n",
    "        \n",
    "cont_col"
   ]
  },
  {
   "cell_type": "code",
   "execution_count": 40,
   "metadata": {},
   "outputs": [],
   "source": [
    "# 定义异常值 减去均值大于3倍标准差\n",
    "delxtrain = []\n",
    "for i in cont_col:\n",
    "    bool_ = np.abs((Xtrain.loc[:,i] - Xtrain[i].mean()) / Xtrain[i].std()) > 3\n",
    "    ind = Xtrain[bool_].index.tolist()\n",
    "    delxtrain.extend(ind)\n",
    "    \n",
    "deltrain = list(set(delxtrain))\n",
    "\n",
    "delxtest = []\n",
    "for i in cont_col:\n",
    "    bool_ = np.abs((Xtest.loc[:,i] - Xtrain[i].mean()) / Xtrain[i].std()) > 3\n",
    "    ind = Xtest[bool_].index.tolist()\n",
    "    delxtest.extend(ind)\n",
    "    \n",
    "deltest = list(set(delxtest))"
   ]
  },
  {
   "cell_type": "code",
   "execution_count": 41,
   "metadata": {},
   "outputs": [],
   "source": [
    "# 删除异常值\n",
    "Xtrain = Xtrain.drop(index=deltrain,axis=0)\n",
    "Ytrain = Ytrain.drop(index=deltrain,axis=0)\n",
    "Xtest = Xtest.drop(index=deltest,axis=0)\n",
    "Ytest = Ytest.drop(index=deltest,axis=0)"
   ]
  },
  {
   "cell_type": "code",
   "execution_count": 42,
   "metadata": {},
   "outputs": [
    {
     "name": "stdout",
     "output_type": "stream",
     "text": [
      "(6647, 21) (6647, 1) (2850, 21) (2850, 1)\n"
     ]
    }
   ],
   "source": [
    "# 检查行数\n",
    "print(Xtrain.shape,Ytrain.shape,Xtest.shape,Ytest.shape)"
   ]
  },
  {
   "cell_type": "code",
   "execution_count": 43,
   "metadata": {},
   "outputs": [
    {
     "data": {
      "text/plain": [
       "RangeIndex(start=0, stop=6647, step=1)"
      ]
     },
     "execution_count": 43,
     "metadata": {},
     "output_type": "execute_result"
    }
   ],
   "source": [
    "# 恢复索引\n",
    "for i in [Xtrain,Xtest,Ytrain,Ytest]:\n",
    "    i.index = range(i.shape[0])\n",
    "    \n",
    "Xtrain.index"
   ]
  },
  {
   "cell_type": "markdown",
   "metadata": {},
   "source": [
    "## 4.处理困难特征---日期"
   ]
  },
  {
   "cell_type": "code",
   "execution_count": 44,
   "metadata": {},
   "outputs": [],
   "source": [
    "# Date与Rainfall构建Raintoday\n",
    "# 将日期变为月份"
   ]
  },
  {
   "cell_type": "code",
   "execution_count": 45,
   "metadata": {},
   "outputs": [],
   "source": [
    "# 构建RainToday"
   ]
  },
  {
   "cell_type": "code",
   "execution_count": 46,
   "metadata": {},
   "outputs": [
    {
     "name": "stdout",
     "output_type": "stream",
     "text": [
      "68 39\n"
     ]
    }
   ],
   "source": [
    "# 检查Rainfall是否有缺失值\n",
    "print(Xtrain.Rainfall.isnull().sum(),Xtest.Rainfall.isnull().sum())"
   ]
  },
  {
   "cell_type": "code",
   "execution_count": 47,
   "metadata": {},
   "outputs": [],
   "source": [
    "# 构建Xtrain\n",
    "Xtrain.loc[Xtrain.Rainfall > 1,'Raintoday'] = 'yes'\n",
    "Xtrain.loc[Xtrain.Rainfall < 1,'Raintoday'] = 'no'\n",
    "Xtrain.loc[Xtrain.Rainfall.isnull(),'Raintoday'] = np.nan\n",
    "\n",
    "# 构建Xtest\n",
    "Xtest.loc[Xtest.Rainfall > 1,'Raintoday'] = 'yes'\n",
    "Xtest.loc[Xtest.Rainfall < 1,'Raintoday'] = 'no'\n",
    "Xtest.loc[Xtest.Rainfall.isnull(),'Raintoday'] = np.nan"
   ]
  },
  {
   "cell_type": "code",
   "execution_count": 48,
   "metadata": {},
   "outputs": [],
   "source": [
    "# 构建月份"
   ]
  },
  {
   "cell_type": "code",
   "execution_count": 49,
   "metadata": {},
   "outputs": [],
   "source": [
    "Xtrain['Date'] = Xtrain['Date'].apply(lambda x:int(x.split('-')[1]))\n",
    "Xtest['Date'] = Xtest['Date'].apply(lambda x:int(x.split('-')[1]))\n",
    "Xtrain.rename(columns = {'Date':'Month'},inplace = True)\n",
    "Xtest.rename(columns = {'Date':'Month'},inplace = True)"
   ]
  },
  {
   "cell_type": "markdown",
   "metadata": {},
   "source": [
    "## 5.处理分类变量缺失值"
   ]
  },
  {
   "cell_type": "code",
   "execution_count": 50,
   "metadata": {},
   "outputs": [],
   "source": [
    "# 重新整理categ_col\n",
    "categ_col.remove('Date')"
   ]
  },
  {
   "cell_type": "code",
   "execution_count": 51,
   "metadata": {},
   "outputs": [],
   "source": [
    "categ_col.extend(['Month','Raintoday'])"
   ]
  },
  {
   "cell_type": "code",
   "execution_count": 52,
   "metadata": {},
   "outputs": [
    {
     "data": {
      "text/plain": [
       "Location       0.000000\n",
       "WindGustDir    0.070709\n",
       "WindDir9am     0.073567\n",
       "WindDir3pm     0.028735\n",
       "Cloud9am       0.375508\n",
       "Cloud3pm       0.406349\n",
       "Month          0.000000\n",
       "Raintoday      0.026779\n",
       "dtype: float64"
      ]
     },
     "execution_count": 52,
     "metadata": {},
     "output_type": "execute_result"
    }
   ],
   "source": [
    "# 分类变量缺失值预览\n",
    "Xtrain[categ_col].isnull().mean()"
   ]
  },
  {
   "cell_type": "code",
   "execution_count": 53,
   "metadata": {},
   "outputs": [
    {
     "data": {
      "text/plain": [
       "Location       0.000000\n",
       "WindGustDir    0.064561\n",
       "WindDir9am     0.075789\n",
       "WindDir3pm     0.027018\n",
       "Cloud9am       0.374386\n",
       "Cloud3pm       0.410526\n",
       "Month          0.000000\n",
       "Raintoday      0.025614\n",
       "dtype: float64"
      ]
     },
     "execution_count": 53,
     "metadata": {},
     "output_type": "execute_result"
    }
   ],
   "source": [
    "Xtest[categ_col].isnull().mean()"
   ]
  },
  {
   "cell_type": "code",
   "execution_count": 54,
   "metadata": {},
   "outputs": [],
   "source": [
    "# 利用每个月份的众数填充"
   ]
  },
  {
   "cell_type": "code",
   "execution_count": 55,
   "metadata": {},
   "outputs": [
    {
     "data": {
      "text/plain": [
       "['WindGustDir',\n",
       " 'WindDir9am',\n",
       " 'WindDir3pm',\n",
       " 'Cloud9am',\n",
       " 'Cloud3pm',\n",
       " 'Raintoday']"
      ]
     },
     "execution_count": 55,
     "metadata": {},
     "output_type": "execute_result"
    }
   ],
   "source": [
    "# 需要用众数填充的列\n",
    "categ_mode = Xtrain[categ_col].isnull().mean()[Xtrain[categ_col].isnull().mean() > 0].index.tolist()\n",
    "categ_mode"
   ]
  },
  {
   "cell_type": "code",
   "execution_count": 56,
   "metadata": {},
   "outputs": [
    {
     "data": {
      "text/html": [
       "<div>\n",
       "<style scoped>\n",
       "    .dataframe tbody tr th:only-of-type {\n",
       "        vertical-align: middle;\n",
       "    }\n",
       "\n",
       "    .dataframe tbody tr th {\n",
       "        vertical-align: top;\n",
       "    }\n",
       "\n",
       "    .dataframe thead th {\n",
       "        text-align: right;\n",
       "    }\n",
       "</style>\n",
       "<table border=\"1\" class=\"dataframe\">\n",
       "  <thead>\n",
       "    <tr style=\"text-align: right;\">\n",
       "      <th></th>\n",
       "      <th>WindGustDir</th>\n",
       "    </tr>\n",
       "    <tr>\n",
       "      <th>Month</th>\n",
       "      <th></th>\n",
       "    </tr>\n",
       "  </thead>\n",
       "  <tbody>\n",
       "    <tr>\n",
       "      <th>1</th>\n",
       "      <td>S</td>\n",
       "    </tr>\n",
       "    <tr>\n",
       "      <th>2</th>\n",
       "      <td>SSE</td>\n",
       "    </tr>\n",
       "    <tr>\n",
       "      <th>3</th>\n",
       "      <td>E</td>\n",
       "    </tr>\n",
       "    <tr>\n",
       "      <th>4</th>\n",
       "      <td>E</td>\n",
       "    </tr>\n",
       "    <tr>\n",
       "      <th>5</th>\n",
       "      <td>N</td>\n",
       "    </tr>\n",
       "    <tr>\n",
       "      <th>6</th>\n",
       "      <td>S</td>\n",
       "    </tr>\n",
       "    <tr>\n",
       "      <th>7</th>\n",
       "      <td>W</td>\n",
       "    </tr>\n",
       "    <tr>\n",
       "      <th>8</th>\n",
       "      <td>WNW</td>\n",
       "    </tr>\n",
       "    <tr>\n",
       "      <th>9</th>\n",
       "      <td>W</td>\n",
       "    </tr>\n",
       "    <tr>\n",
       "      <th>10</th>\n",
       "      <td>E</td>\n",
       "    </tr>\n",
       "    <tr>\n",
       "      <th>11</th>\n",
       "      <td>ENE</td>\n",
       "    </tr>\n",
       "    <tr>\n",
       "      <th>12</th>\n",
       "      <td>SSE</td>\n",
       "    </tr>\n",
       "  </tbody>\n",
       "</table>\n",
       "</div>"
      ],
      "text/plain": [
       "      WindGustDir\n",
       "Month            \n",
       "1               S\n",
       "2             SSE\n",
       "3               E\n",
       "4               E\n",
       "5               N\n",
       "6               S\n",
       "7               W\n",
       "8             WNW\n",
       "9               W\n",
       "10              E\n",
       "11            ENE\n",
       "12            SSE"
      ]
     },
     "execution_count": 56,
     "metadata": {},
     "output_type": "execute_result"
    }
   ],
   "source": [
    "mode_tab = pd.DataFrame(Xtrain[categ_mode[0]].groupby(Xtrain.Month).agg(lambda x:list((pd.Series.mode(x)))[0]))  # 先变成df\n",
    "mode_tab"
   ]
  },
  {
   "cell_type": "code",
   "execution_count": 57,
   "metadata": {},
   "outputs": [
    {
     "data": {
      "text/html": [
       "<div>\n",
       "<style scoped>\n",
       "    .dataframe tbody tr th:only-of-type {\n",
       "        vertical-align: middle;\n",
       "    }\n",
       "\n",
       "    .dataframe tbody tr th {\n",
       "        vertical-align: top;\n",
       "    }\n",
       "\n",
       "    .dataframe thead th {\n",
       "        text-align: right;\n",
       "    }\n",
       "</style>\n",
       "<table border=\"1\" class=\"dataframe\">\n",
       "  <thead>\n",
       "    <tr style=\"text-align: right;\">\n",
       "      <th></th>\n",
       "      <th>Month</th>\n",
       "      <th>WindGustDir</th>\n",
       "      <th>WindDir9am</th>\n",
       "      <th>WindDir3pm</th>\n",
       "      <th>Cloud9am</th>\n",
       "      <th>Cloud3pm</th>\n",
       "      <th>Raintoday</th>\n",
       "    </tr>\n",
       "  </thead>\n",
       "  <tbody>\n",
       "    <tr>\n",
       "      <th>0</th>\n",
       "      <td>1</td>\n",
       "      <td>S</td>\n",
       "      <td>SE</td>\n",
       "      <td>SE</td>\n",
       "      <td>7.0</td>\n",
       "      <td>7.0</td>\n",
       "      <td>no</td>\n",
       "    </tr>\n",
       "    <tr>\n",
       "      <th>1</th>\n",
       "      <td>2</td>\n",
       "      <td>SSE</td>\n",
       "      <td>SE</td>\n",
       "      <td>SSE</td>\n",
       "      <td>7.0</td>\n",
       "      <td>7.0</td>\n",
       "      <td>no</td>\n",
       "    </tr>\n",
       "    <tr>\n",
       "      <th>2</th>\n",
       "      <td>3</td>\n",
       "      <td>E</td>\n",
       "      <td>SSE</td>\n",
       "      <td>SE</td>\n",
       "      <td>7.0</td>\n",
       "      <td>7.0</td>\n",
       "      <td>no</td>\n",
       "    </tr>\n",
       "    <tr>\n",
       "      <th>3</th>\n",
       "      <td>4</td>\n",
       "      <td>E</td>\n",
       "      <td>N</td>\n",
       "      <td>S</td>\n",
       "      <td>7.0</td>\n",
       "      <td>7.0</td>\n",
       "      <td>no</td>\n",
       "    </tr>\n",
       "    <tr>\n",
       "      <th>4</th>\n",
       "      <td>5</td>\n",
       "      <td>N</td>\n",
       "      <td>NW</td>\n",
       "      <td>N</td>\n",
       "      <td>7.0</td>\n",
       "      <td>7.0</td>\n",
       "      <td>no</td>\n",
       "    </tr>\n",
       "    <tr>\n",
       "      <th>5</th>\n",
       "      <td>6</td>\n",
       "      <td>S</td>\n",
       "      <td>NW</td>\n",
       "      <td>S</td>\n",
       "      <td>7.0</td>\n",
       "      <td>7.0</td>\n",
       "      <td>no</td>\n",
       "    </tr>\n",
       "    <tr>\n",
       "      <th>6</th>\n",
       "      <td>7</td>\n",
       "      <td>W</td>\n",
       "      <td>N</td>\n",
       "      <td>W</td>\n",
       "      <td>7.0</td>\n",
       "      <td>7.0</td>\n",
       "      <td>no</td>\n",
       "    </tr>\n",
       "    <tr>\n",
       "      <th>7</th>\n",
       "      <td>8</td>\n",
       "      <td>WNW</td>\n",
       "      <td>N</td>\n",
       "      <td>W</td>\n",
       "      <td>7.0</td>\n",
       "      <td>7.0</td>\n",
       "      <td>no</td>\n",
       "    </tr>\n",
       "    <tr>\n",
       "      <th>8</th>\n",
       "      <td>9</td>\n",
       "      <td>W</td>\n",
       "      <td>N</td>\n",
       "      <td>WSW</td>\n",
       "      <td>7.0</td>\n",
       "      <td>7.0</td>\n",
       "      <td>no</td>\n",
       "    </tr>\n",
       "    <tr>\n",
       "      <th>9</th>\n",
       "      <td>10</td>\n",
       "      <td>E</td>\n",
       "      <td>N</td>\n",
       "      <td>SW</td>\n",
       "      <td>7.0</td>\n",
       "      <td>1.0</td>\n",
       "      <td>no</td>\n",
       "    </tr>\n",
       "    <tr>\n",
       "      <th>10</th>\n",
       "      <td>11</td>\n",
       "      <td>ENE</td>\n",
       "      <td>SE</td>\n",
       "      <td>WSW</td>\n",
       "      <td>7.0</td>\n",
       "      <td>7.0</td>\n",
       "      <td>no</td>\n",
       "    </tr>\n",
       "    <tr>\n",
       "      <th>11</th>\n",
       "      <td>12</td>\n",
       "      <td>SSE</td>\n",
       "      <td>SSE</td>\n",
       "      <td>SSE</td>\n",
       "      <td>7.0</td>\n",
       "      <td>7.0</td>\n",
       "      <td>no</td>\n",
       "    </tr>\n",
       "  </tbody>\n",
       "</table>\n",
       "</div>"
      ],
      "text/plain": [
       "    Month WindGustDir WindDir9am WindDir3pm  Cloud9am  Cloud3pm Raintoday\n",
       "0       1           S         SE         SE       7.0       7.0        no\n",
       "1       2         SSE         SE        SSE       7.0       7.0        no\n",
       "2       3           E        SSE         SE       7.0       7.0        no\n",
       "3       4           E          N          S       7.0       7.0        no\n",
       "4       5           N         NW          N       7.0       7.0        no\n",
       "5       6           S         NW          S       7.0       7.0        no\n",
       "6       7           W          N          W       7.0       7.0        no\n",
       "7       8         WNW          N          W       7.0       7.0        no\n",
       "8       9           W          N        WSW       7.0       7.0        no\n",
       "9      10           E          N         SW       7.0       1.0        no\n",
       "10     11         ENE         SE        WSW       7.0       7.0        no\n",
       "11     12         SSE        SSE        SSE       7.0       7.0        no"
      ]
     },
     "execution_count": 57,
     "metadata": {},
     "output_type": "execute_result"
    }
   ],
   "source": [
    "for var in categ_mode[1:]:\n",
    "    mode_tab[var] = Xtrain[var].groupby(Xtrain.Month).agg(lambda x:list((pd.Series.mode(x)))[0])\n",
    "mode_tab = mode_tab.reset_index()    \n",
    "mode_tab"
   ]
  },
  {
   "cell_type": "code",
   "execution_count": 58,
   "metadata": {},
   "outputs": [],
   "source": [
    "for var in categ_mode:\n",
    "    for i in Xtrain[Xtrain[var].isnull()].index.tolist():\n",
    "        ind = Xtrain.loc[i,'Month'] - 1\n",
    "        Xtrain.loc[i,var] = mode_tab.loc[ind,var]"
   ]
  },
  {
   "cell_type": "code",
   "execution_count": 59,
   "metadata": {},
   "outputs": [
    {
     "data": {
      "text/plain": [
       "WindGustDir    0.0\n",
       "WindDir9am     0.0\n",
       "WindDir3pm     0.0\n",
       "Cloud9am       0.0\n",
       "Cloud3pm       0.0\n",
       "Raintoday      0.0\n",
       "dtype: float64"
      ]
     },
     "execution_count": 59,
     "metadata": {},
     "output_type": "execute_result"
    }
   ],
   "source": [
    "Xtrain[categ_mode].isnull().mean()"
   ]
  },
  {
   "cell_type": "code",
   "execution_count": 60,
   "metadata": {},
   "outputs": [],
   "source": [
    "for var in categ_mode:\n",
    "    for i in Xtest[Xtest[var].isnull()].index.tolist():\n",
    "        ind = Xtest.loc[i,'Month'] - 1\n",
    "        Xtest.loc[i,var] = mode_tab.loc[ind,var]"
   ]
  },
  {
   "cell_type": "code",
   "execution_count": 61,
   "metadata": {},
   "outputs": [
    {
     "data": {
      "text/plain": [
       "WindGustDir    0.0\n",
       "WindDir9am     0.0\n",
       "WindDir3pm     0.0\n",
       "Cloud9am       0.0\n",
       "Cloud3pm       0.0\n",
       "Raintoday      0.0\n",
       "dtype: float64"
      ]
     },
     "execution_count": 61,
     "metadata": {},
     "output_type": "execute_result"
    }
   ],
   "source": [
    "Xtest[categ_mode].isnull().mean()"
   ]
  },
  {
   "cell_type": "code",
   "execution_count": 62,
   "metadata": {},
   "outputs": [],
   "source": [
    "# 备份数据\n",
    "Xtrain_copy = Xtrain.copy()\n",
    "Ytrain_copy = Ytrain.copy()\n",
    "Xtest_copy = Xtest.copy()\n",
    "Ytest_copy = Ytest.copy()"
   ]
  },
  {
   "cell_type": "markdown",
   "metadata": {},
   "source": [
    "## 6.处理连续变量缺失值"
   ]
  },
  {
   "cell_type": "code",
   "execution_count": 96,
   "metadata": {},
   "outputs": [],
   "source": [
    "# 利用当月平均值进行填充"
   ]
  },
  {
   "cell_type": "code",
   "execution_count": 64,
   "metadata": {},
   "outputs": [
    {
     "data": {
      "text/plain": [
       "MinTemp          0.006018\n",
       "MaxTemp          0.002257\n",
       "Rainfall         0.010230\n",
       "Evaporation      0.441853\n",
       "Sunshine         0.482925\n",
       "WindGustSpeed    0.070107\n",
       "WindSpeed9am     0.009027\n",
       "WindSpeed3pm     0.021814\n",
       "Humidity9am      0.009328\n",
       "Humidity3pm      0.026478\n",
       "Pressure9am      0.103806\n",
       "Pressure3pm      0.104408\n",
       "Temp9am          0.003611\n",
       "Temp3pm          0.020761\n",
       "dtype: float64"
      ]
     },
     "execution_count": 64,
     "metadata": {},
     "output_type": "execute_result"
    }
   ],
   "source": [
    "Xtrain[cont_col].isnull().mean()"
   ]
  },
  {
   "cell_type": "code",
   "execution_count": 65,
   "metadata": {},
   "outputs": [
    {
     "data": {
      "text/plain": [
       "MinTemp          0.005614\n",
       "MaxTemp          0.001404\n",
       "Rainfall         0.013684\n",
       "Evaporation      0.421404\n",
       "Sunshine         0.476140\n",
       "WindGustSpeed    0.063860\n",
       "WindSpeed9am     0.008070\n",
       "WindSpeed3pm     0.018246\n",
       "Humidity9am      0.009825\n",
       "Humidity3pm      0.025263\n",
       "Pressure9am      0.100351\n",
       "Pressure3pm      0.101053\n",
       "Temp9am          0.004912\n",
       "Temp3pm          0.021053\n",
       "dtype: float64"
      ]
     },
     "execution_count": 65,
     "metadata": {},
     "output_type": "execute_result"
    }
   ],
   "source": [
    "Xtest[cont_col].isnull().mean()"
   ]
  },
  {
   "cell_type": "code",
   "execution_count": 66,
   "metadata": {},
   "outputs": [
    {
     "data": {
      "text/html": [
       "<div>\n",
       "<style scoped>\n",
       "    .dataframe tbody tr th:only-of-type {\n",
       "        vertical-align: middle;\n",
       "    }\n",
       "\n",
       "    .dataframe tbody tr th {\n",
       "        vertical-align: top;\n",
       "    }\n",
       "\n",
       "    .dataframe thead th {\n",
       "        text-align: right;\n",
       "    }\n",
       "</style>\n",
       "<table border=\"1\" class=\"dataframe\">\n",
       "  <thead>\n",
       "    <tr style=\"text-align: right;\">\n",
       "      <th></th>\n",
       "      <th>MinTemp</th>\n",
       "    </tr>\n",
       "    <tr>\n",
       "      <th>Month</th>\n",
       "      <th></th>\n",
       "    </tr>\n",
       "  </thead>\n",
       "  <tbody>\n",
       "    <tr>\n",
       "      <th>1</th>\n",
       "      <td>17.111512</td>\n",
       "    </tr>\n",
       "    <tr>\n",
       "      <th>2</th>\n",
       "      <td>17.295670</td>\n",
       "    </tr>\n",
       "    <tr>\n",
       "      <th>3</th>\n",
       "      <td>15.771405</td>\n",
       "    </tr>\n",
       "    <tr>\n",
       "      <th>4</th>\n",
       "      <td>12.849472</td>\n",
       "    </tr>\n",
       "    <tr>\n",
       "      <th>5</th>\n",
       "      <td>8.929077</td>\n",
       "    </tr>\n",
       "    <tr>\n",
       "      <th>6</th>\n",
       "      <td>7.538682</td>\n",
       "    </tr>\n",
       "    <tr>\n",
       "      <th>7</th>\n",
       "      <td>7.145747</td>\n",
       "    </tr>\n",
       "    <tr>\n",
       "      <th>8</th>\n",
       "      <td>7.390714</td>\n",
       "    </tr>\n",
       "    <tr>\n",
       "      <th>9</th>\n",
       "      <td>9.882400</td>\n",
       "    </tr>\n",
       "    <tr>\n",
       "      <th>10</th>\n",
       "      <td>11.828599</td>\n",
       "    </tr>\n",
       "    <tr>\n",
       "      <th>11</th>\n",
       "      <td>14.384436</td>\n",
       "    </tr>\n",
       "    <tr>\n",
       "      <th>12</th>\n",
       "      <td>15.553239</td>\n",
       "    </tr>\n",
       "  </tbody>\n",
       "</table>\n",
       "</div>"
      ],
      "text/plain": [
       "         MinTemp\n",
       "Month           \n",
       "1      17.111512\n",
       "2      17.295670\n",
       "3      15.771405\n",
       "4      12.849472\n",
       "5       8.929077\n",
       "6       7.538682\n",
       "7       7.145747\n",
       "8       7.390714\n",
       "9       9.882400\n",
       "10     11.828599\n",
       "11     14.384436\n",
       "12     15.553239"
      ]
     },
     "execution_count": 66,
     "metadata": {},
     "output_type": "execute_result"
    }
   ],
   "source": [
    "mean_tab = pd.DataFrame(Xtrain[cont_col[0]].groupby(Xtrain.Month).mean())\n",
    "mean_tab"
   ]
  },
  {
   "cell_type": "code",
   "execution_count": 67,
   "metadata": {},
   "outputs": [
    {
     "data": {
      "text/html": [
       "<div>\n",
       "<style scoped>\n",
       "    .dataframe tbody tr th:only-of-type {\n",
       "        vertical-align: middle;\n",
       "    }\n",
       "\n",
       "    .dataframe tbody tr th {\n",
       "        vertical-align: top;\n",
       "    }\n",
       "\n",
       "    .dataframe thead th {\n",
       "        text-align: right;\n",
       "    }\n",
       "</style>\n",
       "<table border=\"1\" class=\"dataframe\">\n",
       "  <thead>\n",
       "    <tr style=\"text-align: right;\">\n",
       "      <th></th>\n",
       "      <th>Month</th>\n",
       "      <th>MinTemp</th>\n",
       "      <th>MaxTemp</th>\n",
       "      <th>Rainfall</th>\n",
       "      <th>Evaporation</th>\n",
       "      <th>Sunshine</th>\n",
       "      <th>WindGustSpeed</th>\n",
       "      <th>WindSpeed9am</th>\n",
       "      <th>WindSpeed3pm</th>\n",
       "      <th>Humidity9am</th>\n",
       "      <th>Humidity3pm</th>\n",
       "      <th>Pressure9am</th>\n",
       "      <th>Pressure3pm</th>\n",
       "      <th>Temp9am</th>\n",
       "      <th>Temp3pm</th>\n",
       "    </tr>\n",
       "  </thead>\n",
       "  <tbody>\n",
       "    <tr>\n",
       "      <th>0</th>\n",
       "      <td>1</td>\n",
       "      <td>17.111512</td>\n",
       "      <td>29.138095</td>\n",
       "      <td>1.167354</td>\n",
       "      <td>7.970262</td>\n",
       "      <td>9.493884</td>\n",
       "      <td>42.273224</td>\n",
       "      <td>14.758148</td>\n",
       "      <td>20.350694</td>\n",
       "      <td>62.066553</td>\n",
       "      <td>45.979203</td>\n",
       "      <td>1013.150659</td>\n",
       "      <td>1010.918797</td>\n",
       "      <td>22.181431</td>\n",
       "      <td>27.334083</td>\n",
       "    </tr>\n",
       "    <tr>\n",
       "      <th>1</th>\n",
       "      <td>2</td>\n",
       "      <td>17.295670</td>\n",
       "      <td>28.372541</td>\n",
       "      <td>1.369375</td>\n",
       "      <td>7.145000</td>\n",
       "      <td>8.970196</td>\n",
       "      <td>41.701559</td>\n",
       "      <td>14.623701</td>\n",
       "      <td>19.467230</td>\n",
       "      <td>66.278351</td>\n",
       "      <td>48.241015</td>\n",
       "      <td>1015.102968</td>\n",
       "      <td>1013.051826</td>\n",
       "      <td>21.408436</td>\n",
       "      <td>26.749683</td>\n",
       "    </tr>\n",
       "    <tr>\n",
       "      <th>2</th>\n",
       "      <td>3</td>\n",
       "      <td>15.771405</td>\n",
       "      <td>27.272150</td>\n",
       "      <td>1.400985</td>\n",
       "      <td>5.811699</td>\n",
       "      <td>7.699088</td>\n",
       "      <td>38.560633</td>\n",
       "      <td>12.260229</td>\n",
       "      <td>17.917492</td>\n",
       "      <td>70.770867</td>\n",
       "      <td>49.048093</td>\n",
       "      <td>1016.552007</td>\n",
       "      <td>1014.271715</td>\n",
       "      <td>19.797064</td>\n",
       "      <td>25.743729</td>\n",
       "    </tr>\n",
       "    <tr>\n",
       "      <th>3</th>\n",
       "      <td>4</td>\n",
       "      <td>12.849472</td>\n",
       "      <td>23.984303</td>\n",
       "      <td>1.337743</td>\n",
       "      <td>4.190415</td>\n",
       "      <td>7.086159</td>\n",
       "      <td>35.456238</td>\n",
       "      <td>12.336861</td>\n",
       "      <td>16.318584</td>\n",
       "      <td>69.875887</td>\n",
       "      <td>51.280576</td>\n",
       "      <td>1019.847217</td>\n",
       "      <td>1017.019770</td>\n",
       "      <td>17.852557</td>\n",
       "      <td>22.512522</td>\n",
       "    </tr>\n",
       "    <tr>\n",
       "      <th>4</th>\n",
       "      <td>5</td>\n",
       "      <td>8.929077</td>\n",
       "      <td>19.338132</td>\n",
       "      <td>1.664606</td>\n",
       "      <td>2.963793</td>\n",
       "      <td>6.222684</td>\n",
       "      <td>34.616915</td>\n",
       "      <td>11.702619</td>\n",
       "      <td>15.992138</td>\n",
       "      <td>76.129283</td>\n",
       "      <td>55.263911</td>\n",
       "      <td>1020.710995</td>\n",
       "      <td>1018.363573</td>\n",
       "      <td>13.352761</td>\n",
       "      <td>18.145298</td>\n",
       "    </tr>\n",
       "    <tr>\n",
       "      <th>5</th>\n",
       "      <td>6</td>\n",
       "      <td>7.538682</td>\n",
       "      <td>17.258794</td>\n",
       "      <td>1.819529</td>\n",
       "      <td>2.523323</td>\n",
       "      <td>5.873244</td>\n",
       "      <td>35.034296</td>\n",
       "      <td>11.854730</td>\n",
       "      <td>15.858362</td>\n",
       "      <td>79.278438</td>\n",
       "      <td>59.878007</td>\n",
       "      <td>1021.900936</td>\n",
       "      <td>1019.634953</td>\n",
       "      <td>11.312584</td>\n",
       "      <td>16.073129</td>\n",
       "    </tr>\n",
       "    <tr>\n",
       "      <th>6</th>\n",
       "      <td>7</td>\n",
       "      <td>7.145747</td>\n",
       "      <td>17.213585</td>\n",
       "      <td>1.769466</td>\n",
       "      <td>2.765190</td>\n",
       "      <td>6.195105</td>\n",
       "      <td>36.559118</td>\n",
       "      <td>12.541825</td>\n",
       "      <td>17.528626</td>\n",
       "      <td>76.226667</td>\n",
       "      <td>55.859345</td>\n",
       "      <td>1021.328216</td>\n",
       "      <td>1018.910373</td>\n",
       "      <td>11.084340</td>\n",
       "      <td>16.071319</td>\n",
       "    </tr>\n",
       "    <tr>\n",
       "      <th>7</th>\n",
       "      <td>8</td>\n",
       "      <td>7.390714</td>\n",
       "      <td>18.227807</td>\n",
       "      <td>1.669107</td>\n",
       "      <td>3.528840</td>\n",
       "      <td>7.281034</td>\n",
       "      <td>39.311069</td>\n",
       "      <td>13.089606</td>\n",
       "      <td>18.882784</td>\n",
       "      <td>72.636691</td>\n",
       "      <td>53.240223</td>\n",
       "      <td>1019.976832</td>\n",
       "      <td>1017.369505</td>\n",
       "      <td>12.251246</td>\n",
       "      <td>16.931009</td>\n",
       "    </tr>\n",
       "    <tr>\n",
       "      <th>8</th>\n",
       "      <td>9</td>\n",
       "      <td>9.882400</td>\n",
       "      <td>21.142600</td>\n",
       "      <td>1.452209</td>\n",
       "      <td>4.815328</td>\n",
       "      <td>8.028340</td>\n",
       "      <td>41.929638</td>\n",
       "      <td>15.317907</td>\n",
       "      <td>19.946830</td>\n",
       "      <td>64.563126</td>\n",
       "      <td>50.611789</td>\n",
       "      <td>1018.277925</td>\n",
       "      <td>1015.339602</td>\n",
       "      <td>15.744000</td>\n",
       "      <td>19.583537</td>\n",
       "    </tr>\n",
       "    <tr>\n",
       "      <th>9</th>\n",
       "      <td>10</td>\n",
       "      <td>11.828599</td>\n",
       "      <td>23.549237</td>\n",
       "      <td>1.189341</td>\n",
       "      <td>6.086254</td>\n",
       "      <td>8.397802</td>\n",
       "      <td>41.328512</td>\n",
       "      <td>14.975000</td>\n",
       "      <td>19.592955</td>\n",
       "      <td>63.390385</td>\n",
       "      <td>47.565558</td>\n",
       "      <td>1018.873434</td>\n",
       "      <td>1016.396970</td>\n",
       "      <td>17.306513</td>\n",
       "      <td>21.882261</td>\n",
       "    </tr>\n",
       "    <tr>\n",
       "      <th>10</th>\n",
       "      <td>11</td>\n",
       "      <td>14.384436</td>\n",
       "      <td>25.881748</td>\n",
       "      <td>1.527308</td>\n",
       "      <td>6.748544</td>\n",
       "      <td>8.546780</td>\n",
       "      <td>41.434238</td>\n",
       "      <td>14.831703</td>\n",
       "      <td>20.105578</td>\n",
       "      <td>63.015564</td>\n",
       "      <td>49.110672</td>\n",
       "      <td>1015.716597</td>\n",
       "      <td>1013.344421</td>\n",
       "      <td>19.851362</td>\n",
       "      <td>23.981423</td>\n",
       "    </tr>\n",
       "    <tr>\n",
       "      <th>11</th>\n",
       "      <td>12</td>\n",
       "      <td>15.553239</td>\n",
       "      <td>27.485051</td>\n",
       "      <td>1.438134</td>\n",
       "      <td>7.491020</td>\n",
       "      <td>9.487179</td>\n",
       "      <td>42.283871</td>\n",
       "      <td>14.668699</td>\n",
       "      <td>19.938525</td>\n",
       "      <td>60.900810</td>\n",
       "      <td>46.604938</td>\n",
       "      <td>1013.609931</td>\n",
       "      <td>1011.498611</td>\n",
       "      <td>21.098988</td>\n",
       "      <td>25.491598</td>\n",
       "    </tr>\n",
       "  </tbody>\n",
       "</table>\n",
       "</div>"
      ],
      "text/plain": [
       "    Month    MinTemp    MaxTemp  Rainfall  Evaporation  Sunshine  \\\n",
       "0       1  17.111512  29.138095  1.167354     7.970262  9.493884   \n",
       "1       2  17.295670  28.372541  1.369375     7.145000  8.970196   \n",
       "2       3  15.771405  27.272150  1.400985     5.811699  7.699088   \n",
       "3       4  12.849472  23.984303  1.337743     4.190415  7.086159   \n",
       "4       5   8.929077  19.338132  1.664606     2.963793  6.222684   \n",
       "5       6   7.538682  17.258794  1.819529     2.523323  5.873244   \n",
       "6       7   7.145747  17.213585  1.769466     2.765190  6.195105   \n",
       "7       8   7.390714  18.227807  1.669107     3.528840  7.281034   \n",
       "8       9   9.882400  21.142600  1.452209     4.815328  8.028340   \n",
       "9      10  11.828599  23.549237  1.189341     6.086254  8.397802   \n",
       "10     11  14.384436  25.881748  1.527308     6.748544  8.546780   \n",
       "11     12  15.553239  27.485051  1.438134     7.491020  9.487179   \n",
       "\n",
       "    WindGustSpeed  WindSpeed9am  WindSpeed3pm  Humidity9am  Humidity3pm  \\\n",
       "0       42.273224     14.758148     20.350694    62.066553    45.979203   \n",
       "1       41.701559     14.623701     19.467230    66.278351    48.241015   \n",
       "2       38.560633     12.260229     17.917492    70.770867    49.048093   \n",
       "3       35.456238     12.336861     16.318584    69.875887    51.280576   \n",
       "4       34.616915     11.702619     15.992138    76.129283    55.263911   \n",
       "5       35.034296     11.854730     15.858362    79.278438    59.878007   \n",
       "6       36.559118     12.541825     17.528626    76.226667    55.859345   \n",
       "7       39.311069     13.089606     18.882784    72.636691    53.240223   \n",
       "8       41.929638     15.317907     19.946830    64.563126    50.611789   \n",
       "9       41.328512     14.975000     19.592955    63.390385    47.565558   \n",
       "10      41.434238     14.831703     20.105578    63.015564    49.110672   \n",
       "11      42.283871     14.668699     19.938525    60.900810    46.604938   \n",
       "\n",
       "    Pressure9am  Pressure3pm    Temp9am    Temp3pm  \n",
       "0   1013.150659  1010.918797  22.181431  27.334083  \n",
       "1   1015.102968  1013.051826  21.408436  26.749683  \n",
       "2   1016.552007  1014.271715  19.797064  25.743729  \n",
       "3   1019.847217  1017.019770  17.852557  22.512522  \n",
       "4   1020.710995  1018.363573  13.352761  18.145298  \n",
       "5   1021.900936  1019.634953  11.312584  16.073129  \n",
       "6   1021.328216  1018.910373  11.084340  16.071319  \n",
       "7   1019.976832  1017.369505  12.251246  16.931009  \n",
       "8   1018.277925  1015.339602  15.744000  19.583537  \n",
       "9   1018.873434  1016.396970  17.306513  21.882261  \n",
       "10  1015.716597  1013.344421  19.851362  23.981423  \n",
       "11  1013.609931  1011.498611  21.098988  25.491598  "
      ]
     },
     "execution_count": 67,
     "metadata": {},
     "output_type": "execute_result"
    }
   ],
   "source": [
    "for var in cont_col[1:]:\n",
    "    mean_tab[var] = Xtrain[var].groupby(Xtrain['Month']).mean()\n",
    "mean_tab = mean_tab.reset_index()\n",
    "mean_tab"
   ]
  },
  {
   "cell_type": "code",
   "execution_count": 68,
   "metadata": {},
   "outputs": [],
   "source": [
    "# 填充Xtrain\n",
    "for var in cont_col:\n",
    "    for i in Xtrain[Xtrain[var].isnull()].index.tolist():\n",
    "        ind = Xtrain.loc[i,'Month'] - 1\n",
    "        Xtrain.loc[i,var] = mean_tab.loc[ind,var]"
   ]
  },
  {
   "cell_type": "code",
   "execution_count": 69,
   "metadata": {},
   "outputs": [
    {
     "data": {
      "text/plain": [
       "MinTemp          0.0\n",
       "MaxTemp          0.0\n",
       "Rainfall         0.0\n",
       "Evaporation      0.0\n",
       "Sunshine         0.0\n",
       "WindGustSpeed    0.0\n",
       "WindSpeed9am     0.0\n",
       "WindSpeed3pm     0.0\n",
       "Humidity9am      0.0\n",
       "Humidity3pm      0.0\n",
       "Pressure9am      0.0\n",
       "Pressure3pm      0.0\n",
       "Temp9am          0.0\n",
       "Temp3pm          0.0\n",
       "dtype: float64"
      ]
     },
     "execution_count": 69,
     "metadata": {},
     "output_type": "execute_result"
    }
   ],
   "source": [
    "Xtrain[cont_col].isnull().mean()"
   ]
  },
  {
   "cell_type": "code",
   "execution_count": 70,
   "metadata": {},
   "outputs": [],
   "source": [
    "# 填充Xtest\n",
    "for var in cont_col:\n",
    "    for i in Xtest[Xtest[var].isnull()].index.tolist():\n",
    "        ind = Xtest.loc[i,'Month'] - 1\n",
    "        Xtest.loc[i,var] = mean_tab.loc[ind,var]"
   ]
  },
  {
   "cell_type": "code",
   "execution_count": 71,
   "metadata": {},
   "outputs": [
    {
     "data": {
      "text/plain": [
       "Month            0.0\n",
       "Location         0.0\n",
       "MinTemp          0.0\n",
       "MaxTemp          0.0\n",
       "Rainfall         0.0\n",
       "Evaporation      0.0\n",
       "Sunshine         0.0\n",
       "WindGustDir      0.0\n",
       "WindGustSpeed    0.0\n",
       "WindDir9am       0.0\n",
       "WindDir3pm       0.0\n",
       "WindSpeed9am     0.0\n",
       "WindSpeed3pm     0.0\n",
       "Humidity9am      0.0\n",
       "Humidity3pm      0.0\n",
       "Pressure9am      0.0\n",
       "Pressure3pm      0.0\n",
       "Cloud9am         0.0\n",
       "Cloud3pm         0.0\n",
       "Temp9am          0.0\n",
       "Temp3pm          0.0\n",
       "Raintoday        0.0\n",
       "dtype: float64"
      ]
     },
     "execution_count": 71,
     "metadata": {},
     "output_type": "execute_result"
    }
   ],
   "source": [
    "Xtest.isnull().mean()"
   ]
  },
  {
   "cell_type": "code",
   "execution_count": 72,
   "metadata": {},
   "outputs": [
    {
     "name": "stdout",
     "output_type": "stream",
     "text": [
      "0\n",
      "0\n"
     ]
    }
   ],
   "source": [
    "# 整体验证\n",
    "print(Xtrain.isnull().sum().sum())\n",
    "print(Xtest.isnull().sum().sum())"
   ]
  },
  {
   "cell_type": "code",
   "execution_count": 73,
   "metadata": {},
   "outputs": [],
   "source": [
    "# 备份数据\n",
    "Xtrain_copy = Xtrain.copy()\n",
    "Xtest_copy = Xtest.copy()"
   ]
  },
  {
   "cell_type": "markdown",
   "metadata": {},
   "source": [
    "## 7.对分类变量进行编码"
   ]
  },
  {
   "cell_type": "code",
   "execution_count": 74,
   "metadata": {},
   "outputs": [],
   "source": [
    "from sklearn.preprocessing import OrdinalEncoder"
   ]
  },
  {
   "cell_type": "code",
   "execution_count": 75,
   "metadata": {},
   "outputs": [],
   "source": [
    "Xtrain = Xtrain_copy.copy()\n",
    "Xtest = Xtest_copy.copy()"
   ]
  },
  {
   "cell_type": "code",
   "execution_count": 76,
   "metadata": {},
   "outputs": [
    {
     "data": {
      "text/plain": [
       "['Location',\n",
       " 'WindGustDir',\n",
       " 'WindDir9am',\n",
       " 'WindDir3pm',\n",
       " 'Cloud9am',\n",
       " 'Cloud3pm',\n",
       " 'Raintoday']"
      ]
     },
     "execution_count": 76,
     "metadata": {},
     "output_type": "execute_result"
    }
   ],
   "source": [
    "# 在categ_col中移除Month，Month不需要编码\n",
    "categ_col.remove('Month')\n",
    "categ_col"
   ]
  },
  {
   "cell_type": "code",
   "execution_count": 77,
   "metadata": {},
   "outputs": [],
   "source": [
    "oe = OrdinalEncoder()\n",
    "oe = oe.fit(Xtrain.loc[:,categ_col])"
   ]
  },
  {
   "cell_type": "code",
   "execution_count": 78,
   "metadata": {},
   "outputs": [],
   "source": [
    "Xtrain.loc[:,categ_col] = oe.transform(Xtrain.loc[:,categ_col])"
   ]
  },
  {
   "cell_type": "code",
   "execution_count": 79,
   "metadata": {},
   "outputs": [],
   "source": [
    "# Xtest.loc[:,categ_col] = oe.transform(Xtest.loc[:,categ_col]) 报错，因为test中存在train没有的值"
   ]
  },
  {
   "cell_type": "code",
   "execution_count": 80,
   "metadata": {},
   "outputs": [],
   "source": [
    "for i in range(len(categ_col)):\n",
    "    indexs = list(oe.categories_[i])\n",
    "    Xtest[categ_col[i]] = Xtest[categ_col[i]].map(lambda x:indexs.index(x) if x in indexs else -1)"
   ]
  },
  {
   "cell_type": "code",
   "execution_count": 81,
   "metadata": {},
   "outputs": [],
   "source": [
    "# 备份数据\n",
    "Xtrain_copy = Xtrain.copy()\n",
    "Xtest_copy = Xtest.copy()"
   ]
  },
  {
   "cell_type": "code",
   "execution_count": 82,
   "metadata": {},
   "outputs": [],
   "source": [
    "# 复原categ_col表\n",
    "categ_col.append('Month')"
   ]
  },
  {
   "cell_type": "markdown",
   "metadata": {},
   "source": [
    "## 8.处理量纲问题"
   ]
  },
  {
   "cell_type": "code",
   "execution_count": 83,
   "metadata": {},
   "outputs": [
    {
     "data": {
      "text/html": [
       "<div>\n",
       "<style scoped>\n",
       "    .dataframe tbody tr th:only-of-type {\n",
       "        vertical-align: middle;\n",
       "    }\n",
       "\n",
       "    .dataframe tbody tr th {\n",
       "        vertical-align: top;\n",
       "    }\n",
       "\n",
       "    .dataframe thead th {\n",
       "        text-align: right;\n",
       "    }\n",
       "</style>\n",
       "<table border=\"1\" class=\"dataframe\">\n",
       "  <thead>\n",
       "    <tr style=\"text-align: right;\">\n",
       "      <th></th>\n",
       "      <th>count</th>\n",
       "      <th>mean</th>\n",
       "      <th>std</th>\n",
       "      <th>min</th>\n",
       "      <th>25%</th>\n",
       "      <th>50%</th>\n",
       "      <th>75%</th>\n",
       "      <th>max</th>\n",
       "    </tr>\n",
       "  </thead>\n",
       "  <tbody>\n",
       "    <tr>\n",
       "      <th>MinTemp</th>\n",
       "      <td>6647.0</td>\n",
       "      <td>12.061334</td>\n",
       "      <td>6.337902</td>\n",
       "      <td>-6.9</td>\n",
       "      <td>7.500000</td>\n",
       "      <td>11.800000</td>\n",
       "      <td>16.600000</td>\n",
       "      <td>29.1</td>\n",
       "    </tr>\n",
       "    <tr>\n",
       "      <th>MaxTemp</th>\n",
       "      <td>6647.0</td>\n",
       "      <td>23.139156</td>\n",
       "      <td>6.935108</td>\n",
       "      <td>2.5</td>\n",
       "      <td>18.100000</td>\n",
       "      <td>22.600000</td>\n",
       "      <td>28.100000</td>\n",
       "      <td>44.1</td>\n",
       "    </tr>\n",
       "    <tr>\n",
       "      <th>Rainfall</th>\n",
       "      <td>6647.0</td>\n",
       "      <td>1.487953</td>\n",
       "      <td>3.834232</td>\n",
       "      <td>0.0</td>\n",
       "      <td>0.000000</td>\n",
       "      <td>0.000000</td>\n",
       "      <td>0.600000</td>\n",
       "      <td>24.8</td>\n",
       "    </tr>\n",
       "    <tr>\n",
       "      <th>Evaporation</th>\n",
       "      <td>6647.0</td>\n",
       "      <td>5.093876</td>\n",
       "      <td>2.716416</td>\n",
       "      <td>0.0</td>\n",
       "      <td>2.963793</td>\n",
       "      <td>4.815328</td>\n",
       "      <td>7.000000</td>\n",
       "      <td>18.6</td>\n",
       "    </tr>\n",
       "    <tr>\n",
       "      <th>Sunshine</th>\n",
       "      <td>6647.0</td>\n",
       "      <td>7.713052</td>\n",
       "      <td>2.776559</td>\n",
       "      <td>0.0</td>\n",
       "      <td>6.222684</td>\n",
       "      <td>8.028340</td>\n",
       "      <td>9.487179</td>\n",
       "      <td>14.3</td>\n",
       "    </tr>\n",
       "    <tr>\n",
       "      <th>WindGustSpeed</th>\n",
       "      <td>6647.0</td>\n",
       "      <td>39.024682</td>\n",
       "      <td>11.982964</td>\n",
       "      <td>7.0</td>\n",
       "      <td>31.000000</td>\n",
       "      <td>38.560633</td>\n",
       "      <td>46.000000</td>\n",
       "      <td>81.0</td>\n",
       "    </tr>\n",
       "    <tr>\n",
       "      <th>WindSpeed9am</th>\n",
       "      <td>6647.0</td>\n",
       "      <td>13.486616</td>\n",
       "      <td>8.292903</td>\n",
       "      <td>0.0</td>\n",
       "      <td>7.000000</td>\n",
       "      <td>13.000000</td>\n",
       "      <td>19.000000</td>\n",
       "      <td>39.0</td>\n",
       "    </tr>\n",
       "    <tr>\n",
       "      <th>WindSpeed3pm</th>\n",
       "      <td>6647.0</td>\n",
       "      <td>18.390839</td>\n",
       "      <td>8.176958</td>\n",
       "      <td>0.0</td>\n",
       "      <td>13.000000</td>\n",
       "      <td>19.000000</td>\n",
       "      <td>24.000000</td>\n",
       "      <td>44.0</td>\n",
       "    </tr>\n",
       "    <tr>\n",
       "      <th>Humidity9am</th>\n",
       "      <td>6647.0</td>\n",
       "      <td>69.090467</td>\n",
       "      <td>18.419209</td>\n",
       "      <td>13.0</td>\n",
       "      <td>57.000000</td>\n",
       "      <td>70.000000</td>\n",
       "      <td>83.000000</td>\n",
       "      <td>100.0</td>\n",
       "    </tr>\n",
       "    <tr>\n",
       "      <th>Humidity3pm</th>\n",
       "      <td>6647.0</td>\n",
       "      <td>51.216206</td>\n",
       "      <td>19.869260</td>\n",
       "      <td>3.0</td>\n",
       "      <td>37.000000</td>\n",
       "      <td>52.000000</td>\n",
       "      <td>65.000000</td>\n",
       "      <td>100.0</td>\n",
       "    </tr>\n",
       "    <tr>\n",
       "      <th>Pressure9am</th>\n",
       "      <td>6647.0</td>\n",
       "      <td>1018.017126</td>\n",
       "      <td>6.571844</td>\n",
       "      <td>996.3</td>\n",
       "      <td>1013.609931</td>\n",
       "      <td>1018.100000</td>\n",
       "      <td>1022.000000</td>\n",
       "      <td>1038.5</td>\n",
       "    </tr>\n",
       "    <tr>\n",
       "      <th>Pressure3pm</th>\n",
       "      <td>6647.0</td>\n",
       "      <td>1015.607453</td>\n",
       "      <td>6.501974</td>\n",
       "      <td>994.2</td>\n",
       "      <td>1011.300000</td>\n",
       "      <td>1015.600000</td>\n",
       "      <td>1019.634953</td>\n",
       "      <td>1036.3</td>\n",
       "    </tr>\n",
       "    <tr>\n",
       "      <th>Temp9am</th>\n",
       "      <td>6647.0</td>\n",
       "      <td>16.828294</td>\n",
       "      <td>6.405513</td>\n",
       "      <td>-2.5</td>\n",
       "      <td>12.200000</td>\n",
       "      <td>16.500000</td>\n",
       "      <td>21.400000</td>\n",
       "      <td>34.6</td>\n",
       "    </tr>\n",
       "    <tr>\n",
       "      <th>Temp3pm</th>\n",
       "      <td>6647.0</td>\n",
       "      <td>21.621708</td>\n",
       "      <td>6.739325</td>\n",
       "      <td>1.4</td>\n",
       "      <td>16.800000</td>\n",
       "      <td>21.000000</td>\n",
       "      <td>26.300000</td>\n",
       "      <td>42.4</td>\n",
       "    </tr>\n",
       "  </tbody>\n",
       "</table>\n",
       "</div>"
      ],
      "text/plain": [
       "                count         mean        std    min          25%  \\\n",
       "MinTemp        6647.0    12.061334   6.337902   -6.9     7.500000   \n",
       "MaxTemp        6647.0    23.139156   6.935108    2.5    18.100000   \n",
       "Rainfall       6647.0     1.487953   3.834232    0.0     0.000000   \n",
       "Evaporation    6647.0     5.093876   2.716416    0.0     2.963793   \n",
       "Sunshine       6647.0     7.713052   2.776559    0.0     6.222684   \n",
       "WindGustSpeed  6647.0    39.024682  11.982964    7.0    31.000000   \n",
       "WindSpeed9am   6647.0    13.486616   8.292903    0.0     7.000000   \n",
       "WindSpeed3pm   6647.0    18.390839   8.176958    0.0    13.000000   \n",
       "Humidity9am    6647.0    69.090467  18.419209   13.0    57.000000   \n",
       "Humidity3pm    6647.0    51.216206  19.869260    3.0    37.000000   \n",
       "Pressure9am    6647.0  1018.017126   6.571844  996.3  1013.609931   \n",
       "Pressure3pm    6647.0  1015.607453   6.501974  994.2  1011.300000   \n",
       "Temp9am        6647.0    16.828294   6.405513   -2.5    12.200000   \n",
       "Temp3pm        6647.0    21.621708   6.739325    1.4    16.800000   \n",
       "\n",
       "                       50%          75%     max  \n",
       "MinTemp          11.800000    16.600000    29.1  \n",
       "MaxTemp          22.600000    28.100000    44.1  \n",
       "Rainfall          0.000000     0.600000    24.8  \n",
       "Evaporation       4.815328     7.000000    18.6  \n",
       "Sunshine          8.028340     9.487179    14.3  \n",
       "WindGustSpeed    38.560633    46.000000    81.0  \n",
       "WindSpeed9am     13.000000    19.000000    39.0  \n",
       "WindSpeed3pm     19.000000    24.000000    44.0  \n",
       "Humidity9am      70.000000    83.000000   100.0  \n",
       "Humidity3pm      52.000000    65.000000   100.0  \n",
       "Pressure9am    1018.100000  1022.000000  1038.5  \n",
       "Pressure3pm    1015.600000  1019.634953  1036.3  \n",
       "Temp9am          16.500000    21.400000    34.6  \n",
       "Temp3pm          21.000000    26.300000    42.4  "
      ]
     },
     "execution_count": 83,
     "metadata": {},
     "output_type": "execute_result"
    }
   ],
   "source": [
    "Xtrain[cont_col].describe().T"
   ]
  },
  {
   "cell_type": "code",
   "execution_count": 84,
   "metadata": {},
   "outputs": [],
   "source": [
    "from sklearn.preprocessing import StandardScaler\n",
    "ss = StandardScaler()\n",
    "ss = ss.fit(Xtrain.loc[:,cont_col])\n",
    "Xtrain.loc[:,cont_col] = ss.transform(Xtrain.loc[:,cont_col])\n",
    "Xtest.loc[:,cont_col] = ss.transform(Xtest.loc[:,cont_col])"
   ]
  },
  {
   "cell_type": "code",
   "execution_count": 85,
   "metadata": {},
   "outputs": [
    {
     "data": {
      "text/html": [
       "<div>\n",
       "<style scoped>\n",
       "    .dataframe tbody tr th:only-of-type {\n",
       "        vertical-align: middle;\n",
       "    }\n",
       "\n",
       "    .dataframe tbody tr th {\n",
       "        vertical-align: top;\n",
       "    }\n",
       "\n",
       "    .dataframe thead th {\n",
       "        text-align: right;\n",
       "    }\n",
       "</style>\n",
       "<table border=\"1\" class=\"dataframe\">\n",
       "  <thead>\n",
       "    <tr style=\"text-align: right;\">\n",
       "      <th></th>\n",
       "      <th>Month</th>\n",
       "      <th>Location</th>\n",
       "      <th>MinTemp</th>\n",
       "      <th>MaxTemp</th>\n",
       "      <th>Rainfall</th>\n",
       "      <th>Evaporation</th>\n",
       "      <th>Sunshine</th>\n",
       "      <th>WindGustDir</th>\n",
       "      <th>WindGustSpeed</th>\n",
       "      <th>WindDir9am</th>\n",
       "      <th>WindDir3pm</th>\n",
       "      <th>WindSpeed9am</th>\n",
       "      <th>WindSpeed3pm</th>\n",
       "      <th>Humidity9am</th>\n",
       "      <th>Humidity3pm</th>\n",
       "      <th>Pressure9am</th>\n",
       "      <th>Pressure3pm</th>\n",
       "      <th>Cloud9am</th>\n",
       "      <th>Cloud3pm</th>\n",
       "      <th>Temp9am</th>\n",
       "      <th>Temp3pm</th>\n",
       "      <th>Raintoday</th>\n",
       "    </tr>\n",
       "  </thead>\n",
       "  <tbody>\n",
       "    <tr>\n",
       "      <th>0</th>\n",
       "      <td>6</td>\n",
       "      <td>9.0</td>\n",
       "      <td>-2.613259</td>\n",
       "      <td>-1.418853</td>\n",
       "      <td>-0.388100</td>\n",
       "      <td>-1.286305</td>\n",
       "      <td>0.175391</td>\n",
       "      <td>2.0</td>\n",
       "      <td>-2.171970</td>\n",
       "      <td>7.0</td>\n",
       "      <td>15.0</td>\n",
       "      <td>-1.626406</td>\n",
       "      <td>-1.515450</td>\n",
       "      <td>0.553158</td>\n",
       "      <td>-0.413545</td>\n",
       "      <td>2.782210</td>\n",
       "      <td>2.629022</td>\n",
       "      <td>0.0</td>\n",
       "      <td>0.0</td>\n",
       "      <td>-2.315101</td>\n",
       "      <td>-1.323928</td>\n",
       "      <td>0.0</td>\n",
       "    </tr>\n",
       "    <tr>\n",
       "      <th>1</th>\n",
       "      <td>8</td>\n",
       "      <td>12.0</td>\n",
       "      <td>-0.924876</td>\n",
       "      <td>-1.173705</td>\n",
       "      <td>0.863875</td>\n",
       "      <td>-0.576183</td>\n",
       "      <td>-0.155606</td>\n",
       "      <td>14.0</td>\n",
       "      <td>1.249811</td>\n",
       "      <td>6.0</td>\n",
       "      <td>14.0</td>\n",
       "      <td>-0.541059</td>\n",
       "      <td>0.441415</td>\n",
       "      <td>1.298174</td>\n",
       "      <td>0.744110</td>\n",
       "      <td>0.423486</td>\n",
       "      <td>0.675622</td>\n",
       "      <td>7.0</td>\n",
       "      <td>7.0</td>\n",
       "      <td>-1.222210</td>\n",
       "      <td>-1.071658</td>\n",
       "      <td>1.0</td>\n",
       "    </tr>\n",
       "    <tr>\n",
       "      <th>2</th>\n",
       "      <td>12</td>\n",
       "      <td>4.0</td>\n",
       "      <td>1.031754</td>\n",
       "      <td>0.095297</td>\n",
       "      <td>-0.179437</td>\n",
       "      <td>0.882532</td>\n",
       "      <td>0.639014</td>\n",
       "      <td>8.0</td>\n",
       "      <td>-0.669725</td>\n",
       "      <td>8.0</td>\n",
       "      <td>9.0</td>\n",
       "      <td>0.182505</td>\n",
       "      <td>0.074503</td>\n",
       "      <td>0.049383</td>\n",
       "      <td>0.240782</td>\n",
       "      <td>-1.189577</td>\n",
       "      <td>-0.831726</td>\n",
       "      <td>7.0</td>\n",
       "      <td>7.0</td>\n",
       "      <td>0.620092</td>\n",
       "      <td>0.160012</td>\n",
       "      <td>0.0</td>\n",
       "    </tr>\n",
       "    <tr>\n",
       "      <th>3</th>\n",
       "      <td>3</td>\n",
       "      <td>32.0</td>\n",
       "      <td>1.268443</td>\n",
       "      <td>2.388152</td>\n",
       "      <td>-0.388100</td>\n",
       "      <td>1.217182</td>\n",
       "      <td>1.039836</td>\n",
       "      <td>0.0</td>\n",
       "      <td>1.500186</td>\n",
       "      <td>0.0</td>\n",
       "      <td>0.0</td>\n",
       "      <td>2.835575</td>\n",
       "      <td>0.196807</td>\n",
       "      <td>-1.633769</td>\n",
       "      <td>-1.822863</td>\n",
       "      <td>-0.550439</td>\n",
       "      <td>-0.647153</td>\n",
       "      <td>2.0</td>\n",
       "      <td>2.0</td>\n",
       "      <td>1.853497</td>\n",
       "      <td>2.489798</td>\n",
       "      <td>0.0</td>\n",
       "    </tr>\n",
       "    <tr>\n",
       "      <th>4</th>\n",
       "      <td>10</td>\n",
       "      <td>30.0</td>\n",
       "      <td>-0.277926</td>\n",
       "      <td>0.152979</td>\n",
       "      <td>-0.388100</td>\n",
       "      <td>0.365354</td>\n",
       "      <td>0.246637</td>\n",
       "      <td>9.0</td>\n",
       "      <td>-0.168976</td>\n",
       "      <td>9.0</td>\n",
       "      <td>9.0</td>\n",
       "      <td>-0.902842</td>\n",
       "      <td>0.196807</td>\n",
       "      <td>-0.602160</td>\n",
       "      <td>-0.363212</td>\n",
       "      <td>0.130309</td>\n",
       "      <td>0.121436</td>\n",
       "      <td>7.0</td>\n",
       "      <td>1.0</td>\n",
       "      <td>0.011195</td>\n",
       "      <td>-0.121937</td>\n",
       "      <td>0.0</td>\n",
       "    </tr>\n",
       "  </tbody>\n",
       "</table>\n",
       "</div>"
      ],
      "text/plain": [
       "   Month  Location   MinTemp   MaxTemp  Rainfall  Evaporation  Sunshine  \\\n",
       "0      6       9.0 -2.613259 -1.418853 -0.388100    -1.286305  0.175391   \n",
       "1      8      12.0 -0.924876 -1.173705  0.863875    -0.576183 -0.155606   \n",
       "2     12       4.0  1.031754  0.095297 -0.179437     0.882532  0.639014   \n",
       "3      3      32.0  1.268443  2.388152 -0.388100     1.217182  1.039836   \n",
       "4     10      30.0 -0.277926  0.152979 -0.388100     0.365354  0.246637   \n",
       "\n",
       "   WindGustDir  WindGustSpeed  WindDir9am  WindDir3pm  WindSpeed9am  \\\n",
       "0          2.0      -2.171970         7.0        15.0     -1.626406   \n",
       "1         14.0       1.249811         6.0        14.0     -0.541059   \n",
       "2          8.0      -0.669725         8.0         9.0      0.182505   \n",
       "3          0.0       1.500186         0.0         0.0      2.835575   \n",
       "4          9.0      -0.168976         9.0         9.0     -0.902842   \n",
       "\n",
       "   WindSpeed3pm  Humidity9am  Humidity3pm  Pressure9am  Pressure3pm  Cloud9am  \\\n",
       "0     -1.515450     0.553158    -0.413545     2.782210     2.629022       0.0   \n",
       "1      0.441415     1.298174     0.744110     0.423486     0.675622       7.0   \n",
       "2      0.074503     0.049383     0.240782    -1.189577    -0.831726       7.0   \n",
       "3      0.196807    -1.633769    -1.822863    -0.550439    -0.647153       2.0   \n",
       "4      0.196807    -0.602160    -0.363212     0.130309     0.121436       7.0   \n",
       "\n",
       "   Cloud3pm   Temp9am   Temp3pm  Raintoday  \n",
       "0       0.0 -2.315101 -1.323928        0.0  \n",
       "1       7.0 -1.222210 -1.071658        1.0  \n",
       "2       7.0  0.620092  0.160012        0.0  \n",
       "3       2.0  1.853497  2.489798        0.0  \n",
       "4       1.0  0.011195 -0.121937        0.0  "
      ]
     },
     "execution_count": 85,
     "metadata": {},
     "output_type": "execute_result"
    }
   ],
   "source": [
    "Xtrain.head()"
   ]
  },
  {
   "cell_type": "code",
   "execution_count": 86,
   "metadata": {},
   "outputs": [],
   "source": [
    "# 备份数据\n",
    "Xtrain = Xtrain.copy()\n",
    "Xtest = Xtest.copy()\n",
    "Ytrain = Ytrain.copy()\n",
    "Ytest = Ytest.copy()"
   ]
  },
  {
   "cell_type": "markdown",
   "metadata": {},
   "source": [
    "## 9.建立模型及模型评估"
   ]
  },
  {
   "cell_type": "code",
   "execution_count": 87,
   "metadata": {},
   "outputs": [],
   "source": [
    "from time import time\n",
    "import datetime\n",
    "from sklearn.svm import SVC\n",
    "from sklearn.model_selection import cross_val_score\n",
    "from sklearn.metrics import roc_auc_score,recall_score"
   ]
  },
  {
   "cell_type": "code",
   "execution_count": 88,
   "metadata": {},
   "outputs": [],
   "source": [
    "# 查看标签，sklearn标签要求是一维"
   ]
  },
  {
   "cell_type": "code",
   "execution_count": 89,
   "metadata": {},
   "outputs": [
    {
     "name": "stdout",
     "output_type": "stream",
     "text": [
      "(6647, 1) (2850, 1)\n"
     ]
    }
   ],
   "source": [
    "print(Ytrain.shape,Ytest.shape)"
   ]
  },
  {
   "cell_type": "code",
   "execution_count": 90,
   "metadata": {},
   "outputs": [],
   "source": [
    "Ytrain = Ytrain.iloc[:,0].values\n",
    "Ytest = Ytest.iloc[:,0].values"
   ]
  },
  {
   "cell_type": "code",
   "execution_count": 91,
   "metadata": {},
   "outputs": [
    {
     "name": "stdout",
     "output_type": "stream",
     "text": [
      "(6647,) (2850,)\n"
     ]
    }
   ],
   "source": [
    "print(Ytrain.shape,Ytest.shape)"
   ]
  },
  {
   "cell_type": "code",
   "execution_count": 94,
   "metadata": {},
   "outputs": [
    {
     "name": "stdout",
     "output_type": "stream",
     "text": [
      "linear's testing accuracy is 0.847018,recall is 0.400000,auc is 0.848218\n",
      "00:05:349939\n",
      "poly's testing accuracy is 0.848070,recall is 0.398261,auc is 0.848262\n",
      "00:01:369503\n",
      "rbf's testing accuracy is 0.824912,recall is 0.201739,auc is 0.789148\n",
      "00:02:986677\n",
      "sigmoid's testing accuracy is 0.741754,recall is 0.067826,auc is 0.425921\n",
      "00:01:510509\n"
     ]
    }
   ],
   "source": [
    "# 核函数学习曲线\n",
    "for kernel in ['linear','poly','rbf','sigmoid']:\n",
    "    times = time()\n",
    "    clf = SVC(kernel = kernel,\n",
    "             gamma = 'auto',\n",
    "             degree = 1).fit(Xtrain,Ytrain)\n",
    "    result = clf.predict(Xtest)\n",
    "    score = clf.score(Xtest,Ytest)\n",
    "    recall = recall_score(Ytest,result)\n",
    "    auc = roc_auc_score(Ytest,clf.decision_function(Xtest))\n",
    "    print(\"%s's testing accuracy is %f,recall is %f,auc is %f\"%(kernel,score,recall,auc))\n",
    "    print(datetime.datetime.fromtimestamp(time() - times).strftime('%M:%S:%f'))"
   ]
  },
  {
   "cell_type": "markdown",
   "metadata": {},
   "source": [
    "模型的accuracy和auc勉强可以，但是recall不够高，在四种核函数下线性核函数表现最好。针对不同需求调参方向如下：\n",
    "##### 追求recall分数高\n",
    "##### 追求accuracy高，不计recall和auc\n",
    "##### 达到accuracy recall auc的平衡"
   ]
  },
  {
   "cell_type": "markdown",
   "metadata": {},
   "source": [
    "### 9.1 追求recall"
   ]
  },
  {
   "cell_type": "code",
   "execution_count": 101,
   "metadata": {},
   "outputs": [
    {
     "name": "stdout",
     "output_type": "stream",
     "text": [
      "linear's test accuracy is 0.787368,recall is 0.754783,auc is 0.848451\n",
      "00:07:579536\n",
      "poly's test accuracy is 0.782105,recall is 0.744348,auc is 0.847593\n",
      "00:02:134844\n",
      "rbf's test accuracy is 0.807018,recall is 0.480000,auc is 0.789749\n",
      "00:03:378995\n",
      "sigmoid's test accuracy is 0.760000,recall is 0.057391,auc is 0.426643\n",
      "00:03:476781\n"
     ]
    }
   ],
   "source": [
    "# 更改class_weight\n",
    "for kernel in ['linear','poly','rbf','sigmoid']:\n",
    "    times = time()\n",
    "    clf = SVC(kernel = kernel,\n",
    "             gamma = 'auto',\n",
    "             degree = 1,\n",
    "             class_weight = 'balanced').fit(Xtrain,Ytrain)\n",
    "    result = clf.predict(Xtest)\n",
    "    score = clf.score(Xtest,Ytest)\n",
    "    recall = recall_score(Ytest,result)\n",
    "    auc = roc_auc_score(Ytest,clf.decision_function(Xtest))\n",
    "    print(\"%s's test accuracy is %f,recall is %f,auc is %f\"%(kernel,score,recall,auc))\n",
    "    print(datetime.datetime.fromtimestamp(time() - times).strftime('%M:%S:%f'))"
   ]
  },
  {
   "cell_type": "markdown",
   "metadata": {},
   "source": [
    "linear和poly的recall都很高，锁定linear核函数"
   ]
  },
  {
   "cell_type": "code",
   "execution_count": 104,
   "metadata": {},
   "outputs": [
    {
     "name": "stdout",
     "output_type": "stream",
     "text": [
      "linear test accuracy is 0.614386,recall is 0.916522,auc is 0.846807\n",
      "00:13:744686\n"
     ]
    }
   ],
   "source": [
    "# 继续增加少数样本的权重\n",
    "times = time()\n",
    "clf = SVC(kernel = 'linear',\n",
    "          gamma = 'auto',\n",
    "          class_weight = {0:1,1:10}).fit(Xtrain,Ytrain)\n",
    "result = clf.predict(Xtest)\n",
    "score = clf.score(Xtest,Ytest)\n",
    "recall = recall_score(Ytest,result)\n",
    "auc = roc_auc_score(Ytest,clf.decision_function(Xtest))\n",
    "print(\"linear test accuracy is %f,recall is %f,auc is %f\"%(score,recall,auc))\n",
    "print(datetime.datetime.fromtimestamp(time() - times).strftime('%M:%S:%f'))"
   ]
  },
  {
   "cell_type": "markdown",
   "metadata": {},
   "source": [
    "accuracy下降，但是recall和auc上升明显，说明增大少数类样本取值后模型捕捉了大量少数类但是损伤了很多多数类"
   ]
  },
  {
   "cell_type": "code",
   "execution_count": 108,
   "metadata": {},
   "outputs": [],
   "source": [
    "recall = []\n",
    "auc = []\n",
    "score = []\n",
    "for k in range(1,21,1):\n",
    "    clf = SVC(kernel = 'linear',gamma = 'auto',class_weight = {1:k}).fit(Xtrain,Ytrain)\n",
    "    result = clf.predict(Xtest)\n",
    "    score.append(clf.score(Xtest,Ytest))\n",
    "    recall.append(recall_score(Ytest,result))\n",
    "    auc.append(roc_auc_score(Ytest,clf.decision_function(Xtest)))"
   ]
  },
  {
   "cell_type": "code",
   "execution_count": 109,
   "metadata": {},
   "outputs": [
    {
     "data": {
      "image/png": "[encoded data removed]",
      "text/plain": [
       "<Figure size 432x288 with 1 Axes>"
      ]
     },
     "metadata": {
      "needs_background": "light"
     },
     "output_type": "display_data"
    }
   ],
   "source": [
    "plt.plot(range(1,21,1),score,color = 'k',marker = 'o',label = 'accuracy')\n",
    "plt.plot(range(1,21,1),recall,color = 'r',marker = 'o',label = 'recall')\n",
    "plt.plot(range(1,21,1),auc,color = 'blue',marker = 'o',label = 'auc')\n",
    "plt.legend()\n",
    "plt.show()"
   ]
  },
  {
   "cell_type": "markdown",
   "metadata": {},
   "source": [
    "从图表中得出，随着样本向少数类偏移，模型的召回率提升，但是伴随着模型的准确率急剧下降"
   ]
  },
  {
   "cell_type": "markdown",
   "metadata": {},
   "source": [
    "### 9.2 追求accuracy"
   ]
  },
  {
   "cell_type": "code",
   "execution_count": 110,
   "metadata": {},
   "outputs": [
    {
     "name": "stdout",
     "output_type": "stream",
     "text": [
      "0    2275\n",
      "1     575\n",
      "dtype: int64\n",
      "0.7982456140350878\n"
     ]
    }
   ],
   "source": [
    "valuec = pd.Series(Ytest).value_counts()\n",
    "print(valuec)\n",
    "print(valuec[0]/valuec.sum())"
   ]
  },
  {
   "cell_type": "markdown",
   "metadata": {},
   "source": [
    "初步断定，样本将近80%是多数类样本，采用线性核函数不对少数类样本进行偏重时准确率为84.7%，说明模型已经将大部分多数类分类正确，通过混淆矩阵计算特异度，来查看在多数类样本上的准确率是否还有提升的空间"
   ]
  },
  {
   "cell_type": "code",
   "execution_count": 112,
   "metadata": {},
   "outputs": [
    {
     "data": {
      "text/plain": [
       "array([[ 230,  345],\n",
       "       [  91, 2184]], dtype=int64)"
      ]
     },
     "execution_count": 112,
     "metadata": {},
     "output_type": "execute_result"
    }
   ],
   "source": [
    "# 查看模型的特异度\n",
    "from sklearn.metrics import confusion_matrix as CM\n",
    "clf = SVC(kernel = 'linear',gamma = 'auto').fit(Xtrain,Ytrain)\n",
    "result = clf.predict(Xtest)\n",
    "cm = CM(Ytest,result,labels=(1,0))\n",
    "cm"
   ]
  },
  {
   "cell_type": "code",
   "execution_count": 113,
   "metadata": {},
   "outputs": [
    {
     "data": {
      "text/plain": [
       "0.96"
      ]
     },
     "execution_count": 113,
     "metadata": {},
     "output_type": "execute_result"
    }
   ],
   "source": [
    "specificity = cm[1,1]/cm[1,:].sum()\n",
    "specificity"
   ]
  },
  {
   "cell_type": "markdown",
   "metadata": {},
   "source": [
    "此时模型的特异度非常高，如果要求模型把所有类都判为0会误伤已经识别的少数类，从而导致整体的准确率下降；如果希望模型识别出更多的少数类来提升准确率却无法实现，因为一旦模型识别出更多的少数类必然会损伤更多的多数类；尝试模型的class_weight稍微向少数类倾斜，是否能够提升模型的准确率，如果出现更高的准确率说明模型的准确率还没有达到极限"
   ]
  },
  {
   "cell_type": "code",
   "execution_count": 116,
   "metadata": {},
   "outputs": [
    {
     "name": "stdout",
     "output_type": "stream",
     "text": [
      "under rate 1:1.010000,accuracy is 0.847368,recall is 0.401739,auc is 0.848219\n",
      "00:06:114438\n",
      "under rate 1:1.014444,accuracy is 0.847719,recall is 0.403478,auc is 0.848290\n",
      "00:08:754670\n",
      "under rate 1:1.018889,accuracy is 0.848070,recall is 0.405217,auc is 0.848360\n",
      "00:06:777031\n",
      "under rate 1:1.023333,accuracy is 0.848421,recall is 0.406957,auc is 0.848304\n",
      "00:07:063233\n",
      "under rate 1:1.027778,accuracy is 0.848070,recall is 0.406957,auc is 0.848344\n",
      "00:08:230615\n",
      "under rate 1:1.032222,accuracy is 0.848070,recall is 0.406957,auc is 0.848531\n",
      "00:07:170990\n",
      "under rate 1:1.036667,accuracy is 0.848070,recall is 0.408696,auc is 0.848560\n",
      "00:08:484052\n",
      "under rate 1:1.041111,accuracy is 0.848070,recall is 0.408696,auc is 0.848551\n",
      "00:07:976313\n",
      "under rate 1:1.045556,accuracy is 0.848070,recall is 0.412174,auc is 0.848421\n",
      "00:08:494522\n",
      "under rate 1:1.050000,accuracy is 0.848421,recall is 0.413913,auc is 0.848392\n",
      "00:07:845460\n"
     ]
    }
   ],
   "source": [
    "# class_weight稍微向少数类倾斜\n",
    "irange = np.linspace(0.01,0.05,10)\n",
    "for i in irange:\n",
    "    times = time()\n",
    "    clf = SVC(kernel = 'linear',gamma = 'auto',class_weight = {1:1+i}).fit(Xtrain,Ytrain)\n",
    "    result = clf.predict(Xtest)\n",
    "    score = clf.score(Xtest,Ytest)\n",
    "    recall = recall_score(Ytest,result)\n",
    "    auc = roc_auc_score(Ytest,clf.decision_function(Xtest))\n",
    "    print(\"under rate 1:%f,accuracy is %f,recall is %f,auc is %f\"%(1+i,score,recall,auc))\n",
    "    print(datetime.datetime.fromtimestamp(time() - times).strftime('%M:%S:%f'))"
   ]
  },
  {
   "cell_type": "markdown",
   "metadata": {},
   "source": [
    "模型的最高准确率达到84.84%超过之前的84.7%，说明模型还有潜力，通过学习曲线进行调整"
   ]
  },
  {
   "cell_type": "code",
   "execution_count": 119,
   "metadata": {},
   "outputs": [
    {
     "name": "stdout",
     "output_type": "stream",
     "text": [
      "under rate 1:1.040000,accuracy is 0.848070,recall is 0.408696,auc is 0.848546\n",
      "00:07:215306\n",
      "under rate 1:1.042222,accuracy is 0.848070,recall is 0.408696,auc is 0.848550\n",
      "00:07:376448\n",
      "under rate 1:1.044444,accuracy is 0.848070,recall is 0.412174,auc is 0.848423\n",
      "00:08:070559\n",
      "under rate 1:1.046667,accuracy is 0.848070,recall is 0.412174,auc is 0.848417\n",
      "00:07:202926\n",
      "under rate 1:1.048889,accuracy is 0.848070,recall is 0.413913,auc is 0.848391\n",
      "00:08:758826\n",
      "under rate 1:1.051111,accuracy is 0.847719,recall is 0.413913,auc is 0.848398\n",
      "00:07:754975\n",
      "under rate 1:1.053333,accuracy is 0.847368,recall is 0.413913,auc is 0.848323\n",
      "00:07:898096\n",
      "under rate 1:1.055556,accuracy is 0.847368,recall is 0.413913,auc is 0.848313\n",
      "00:07:696629\n",
      "under rate 1:1.057778,accuracy is 0.847719,recall is 0.415652,auc is 0.848321\n",
      "00:08:792311\n",
      "under rate 1:1.060000,accuracy is 0.847719,recall is 0.415652,auc is 0.848308\n",
      "00:08:166782\n"
     ]
    }
   ],
   "source": [
    "irange = np.linspace(0.04,0.06,10)\n",
    "for i in irange:\n",
    "    times = time()\n",
    "    clf = SVC(kernel = 'linear',gamma = 'auto',class_weight = {1:1+i}).fit(Xtrain,Ytrain)\n",
    "    result = clf.predict(Xtest)\n",
    "    score = clf.score(Xtest,Ytest)\n",
    "    recall = recall_score(Ytest,result)\n",
    "    auc = roc_auc_score(Ytest,clf.decision_function(Xtest))\n",
    "    print('under rate 1:%f,accuracy is %f,recall is %f,auc is %f'%(i+1,score,recall,auc))\n",
    "    print(datetime.datetime.fromtimestamp(time() - times).strftime('%M:%S:%f'))"
   ]
  },
  {
   "cell_type": "markdown",
   "metadata": {},
   "source": [
    "在线性和函数支持向量机下的模型准确率最高达84.8%，更换逻辑回归查看是否能够提升准确度"
   ]
  },
  {
   "cell_type": "code",
   "execution_count": 122,
   "metadata": {},
   "outputs": [
    {
     "data": {
      "text/plain": [
       "0.843859649122807"
      ]
     },
     "execution_count": 122,
     "metadata": {},
     "output_type": "execute_result"
    }
   ],
   "source": [
    "from sklearn.linear_model import LogisticRegression as LR\n",
    "logclf = LR(solver = 'liblinear').fit(Xtrain,Ytrain)\n",
    "logclf.score(Xtest,Ytest)"
   ]
  },
  {
   "cell_type": "code",
   "execution_count": 123,
   "metadata": {},
   "outputs": [
    {
     "name": "stdout",
     "output_type": "stream",
     "text": [
      "1.0 0.843859649122807\n",
      "1.4444444444444444 0.8435087719298245\n",
      "1.8888888888888888 0.8431578947368421\n",
      "2.333333333333333 0.8431578947368421\n",
      "2.7777777777777777 0.8431578947368421\n",
      "3.2222222222222223 0.8431578947368421\n",
      "3.6666666666666665 0.8431578947368421\n",
      "4.111111111111111 0.8431578947368421\n",
      "4.555555555555555 0.8431578947368421\n",
      "5.0 0.8431578947368421\n"
     ]
    }
   ],
   "source": [
    "score = []\n",
    "C_range = np.linspace(1,5,10)\n",
    "for C in C_range:\n",
    "    logclf = LR(solver = 'liblinear',C = C).fit(Xtrain,Ytrain)\n",
    "    score.append(logclf.score(Xtest,Ytest))\n",
    "    print(C,logclf.score(Xtest,Ytest))"
   ]
  },
  {
   "cell_type": "code",
   "execution_count": 124,
   "metadata": {},
   "outputs": [
    {
     "data": {
      "image/png": "[encoded data removed]",
      "text/plain": [
       "<Figure size 432x288 with 1 Axes>"
      ]
     },
     "metadata": {
      "needs_background": "light"
     },
     "output_type": "display_data"
    }
   ],
   "source": [
    "plt.plot(C_range,score,marker = 'o')\n",
    "plt.show()"
   ]
  },
  {
   "cell_type": "markdown",
   "metadata": {},
   "source": [
    "可见利用支持向量机得出的准确率稍微高于利用逻辑回归得出的准确率，但是二者差别不大"
   ]
  },
  {
   "cell_type": "markdown",
   "metadata": {},
   "source": [
    "## 9.3 追求accuracy与recall的平衡"
   ]
  },
  {
   "cell_type": "code",
   "execution_count": 125,
   "metadata": {},
   "outputs": [
    {
     "name": "stdout",
     "output_type": "stream",
     "text": [
      "under C = 0.010000,accuracy is 0.779298,recall is 0.746087,auc is 0.845839\n",
      "00:01:686002\n",
      "under C = 1.062105,accuracy is 0.787368,recall is 0.754783,auc is 0.848443\n",
      "00:10:797691\n",
      "under C = 2.114211,accuracy is 0.787719,recall is 0.753043,auc is 0.848406\n",
      "00:18:053055\n",
      "under C = 3.166316,accuracy is 0.787368,recall is 0.753043,auc is 0.848443\n",
      "00:26:317427\n",
      "under C = 4.218421,accuracy is 0.787719,recall is 0.754783,auc is 0.848342\n",
      "00:36:894783\n",
      "under C = 5.270526,accuracy is 0.787368,recall is 0.753043,auc is 0.848354\n",
      "00:40:735245\n",
      "under C = 6.322632,accuracy is 0.786667,recall is 0.751304,auc is 0.848359\n",
      "00:49:994278\n",
      "under C = 7.374737,accuracy is 0.787018,recall is 0.753043,auc is 0.848389\n",
      "00:55:533504\n",
      "under C = 8.426842,accuracy is 0.787719,recall is 0.754783,auc is 0.848369\n",
      "01:06:024725\n",
      "under C = 9.478947,accuracy is 0.787368,recall is 0.753043,auc is 0.848389\n",
      "01:10:135568\n",
      "under C = 10.531053,accuracy is 0.786667,recall is 0.751304,auc is 0.848406\n",
      "01:16:732889\n",
      "under C = 11.583158,accuracy is 0.786667,recall is 0.751304,auc is 0.848355\n",
      "01:23:833059\n",
      "under C = 12.635263,accuracy is 0.786667,recall is 0.753043,auc is 0.848325\n",
      "01:36:000680\n",
      "under C = 13.687368,accuracy is 0.786316,recall is 0.751304,auc is 0.848293\n",
      "01:37:479169\n",
      "under C = 14.739474,accuracy is 0.786667,recall is 0.751304,auc is 0.848301\n",
      "01:45:753240\n",
      "under C = 15.791579,accuracy is 0.785965,recall is 0.751304,auc is 0.848269\n",
      "01:56:196983\n",
      "under C = 16.843684,accuracy is 0.785965,recall is 0.753043,auc is 0.848203\n",
      "02:03:635480\n",
      "under C = 17.895789,accuracy is 0.785614,recall is 0.751304,auc is 0.848118\n",
      "02:09:463660\n",
      "under C = 18.947895,accuracy is 0.785614,recall is 0.751304,auc is 0.848090\n",
      "02:13:624032\n",
      "under C = 20.000000,accuracy is 0.785263,recall is 0.747826,auc is 0.848084\n",
      "02:20:405914\n"
     ]
    }
   ],
   "source": [
    "C_range = np.linspace(0.01,20,20)\n",
    "scoreall = []\n",
    "recallall = []\n",
    "aucall = []\n",
    "for C in C_range:\n",
    "    times = time()\n",
    "    clf = SVC(kernel = 'linear',C = C,class_weight = 'balanced').fit(Xtrain,Ytrain)\n",
    "    result = clf.predict(Xtest)\n",
    "    score = clf.score(Xtest,Ytest)\n",
    "    recall = recall_score(Ytest,result)\n",
    "    auc = roc_auc_score(Ytest,clf.decision_function(Xtest))\n",
    "    scoreall.append(score)\n",
    "    recallall.append(recall)\n",
    "    aucall.append(auc)\n",
    "    print('under C = %f,accuracy is %f,recall is %f,auc is %f'%(C,score,recall,auc))\n",
    "    print(datetime.datetime.fromtimestamp(time() - times).strftime('%M:%S:%f'))"
   ]
  },
  {
   "cell_type": "code",
   "execution_count": 128,
   "metadata": {},
   "outputs": [
    {
     "name": "stdout",
     "output_type": "stream",
     "text": [
      "0.848442618251314 1.0621052631578947\n"
     ]
    },
    {
     "data": {
      "image/png": "[encoded data removed]",
      "text/plain": [
       "<Figure size 432x288 with 1 Axes>"
      ]
     },
     "metadata": {
      "needs_background": "light"
     },
     "output_type": "display_data"
    }
   ],
   "source": [
    "print(max(aucall),C_range[aucall.index(max(aucall))])\n",
    "plt.figure()\n",
    "plt.plot(C_range,recallall,color = 'r',label = 'recall')\n",
    "plt.plot(C_range,aucall,color = 'blue',label = 'auc')\n",
    "plt.plot(C_range,scoreall,color = 'k',label = 'accuracy')\n",
    "plt.legend(loc = 4)\n",
    "plt.ylim([0.70,0.88])\n",
    "plt.show()"
   ]
  },
  {
   "cell_type": "markdown",
   "metadata": {},
   "source": [
    "随着C值变大，模型运行速度变慢，对于SVM来说本身运行速度不快，C值过大消耗增大。C值较小时模型各项指标都较低，当C大于1时模型表现逐步开始稳定，当C变大时模型表现并未出现显著提升。auc在0.85左右，变化，可见增大C值不能使模型发生实质的改变"
   ]
  },
  {
   "cell_type": "code",
   "execution_count": 129,
   "metadata": {},
   "outputs": [
    {
     "name": "stdout",
     "output_type": "stream",
     "text": [
      "test accuracy is 0.787368,recall is 0.754783,auc is 0.848443\n",
      "00:10:795429\n"
     ]
    }
   ],
   "source": [
    "# 将最佳C值带入\n",
    "times = time()\n",
    "clf = SVC(kernel = 'linear',C = 1.0621052631578947,class_weight = 'balanced').fit(Xtrain,Ytrain)\n",
    "result = clf.predict(Xtest)\n",
    "score = clf.score(Xtest,Ytest)\n",
    "recall = recall_score(Ytest,result)\n",
    "auc = roc_auc_score(Ytest,clf.decision_function(Xtest))\n",
    "print('test accuracy is %f,recall is %f,auc is %f'%(score,recall,auc))\n",
    "print(datetime.datetime.fromtimestamp(time() - times).strftime('%M:%S:%f'))"
   ]
  },
  {
   "cell_type": "markdown",
   "metadata": {},
   "source": [
    "##### 此种条件下accuracy recall auc是平衡的结果，并未太差，也不算太好。\n",
    "##### 要想进一步提升auc,单纯调节支持向量机的参数已不能满足要求，需要绘制ROC曲线，查看是否可以通过调节阈值来d对模型进行改进"
   ]
  },
  {
   "cell_type": "code",
   "execution_count": 130,
   "metadata": {},
   "outputs": [],
   "source": [
    "# 调整ROC曲线阈值"
   ]
  },
  {
   "cell_type": "code",
   "execution_count": 132,
   "metadata": {},
   "outputs": [],
   "source": [
    "from sklearn.metrics import roc_curve as ROC\n",
    "fpr,recall,thresholds = ROC(Ytest,clf.decision_function(Xtest),pos_label = 1)\n",
    "area = roc_auc_score(Ytest,clf.decision_function(Xtest))"
   ]
  },
  {
   "cell_type": "code",
   "execution_count": 133,
   "metadata": {},
   "outputs": [
    {
     "data": {
      "image/png": "[encoded data removed]",
      "text/plain": [
       "<Figure size 432x288 with 1 Axes>"
      ]
     },
     "metadata": {
      "needs_background": "light"
     },
     "output_type": "display_data"
    }
   ],
   "source": [
    "# 绘制ROC曲线\n",
    "plt.figure()\n",
    "plt.plot(fpr,recall,color = 'r',label = 'ROC curve(area = %.2f)'%area)\n",
    "plt.plot([0,1],[0,1],color = 'k',linestyle = '--')\n",
    "plt.xlim([-0.05,1.05])\n",
    "plt.ylim([-0.05,1.05])\n",
    "plt.xlabel('False Positive Rate')\n",
    "plt.ylabel('Recall')\n",
    "plt.title('Receiver operating characteristic example')\n",
    "plt.legend(loc = 'lower right')\n",
    "plt.show()"
   ]
  },
  {
   "cell_type": "code",
   "execution_count": 134,
   "metadata": {},
   "outputs": [
    {
     "data": {
      "text/plain": [
       "-0.06834018905769645"
      ]
     },
     "execution_count": 134,
     "metadata": {},
     "output_type": "execute_result"
    }
   ],
   "source": [
    "# 求最佳阈值\n",
    "maxindex = (recall - fpr).tolist().index(max(recall - fpr))\n",
    "thresholds[maxindex]"
   ]
  },
  {
   "cell_type": "code",
   "execution_count": 135,
   "metadata": {},
   "outputs": [
    {
     "name": "stdout",
     "output_type": "stream",
     "text": [
      "<class 'numpy.ndarray'>\n",
      "(614,)\n"
     ]
    }
   ],
   "source": [
    "print(type(recall - fpr))\n",
    "print((recall - fpr).shape)"
   ]
  },
  {
   "cell_type": "code",
   "execution_count": 136,
   "metadata": {},
   "outputs": [],
   "source": [
    "# 根据选出的最佳阈值，确定y_predict，并确定这个阈值下的recall和accuracy"
   ]
  },
  {
   "cell_type": "code",
   "execution_count": 137,
   "metadata": {},
   "outputs": [],
   "source": [
    "from sklearn.metrics import accuracy_score as AC\n",
    "clf = SVC(kernel = 'linear',C = 1.0621052631578947,class_weight = 'balanced').fit(Xtrain,Ytrain)"
   ]
  },
  {
   "cell_type": "code",
   "execution_count": 138,
   "metadata": {},
   "outputs": [],
   "source": [
    "prob = pd.DataFrame(clf.decision_function(Xtest))"
   ]
  },
  {
   "cell_type": "code",
   "execution_count": 141,
   "metadata": {},
   "outputs": [],
   "source": [
    "prob.loc[prob.iloc[:,0] >= thresholds[maxindex],'y_pred'] = 1\n",
    "prob.loc[prob.iloc[:,0] < thresholds[maxindex],'y_pred'] = 0"
   ]
  },
  {
   "cell_type": "code",
   "execution_count": 142,
   "metadata": {},
   "outputs": [
    {
     "name": "stdout",
     "output_type": "stream",
     "text": [
      "testiing accuracy is 0.778947,recall is 0.772174\n"
     ]
    }
   ],
   "source": [
    "# 检查模型本身的准确度\n",
    "score = AC(Ytest,prob.loc[:,'y_pred'].values)\n",
    "recall = recall_score(Ytest,prob.loc[:,'y_pred'])\n",
    "print('testiing accuracy is %f,recall is %f'%(score,recall))"
   ]
  },
  {
   "cell_type": "markdown",
   "metadata": {},
   "source": [
    "调整的结果不如没有调整的好。可见如果追求平衡SVM模型本身已经非常接近最优结果了"
   ]
  },
  {
   "cell_type": "code",
   "execution_count": null,
   "metadata": {},
   "outputs": [],
   "source": []
  }
 ],
 "metadata": {
  "kernelspec": {
   "display_name": "Python 3",
   "language": "python",
   "name": "python3"
  },
  "language_info": {
   "codemirror_mode": {
    "name": "ipython",
    "version": 3
   },
   "file_extension": ".py",
   "mimetype": "text/x-python",
   "name": "python",
   "nbconvert_exporter": "python",
   "pygments_lexer": "ipython3",
   "version": "3.7.3"
  }
 },
 "nbformat": 4,
 "nbformat_minor": 4
}
