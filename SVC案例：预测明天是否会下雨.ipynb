{
 "cells": [
  {
   "cell_type": "markdown",
   "metadata": {},
   "source": [
    "### 导入数据"
   ]
  },
  {
   "cell_type": "code",
   "execution_count": 1,
   "metadata": {},
   "outputs": [],
   "source": [
    "# 导包\n",
    "import numpy as np\n",
    "import pandas as pd\n",
    "import matplotlib.pyplot as plt\n",
    "%matplotlib inline"
   ]
  },
  {
   "cell_type": "code",
   "execution_count": 2,
   "metadata": {},
   "outputs": [
    {
     "data": {
      "text/html": [
       "<div>\n",
       "<style scoped>\n",
       "    .dataframe tbody tr th:only-of-type {\n",
       "        vertical-align: middle;\n",
       "    }\n",
       "\n",
       "    .dataframe tbody tr th {\n",
       "        vertical-align: top;\n",
       "    }\n",
       "\n",
       "    .dataframe thead th {\n",
       "        text-align: right;\n",
       "    }\n",
       "</style>\n",
       "<table border=\"1\" class=\"dataframe\">\n",
       "  <thead>\n",
       "    <tr style=\"text-align: right;\">\n",
       "      <th></th>\n",
       "      <th>Date</th>\n",
       "      <th>Location</th>\n",
       "      <th>MinTemp</th>\n",
       "      <th>MaxTemp</th>\n",
       "      <th>Rainfall</th>\n",
       "      <th>Evaporation</th>\n",
       "      <th>Sunshine</th>\n",
       "      <th>WindGustDir</th>\n",
       "      <th>WindGustSpeed</th>\n",
       "      <th>WindDir9am</th>\n",
       "      <th>WindDir3pm</th>\n",
       "      <th>WindSpeed9am</th>\n",
       "      <th>WindSpeed3pm</th>\n",
       "      <th>Humidity9am</th>\n",
       "      <th>Humidity3pm</th>\n",
       "      <th>Pressure9am</th>\n",
       "      <th>Pressure3pm</th>\n",
       "      <th>Cloud9am</th>\n",
       "      <th>Cloud3pm</th>\n",
       "      <th>Temp9am</th>\n",
       "      <th>Temp3pm</th>\n",
       "      <th>RainTomorrow</th>\n",
       "    </tr>\n",
       "  </thead>\n",
       "  <tbody>\n",
       "    <tr>\n",
       "      <th>0</th>\n",
       "      <td>2008-12-01</td>\n",
       "      <td>Albury</td>\n",
       "      <td>13.4</td>\n",
       "      <td>22.9</td>\n",
       "      <td>0.6</td>\n",
       "      <td>NaN</td>\n",
       "      <td>NaN</td>\n",
       "      <td>W</td>\n",
       "      <td>44.0</td>\n",
       "      <td>W</td>\n",
       "      <td>WNW</td>\n",
       "      <td>20.0</td>\n",
       "      <td>24.0</td>\n",
       "      <td>71.0</td>\n",
       "      <td>22.0</td>\n",
       "      <td>1007.7</td>\n",
       "      <td>1007.1</td>\n",
       "      <td>8.0</td>\n",
       "      <td>NaN</td>\n",
       "      <td>16.9</td>\n",
       "      <td>21.8</td>\n",
       "      <td>No</td>\n",
       "    </tr>\n",
       "    <tr>\n",
       "      <th>1</th>\n",
       "      <td>2008-12-02</td>\n",
       "      <td>Albury</td>\n",
       "      <td>7.4</td>\n",
       "      <td>25.1</td>\n",
       "      <td>0.0</td>\n",
       "      <td>NaN</td>\n",
       "      <td>NaN</td>\n",
       "      <td>WNW</td>\n",
       "      <td>44.0</td>\n",
       "      <td>NNW</td>\n",
       "      <td>WSW</td>\n",
       "      <td>4.0</td>\n",
       "      <td>22.0</td>\n",
       "      <td>44.0</td>\n",
       "      <td>25.0</td>\n",
       "      <td>1010.6</td>\n",
       "      <td>1007.8</td>\n",
       "      <td>NaN</td>\n",
       "      <td>NaN</td>\n",
       "      <td>17.2</td>\n",
       "      <td>24.3</td>\n",
       "      <td>No</td>\n",
       "    </tr>\n",
       "    <tr>\n",
       "      <th>2</th>\n",
       "      <td>2008-12-03</td>\n",
       "      <td>Albury</td>\n",
       "      <td>12.9</td>\n",
       "      <td>25.7</td>\n",
       "      <td>0.0</td>\n",
       "      <td>NaN</td>\n",
       "      <td>NaN</td>\n",
       "      <td>WSW</td>\n",
       "      <td>46.0</td>\n",
       "      <td>W</td>\n",
       "      <td>WSW</td>\n",
       "      <td>19.0</td>\n",
       "      <td>26.0</td>\n",
       "      <td>38.0</td>\n",
       "      <td>30.0</td>\n",
       "      <td>1007.6</td>\n",
       "      <td>1008.7</td>\n",
       "      <td>NaN</td>\n",
       "      <td>2.0</td>\n",
       "      <td>21.0</td>\n",
       "      <td>23.2</td>\n",
       "      <td>No</td>\n",
       "    </tr>\n",
       "    <tr>\n",
       "      <th>3</th>\n",
       "      <td>2008-12-04</td>\n",
       "      <td>Albury</td>\n",
       "      <td>9.2</td>\n",
       "      <td>28.0</td>\n",
       "      <td>0.0</td>\n",
       "      <td>NaN</td>\n",
       "      <td>NaN</td>\n",
       "      <td>NE</td>\n",
       "      <td>24.0</td>\n",
       "      <td>SE</td>\n",
       "      <td>E</td>\n",
       "      <td>11.0</td>\n",
       "      <td>9.0</td>\n",
       "      <td>45.0</td>\n",
       "      <td>16.0</td>\n",
       "      <td>1017.6</td>\n",
       "      <td>1012.8</td>\n",
       "      <td>NaN</td>\n",
       "      <td>NaN</td>\n",
       "      <td>18.1</td>\n",
       "      <td>26.5</td>\n",
       "      <td>No</td>\n",
       "    </tr>\n",
       "    <tr>\n",
       "      <th>4</th>\n",
       "      <td>2008-12-05</td>\n",
       "      <td>Albury</td>\n",
       "      <td>17.5</td>\n",
       "      <td>32.3</td>\n",
       "      <td>1.0</td>\n",
       "      <td>NaN</td>\n",
       "      <td>NaN</td>\n",
       "      <td>W</td>\n",
       "      <td>41.0</td>\n",
       "      <td>ENE</td>\n",
       "      <td>NW</td>\n",
       "      <td>7.0</td>\n",
       "      <td>20.0</td>\n",
       "      <td>82.0</td>\n",
       "      <td>33.0</td>\n",
       "      <td>1010.8</td>\n",
       "      <td>1006.0</td>\n",
       "      <td>7.0</td>\n",
       "      <td>8.0</td>\n",
       "      <td>17.8</td>\n",
       "      <td>29.7</td>\n",
       "      <td>No</td>\n",
       "    </tr>\n",
       "  </tbody>\n",
       "</table>\n",
       "</div>"
      ],
      "text/plain": [
       "         Date Location  MinTemp  MaxTemp  Rainfall  Evaporation  Sunshine  \\\n",
       "0  2008-12-01   Albury     13.4     22.9       0.6          NaN       NaN   \n",
       "1  2008-12-02   Albury      7.4     25.1       0.0          NaN       NaN   \n",
       "2  2008-12-03   Albury     12.9     25.7       0.0          NaN       NaN   \n",
       "3  2008-12-04   Albury      9.2     28.0       0.0          NaN       NaN   \n",
       "4  2008-12-05   Albury     17.5     32.3       1.0          NaN       NaN   \n",
       "\n",
       "  WindGustDir  WindGustSpeed WindDir9am WindDir3pm  WindSpeed9am  \\\n",
       "0           W           44.0          W        WNW          20.0   \n",
       "1         WNW           44.0        NNW        WSW           4.0   \n",
       "2         WSW           46.0          W        WSW          19.0   \n",
       "3          NE           24.0         SE          E          11.0   \n",
       "4           W           41.0        ENE         NW           7.0   \n",
       "\n",
       "   WindSpeed3pm  Humidity9am  Humidity3pm  Pressure9am  Pressure3pm  Cloud9am  \\\n",
       "0          24.0         71.0         22.0       1007.7       1007.1       8.0   \n",
       "1          22.0         44.0         25.0       1010.6       1007.8       NaN   \n",
       "2          26.0         38.0         30.0       1007.6       1008.7       NaN   \n",
       "3           9.0         45.0         16.0       1017.6       1012.8       NaN   \n",
       "4          20.0         82.0         33.0       1010.8       1006.0       7.0   \n",
       "\n",
       "   Cloud3pm  Temp9am  Temp3pm RainTomorrow  \n",
       "0       NaN     16.9     21.8           No  \n",
       "1       NaN     17.2     24.3           No  \n",
       "2       2.0     21.0     23.2           No  \n",
       "3       NaN     18.1     26.5           No  \n",
       "4       8.0     17.8     29.7           No  "
      ]
     },
     "execution_count": 2,
     "metadata": {},
     "output_type": "execute_result"
    }
   ],
   "source": [
    "# 导入数据\n",
    "df = pd.read_csv(r'E:\\CDA数据分析就业班\\10.机器学习\\进阶算法\\data&code\\weather.csv',index_col=0)\n",
    "pd.set_option('max_columns',100)\n",
    "df.head()"
   ]
  },
  {
   "cell_type": "code",
   "execution_count": 3,
   "metadata": {},
   "outputs": [
    {
     "data": {
      "text/plain": [
       "(142193, 22)"
      ]
     },
     "execution_count": 3,
     "metadata": {},
     "output_type": "execute_result"
    }
   ],
   "source": [
    "df.shape"
   ]
  },
  {
   "cell_type": "code",
   "execution_count": 4,
   "metadata": {},
   "outputs": [
    {
     "data": {
      "text/html": [
       "<div>\n",
       "<style scoped>\n",
       "    .dataframe tbody tr th:only-of-type {\n",
       "        vertical-align: middle;\n",
       "    }\n",
       "\n",
       "    .dataframe tbody tr th {\n",
       "        vertical-align: top;\n",
       "    }\n",
       "\n",
       "    .dataframe thead th {\n",
       "        text-align: right;\n",
       "    }\n",
       "</style>\n",
       "<table border=\"1\" class=\"dataframe\">\n",
       "  <thead>\n",
       "    <tr style=\"text-align: right;\">\n",
       "      <th></th>\n",
       "      <th>Date</th>\n",
       "      <th>Location</th>\n",
       "      <th>MinTemp</th>\n",
       "      <th>MaxTemp</th>\n",
       "      <th>Rainfall</th>\n",
       "      <th>Evaporation</th>\n",
       "      <th>Sunshine</th>\n",
       "      <th>WindGustDir</th>\n",
       "      <th>WindGustSpeed</th>\n",
       "      <th>WindDir9am</th>\n",
       "      <th>WindDir3pm</th>\n",
       "      <th>WindSpeed9am</th>\n",
       "      <th>WindSpeed3pm</th>\n",
       "      <th>Humidity9am</th>\n",
       "      <th>Humidity3pm</th>\n",
       "      <th>Pressure9am</th>\n",
       "      <th>Pressure3pm</th>\n",
       "      <th>Cloud9am</th>\n",
       "      <th>Cloud3pm</th>\n",
       "      <th>Temp9am</th>\n",
       "      <th>Temp3pm</th>\n",
       "      <th>RainTomorrow</th>\n",
       "    </tr>\n",
       "  </thead>\n",
       "  <tbody>\n",
       "    <tr>\n",
       "      <th>0</th>\n",
       "      <td>2012-10-09</td>\n",
       "      <td>Cairns</td>\n",
       "      <td>17.4</td>\n",
       "      <td>29.0</td>\n",
       "      <td>0.0</td>\n",
       "      <td>3.6</td>\n",
       "      <td>11.1</td>\n",
       "      <td>NNE</td>\n",
       "      <td>33.0</td>\n",
       "      <td>SE</td>\n",
       "      <td>NNE</td>\n",
       "      <td>11.0</td>\n",
       "      <td>19.0</td>\n",
       "      <td>63.0</td>\n",
       "      <td>61.0</td>\n",
       "      <td>1013.1</td>\n",
       "      <td>1008.9</td>\n",
       "      <td>1.0</td>\n",
       "      <td>0.0</td>\n",
       "      <td>26.1</td>\n",
       "      <td>27.8</td>\n",
       "      <td>No</td>\n",
       "    </tr>\n",
       "    <tr>\n",
       "      <th>1</th>\n",
       "      <td>2011-05-24</td>\n",
       "      <td>Bendigo</td>\n",
       "      <td>6.8</td>\n",
       "      <td>14.4</td>\n",
       "      <td>0.8</td>\n",
       "      <td>0.8</td>\n",
       "      <td>NaN</td>\n",
       "      <td>S</td>\n",
       "      <td>46.0</td>\n",
       "      <td>SW</td>\n",
       "      <td>S</td>\n",
       "      <td>17.0</td>\n",
       "      <td>22.0</td>\n",
       "      <td>80.0</td>\n",
       "      <td>55.0</td>\n",
       "      <td>1010.2</td>\n",
       "      <td>1012.4</td>\n",
       "      <td>5.0</td>\n",
       "      <td>4.0</td>\n",
       "      <td>10.4</td>\n",
       "      <td>12.7</td>\n",
       "      <td>No</td>\n",
       "    </tr>\n",
       "    <tr>\n",
       "      <th>2</th>\n",
       "      <td>2009-08-06</td>\n",
       "      <td>Walpole</td>\n",
       "      <td>10.1</td>\n",
       "      <td>15.4</td>\n",
       "      <td>14.6</td>\n",
       "      <td>NaN</td>\n",
       "      <td>NaN</td>\n",
       "      <td>WSW</td>\n",
       "      <td>31.0</td>\n",
       "      <td>SW</td>\n",
       "      <td>SSE</td>\n",
       "      <td>13.0</td>\n",
       "      <td>9.0</td>\n",
       "      <td>70.0</td>\n",
       "      <td>61.0</td>\n",
       "      <td>1014.4</td>\n",
       "      <td>1016.1</td>\n",
       "      <td>NaN</td>\n",
       "      <td>NaN</td>\n",
       "      <td>12.3</td>\n",
       "      <td>13.0</td>\n",
       "      <td>No</td>\n",
       "    </tr>\n",
       "    <tr>\n",
       "      <th>3</th>\n",
       "      <td>2009-03-06</td>\n",
       "      <td>Perth</td>\n",
       "      <td>14.4</td>\n",
       "      <td>33.4</td>\n",
       "      <td>0.0</td>\n",
       "      <td>8.0</td>\n",
       "      <td>11.6</td>\n",
       "      <td>SW</td>\n",
       "      <td>41.0</td>\n",
       "      <td>ESE</td>\n",
       "      <td>SW</td>\n",
       "      <td>9.0</td>\n",
       "      <td>17.0</td>\n",
       "      <td>40.0</td>\n",
       "      <td>23.0</td>\n",
       "      <td>1019.2</td>\n",
       "      <td>1016.6</td>\n",
       "      <td>1.0</td>\n",
       "      <td>0.0</td>\n",
       "      <td>23.0</td>\n",
       "      <td>32.3</td>\n",
       "      <td>No</td>\n",
       "    </tr>\n",
       "    <tr>\n",
       "      <th>4</th>\n",
       "      <td>2010-07-02</td>\n",
       "      <td>AliceSprings</td>\n",
       "      <td>6.8</td>\n",
       "      <td>14.3</td>\n",
       "      <td>10.0</td>\n",
       "      <td>0.2</td>\n",
       "      <td>7.3</td>\n",
       "      <td>E</td>\n",
       "      <td>28.0</td>\n",
       "      <td>ENE</td>\n",
       "      <td>ESE</td>\n",
       "      <td>15.0</td>\n",
       "      <td>13.0</td>\n",
       "      <td>92.0</td>\n",
       "      <td>47.0</td>\n",
       "      <td>1027.6</td>\n",
       "      <td>1024.4</td>\n",
       "      <td>7.0</td>\n",
       "      <td>1.0</td>\n",
       "      <td>7.3</td>\n",
       "      <td>13.7</td>\n",
       "      <td>No</td>\n",
       "    </tr>\n",
       "  </tbody>\n",
       "</table>\n",
       "</div>"
      ],
      "text/plain": [
       "         Date      Location  MinTemp  MaxTemp  Rainfall  Evaporation  \\\n",
       "0  2012-10-09        Cairns     17.4     29.0       0.0          3.6   \n",
       "1  2011-05-24       Bendigo      6.8     14.4       0.8          0.8   \n",
       "2  2009-08-06       Walpole     10.1     15.4      14.6          NaN   \n",
       "3  2009-03-06         Perth     14.4     33.4       0.0          8.0   \n",
       "4  2010-07-02  AliceSprings      6.8     14.3      10.0          0.2   \n",
       "\n",
       "   Sunshine WindGustDir  WindGustSpeed WindDir9am WindDir3pm  WindSpeed9am  \\\n",
       "0      11.1         NNE           33.0         SE        NNE          11.0   \n",
       "1       NaN           S           46.0         SW          S          17.0   \n",
       "2       NaN         WSW           31.0         SW        SSE          13.0   \n",
       "3      11.6          SW           41.0        ESE         SW           9.0   \n",
       "4       7.3           E           28.0        ENE        ESE          15.0   \n",
       "\n",
       "   WindSpeed3pm  Humidity9am  Humidity3pm  Pressure9am  Pressure3pm  Cloud9am  \\\n",
       "0          19.0         63.0         61.0       1013.1       1008.9       1.0   \n",
       "1          22.0         80.0         55.0       1010.2       1012.4       5.0   \n",
       "2           9.0         70.0         61.0       1014.4       1016.1       NaN   \n",
       "3          17.0         40.0         23.0       1019.2       1016.6       1.0   \n",
       "4          13.0         92.0         47.0       1027.6       1024.4       7.0   \n",
       "\n",
       "   Cloud3pm  Temp9am  Temp3pm RainTomorrow  \n",
       "0       0.0     26.1     27.8           No  \n",
       "1       4.0     10.4     12.7           No  \n",
       "2       NaN     12.3     13.0           No  \n",
       "3       0.0     23.0     32.3           No  \n",
       "4       1.0      7.3     13.7           No  "
      ]
     },
     "execution_count": 4,
     "metadata": {},
     "output_type": "execute_result"
    }
   ],
   "source": [
    "#抽取5000条样本进行后续处理\n",
    "weather = df.sample(n=5000,random_state=0)   # 提取的索引是打乱的\n",
    "weather.index = range(weather.shape[0])      # 重置索引\n",
    "weather.head()"
   ]
  },
  {
   "cell_type": "code",
   "execution_count": 5,
   "metadata": {},
   "outputs": [
    {
     "data": {
      "text/plain": [
       "Index(['Date', 'Location', 'MinTemp', 'MaxTemp', 'Rainfall', 'Evaporation',\n",
       "       'Sunshine', 'WindGustDir', 'WindGustSpeed', 'WindDir9am', 'WindDir3pm',\n",
       "       'WindSpeed9am', 'WindSpeed3pm', 'Humidity9am', 'Humidity3pm',\n",
       "       'Pressure9am', 'Pressure3pm', 'Cloud9am', 'Cloud3pm', 'Temp9am',\n",
       "       'Temp3pm', 'RainTomorrow'],\n",
       "      dtype='object')"
      ]
     },
     "execution_count": 5,
     "metadata": {},
     "output_type": "execute_result"
    }
   ],
   "source": [
    "weather.columns"
   ]
  },
  {
   "cell_type": "code",
   "execution_count": 6,
   "metadata": {},
   "outputs": [
    {
     "data": {
      "text/plain": [
       "Date              object\n",
       "Location          object\n",
       "MinTemp          float64\n",
       "MaxTemp          float64\n",
       "Rainfall         float64\n",
       "Evaporation      float64\n",
       "Sunshine         float64\n",
       "WindGustDir       object\n",
       "WindGustSpeed    float64\n",
       "WindDir9am        object\n",
       "WindDir3pm        object\n",
       "WindSpeed9am     float64\n",
       "WindSpeed3pm     float64\n",
       "Humidity9am      float64\n",
       "Humidity3pm      float64\n",
       "Pressure9am      float64\n",
       "Pressure3pm      float64\n",
       "Cloud9am         float64\n",
       "Cloud3pm         float64\n",
       "Temp9am          float64\n",
       "Temp3pm          float64\n",
       "RainTomorrow      object\n",
       "dtype: object"
      ]
     },
     "execution_count": 6,
     "metadata": {},
     "output_type": "execute_result"
    }
   ],
   "source": [
    "weather.dtypes"
   ]
  },
  {
   "cell_type": "code",
   "execution_count": 7,
   "metadata": {},
   "outputs": [],
   "source": [
    "#每个变量value_counts()  unique()  初步探索数据"
   ]
  },
  {
   "cell_type": "code",
   "execution_count": 8,
   "metadata": {},
   "outputs": [
    {
     "name": "stdout",
     "output_type": "stream",
     "text": [
      "<class 'pandas.core.frame.DataFrame'>\n",
      "RangeIndex: 5000 entries, 0 to 4999\n",
      "Data columns (total 22 columns):\n",
      "Date             5000 non-null object\n",
      "Location         5000 non-null object\n",
      "MinTemp          4968 non-null float64\n",
      "MaxTemp          4986 non-null float64\n",
      "Rainfall         4937 non-null float64\n",
      "Evaporation      2813 non-null float64\n",
      "Sunshine         2592 non-null float64\n",
      "WindGustDir      4640 non-null object\n",
      "WindGustSpeed    4642 non-null float64\n",
      "WindDir9am       4650 non-null object\n",
      "WindDir3pm       4854 non-null object\n",
      "WindSpeed9am     4951 non-null float64\n",
      "WindSpeed3pm     4896 non-null float64\n",
      "Humidity9am      4947 non-null float64\n",
      "Humidity3pm      4869 non-null float64\n",
      "Pressure9am      4459 non-null float64\n",
      "Pressure3pm      4458 non-null float64\n",
      "Cloud9am         3123 non-null float64\n",
      "Cloud3pm         2989 non-null float64\n",
      "Temp9am          4974 non-null float64\n",
      "Temp3pm          4895 non-null float64\n",
      "RainTomorrow     5000 non-null object\n",
      "dtypes: float64(16), object(6)\n",
      "memory usage: 859.5+ KB\n"
     ]
    }
   ],
   "source": [
    "# 查看整体信息\n",
    "weather.info()"
   ]
  },
  {
   "cell_type": "code",
   "execution_count": 9,
   "metadata": {},
   "outputs": [],
   "source": [
    "# 分别提取特征矩阵和标签\n",
    "X = weather.iloc[:,:-1]\n",
    "Y = weather.iloc[:,-1]"
   ]
  },
  {
   "cell_type": "code",
   "execution_count": 10,
   "metadata": {},
   "outputs": [
    {
     "data": {
      "text/plain": [
       "array(['No', 'Yes'], dtype=object)"
      ]
     },
     "execution_count": 10,
     "metadata": {},
     "output_type": "execute_result"
    }
   ],
   "source": [
    "np.unique(Y)"
   ]
  },
  {
   "cell_type": "code",
   "execution_count": 11,
   "metadata": {},
   "outputs": [
    {
     "data": {
      "text/plain": [
       "(5000, 21)"
      ]
     },
     "execution_count": 11,
     "metadata": {},
     "output_type": "execute_result"
    }
   ],
   "source": [
    "X.shape"
   ]
  },
  {
   "cell_type": "code",
   "execution_count": 12,
   "metadata": {},
   "outputs": [
    {
     "data": {
      "text/plain": [
       "Date             0.0000\n",
       "Location         0.0000\n",
       "MinTemp          0.0064\n",
       "MaxTemp          0.0028\n",
       "Rainfall         0.0126\n",
       "Evaporation      0.4374\n",
       "Sunshine         0.4816\n",
       "WindGustDir      0.0720\n",
       "WindGustSpeed    0.0716\n",
       "WindDir9am       0.0700\n",
       "WindDir3pm       0.0292\n",
       "WindSpeed9am     0.0098\n",
       "WindSpeed3pm     0.0208\n",
       "Humidity9am      0.0106\n",
       "Humidity3pm      0.0262\n",
       "Pressure9am      0.1082\n",
       "Pressure3pm      0.1084\n",
       "Cloud9am         0.3754\n",
       "Cloud3pm         0.4022\n",
       "Temp9am          0.0052\n",
       "Temp3pm          0.0210\n",
       "dtype: float64"
      ]
     },
     "execution_count": 12,
     "metadata": {},
     "output_type": "execute_result"
    }
   ],
   "source": [
    "# 查看缺失值比例（各个特征的缺失值比例）\n",
    "X.isnull().mean()"
   ]
  },
  {
   "cell_type": "markdown",
   "metadata": {},
   "source": [
    "### 切分数据集 探索标签"
   ]
  },
  {
   "cell_type": "code",
   "execution_count": 13,
   "metadata": {},
   "outputs": [],
   "source": [
    "# 切分训练集和测试集\n",
    "from sklearn.model_selection import train_test_split\n",
    "Xtrain,Xtest,Ytrain,Ytest = train_test_split(X,Y,test_size=0.3,random_state=420)"
   ]
  },
  {
   "cell_type": "code",
   "execution_count": 14,
   "metadata": {},
   "outputs": [],
   "source": [
    "# 恢复索引\n",
    "for i in [Xtrain,Xtest,Ytrain,Ytest]:\n",
    "    i.index = range(i.shape[0])"
   ]
  },
  {
   "cell_type": "code",
   "execution_count": 15,
   "metadata": {},
   "outputs": [],
   "source": [
    "# 通过Xtrain.head()进行探索"
   ]
  },
  {
   "cell_type": "code",
   "execution_count": 16,
   "metadata": {},
   "outputs": [],
   "source": [
    "# 先划分数据集，对数据集的操作对测试集也要做相同的，比如填补训练集均值，那测试集也要填补训练集的均值"
   ]
  },
  {
   "cell_type": "code",
   "execution_count": 17,
   "metadata": {},
   "outputs": [
    {
     "data": {
      "text/plain": [
       "No     2710\n",
       "Yes     790\n",
       "Name: RainTomorrow, dtype: int64"
      ]
     },
     "execution_count": 17,
     "metadata": {},
     "output_type": "execute_result"
    }
   ],
   "source": [
    "# 查看是否有样本不均衡问题\n",
    "Ytrain.value_counts()"
   ]
  },
  {
   "cell_type": "code",
   "execution_count": 18,
   "metadata": {},
   "outputs": [
    {
     "data": {
      "text/plain": [
       "No     1137\n",
       "Yes     363\n",
       "Name: RainTomorrow, dtype: int64"
      ]
     },
     "execution_count": 18,
     "metadata": {},
     "output_type": "execute_result"
    }
   ],
   "source": [
    "Ytest.value_counts()"
   ]
  },
  {
   "cell_type": "code",
   "execution_count": 19,
   "metadata": {},
   "outputs": [],
   "source": [
    "# 看到训练集中存在样本不均衡问题，是否存在看容忍能力"
   ]
  },
  {
   "cell_type": "code",
   "execution_count": 20,
   "metadata": {},
   "outputs": [
    {
     "data": {
      "text/plain": [
       "array([0, 0, 0, ..., 0, 0, 1])"
      ]
     },
     "execution_count": 20,
     "metadata": {},
     "output_type": "execute_result"
    }
   ],
   "source": [
    "# 对标签进行编码\n",
    "from sklearn.preprocessing import LabelEncoder # 标签专用处理包\n",
    "encoder = LabelEncoder().fit(Ytrain)           # 由于还要做test，所以将fit和transform分开\n",
    "encoder.transform(Ytrain)\n",
    "encoder.transform(Ytest)"
   ]
  },
  {
   "cell_type": "code",
   "execution_count": 21,
   "metadata": {},
   "outputs": [
    {
     "data": {
      "text/plain": [
       "array(['No', 'Yes'], dtype=object)"
      ]
     },
     "execution_count": 21,
     "metadata": {},
     "output_type": "execute_result"
    }
   ],
   "source": [
    "encoder.classes_  # 查看对应编码  按照首字母排列 "
   ]
  },
  {
   "cell_type": "code",
   "execution_count": 22,
   "metadata": {},
   "outputs": [],
   "source": [
    "from sklearn.preprocessing import OrdinalEncoder  # 特征编码专用包"
   ]
  },
  {
   "cell_type": "code",
   "execution_count": 23,
   "metadata": {},
   "outputs": [],
   "source": [
    "#fit得到的是一个模型，如果得到的模型要用于不同对象fit和transform分开\n",
    "#如果fit得到的模型只用在一个对象，可以用fit_transform()"
   ]
  },
  {
   "cell_type": "markdown",
   "metadata": {},
   "source": [
    "<!-- 关于fit/transform/fit_transform\n",
    "fit：得到一个模型，如果想把模型用到不同的对象上，需要fit和transform分开。\n",
    "如果fit得到的模型用在同一个对象上，可以用fit_transform() -->"
   ]
  },
  {
   "cell_type": "code",
   "execution_count": 24,
   "metadata": {},
   "outputs": [],
   "source": [
    "Ytrain = pd.DataFrame(encoder.transform(Ytrain))\n",
    "Ytest = pd.DataFrame(encoder.transform(Ytest))"
   ]
  },
  {
   "cell_type": "code",
   "execution_count": 25,
   "metadata": {},
   "outputs": [
    {
     "data": {
      "text/html": [
       "<div>\n",
       "<style scoped>\n",
       "    .dataframe tbody tr th:only-of-type {\n",
       "        vertical-align: middle;\n",
       "    }\n",
       "\n",
       "    .dataframe tbody tr th {\n",
       "        vertical-align: top;\n",
       "    }\n",
       "\n",
       "    .dataframe thead th {\n",
       "        text-align: right;\n",
       "    }\n",
       "</style>\n",
       "<table border=\"1\" class=\"dataframe\">\n",
       "  <thead>\n",
       "    <tr style=\"text-align: right;\">\n",
       "      <th></th>\n",
       "      <th>0</th>\n",
       "    </tr>\n",
       "  </thead>\n",
       "  <tbody>\n",
       "    <tr>\n",
       "      <th>0</th>\n",
       "      <td>0</td>\n",
       "    </tr>\n",
       "    <tr>\n",
       "      <th>1</th>\n",
       "      <td>0</td>\n",
       "    </tr>\n",
       "    <tr>\n",
       "      <th>2</th>\n",
       "      <td>1</td>\n",
       "    </tr>\n",
       "    <tr>\n",
       "      <th>3</th>\n",
       "      <td>0</td>\n",
       "    </tr>\n",
       "    <tr>\n",
       "      <th>4</th>\n",
       "      <td>0</td>\n",
       "    </tr>\n",
       "  </tbody>\n",
       "</table>\n",
       "</div>"
      ],
      "text/plain": [
       "   0\n",
       "0  0\n",
       "1  0\n",
       "2  1\n",
       "3  0\n",
       "4  0"
      ]
     },
     "execution_count": 25,
     "metadata": {},
     "output_type": "execute_result"
    }
   ],
   "source": [
    "Ytrain.head()"
   ]
  },
  {
   "cell_type": "code",
   "execution_count": 26,
   "metadata": {},
   "outputs": [
    {
     "data": {
      "text/html": [
       "<div>\n",
       "<style scoped>\n",
       "    .dataframe tbody tr th:only-of-type {\n",
       "        vertical-align: middle;\n",
       "    }\n",
       "\n",
       "    .dataframe tbody tr th {\n",
       "        vertical-align: top;\n",
       "    }\n",
       "\n",
       "    .dataframe thead th {\n",
       "        text-align: right;\n",
       "    }\n",
       "</style>\n",
       "<table border=\"1\" class=\"dataframe\">\n",
       "  <thead>\n",
       "    <tr style=\"text-align: right;\">\n",
       "      <th></th>\n",
       "      <th>0</th>\n",
       "    </tr>\n",
       "  </thead>\n",
       "  <tbody>\n",
       "    <tr>\n",
       "      <th>0</th>\n",
       "      <td>0</td>\n",
       "    </tr>\n",
       "    <tr>\n",
       "      <th>1</th>\n",
       "      <td>0</td>\n",
       "    </tr>\n",
       "    <tr>\n",
       "      <th>2</th>\n",
       "      <td>0</td>\n",
       "    </tr>\n",
       "    <tr>\n",
       "      <th>3</th>\n",
       "      <td>0</td>\n",
       "    </tr>\n",
       "    <tr>\n",
       "      <th>4</th>\n",
       "      <td>0</td>\n",
       "    </tr>\n",
       "  </tbody>\n",
       "</table>\n",
       "</div>"
      ],
      "text/plain": [
       "   0\n",
       "0  0\n",
       "1  0\n",
       "2  0\n",
       "3  0\n",
       "4  0"
      ]
     },
     "execution_count": 26,
     "metadata": {},
     "output_type": "execute_result"
    }
   ],
   "source": [
    "Ytest.head()"
   ]
  },
  {
   "cell_type": "markdown",
   "metadata": {},
   "source": [
    "### 探索特征"
   ]
  },
  {
   "cell_type": "code",
   "execution_count": 27,
   "metadata": {},
   "outputs": [
    {
     "data": {
      "text/html": [
       "<div>\n",
       "<style scoped>\n",
       "    .dataframe tbody tr th:only-of-type {\n",
       "        vertical-align: middle;\n",
       "    }\n",
       "\n",
       "    .dataframe tbody tr th {\n",
       "        vertical-align: top;\n",
       "    }\n",
       "\n",
       "    .dataframe thead th {\n",
       "        text-align: right;\n",
       "    }\n",
       "</style>\n",
       "<table border=\"1\" class=\"dataframe\">\n",
       "  <thead>\n",
       "    <tr style=\"text-align: right;\">\n",
       "      <th></th>\n",
       "      <th>count</th>\n",
       "      <th>mean</th>\n",
       "      <th>std</th>\n",
       "      <th>min</th>\n",
       "      <th>1%</th>\n",
       "      <th>5%</th>\n",
       "      <th>10%</th>\n",
       "      <th>25%</th>\n",
       "      <th>50%</th>\n",
       "      <th>75%</th>\n",
       "      <th>90%</th>\n",
       "      <th>99%</th>\n",
       "      <th>max</th>\n",
       "    </tr>\n",
       "  </thead>\n",
       "  <tbody>\n",
       "    <tr>\n",
       "      <th>MinTemp</th>\n",
       "      <td>3477.0</td>\n",
       "      <td>12.340236</td>\n",
       "      <td>6.384294</td>\n",
       "      <td>-6.9</td>\n",
       "      <td>-2.024</td>\n",
       "      <td>2.1</td>\n",
       "      <td>4.3</td>\n",
       "      <td>7.700</td>\n",
       "      <td>12.1</td>\n",
       "      <td>17.0</td>\n",
       "      <td>20.9</td>\n",
       "      <td>25.824</td>\n",
       "      <td>29.1</td>\n",
       "    </tr>\n",
       "    <tr>\n",
       "      <th>MaxTemp</th>\n",
       "      <td>3492.0</td>\n",
       "      <td>23.232904</td>\n",
       "      <td>6.992256</td>\n",
       "      <td>-4.1</td>\n",
       "      <td>8.900</td>\n",
       "      <td>12.7</td>\n",
       "      <td>14.6</td>\n",
       "      <td>18.200</td>\n",
       "      <td>22.7</td>\n",
       "      <td>28.1</td>\n",
       "      <td>32.8</td>\n",
       "      <td>39.600</td>\n",
       "      <td>43.7</td>\n",
       "    </tr>\n",
       "    <tr>\n",
       "      <th>Rainfall</th>\n",
       "      <td>3460.0</td>\n",
       "      <td>2.106618</td>\n",
       "      <td>6.570495</td>\n",
       "      <td>0.0</td>\n",
       "      <td>0.000</td>\n",
       "      <td>0.0</td>\n",
       "      <td>0.0</td>\n",
       "      <td>0.000</td>\n",
       "      <td>0.0</td>\n",
       "      <td>0.8</td>\n",
       "      <td>6.0</td>\n",
       "      <td>35.400</td>\n",
       "      <td>102.0</td>\n",
       "    </tr>\n",
       "    <tr>\n",
       "      <th>Evaporation</th>\n",
       "      <td>1986.0</td>\n",
       "      <td>5.398489</td>\n",
       "      <td>3.837948</td>\n",
       "      <td>0.0</td>\n",
       "      <td>0.400</td>\n",
       "      <td>1.0</td>\n",
       "      <td>1.4</td>\n",
       "      <td>2.725</td>\n",
       "      <td>4.8</td>\n",
       "      <td>7.4</td>\n",
       "      <td>9.8</td>\n",
       "      <td>17.430</td>\n",
       "      <td>52.4</td>\n",
       "    </tr>\n",
       "    <tr>\n",
       "      <th>Sunshine</th>\n",
       "      <td>1835.0</td>\n",
       "      <td>7.723869</td>\n",
       "      <td>3.691531</td>\n",
       "      <td>0.0</td>\n",
       "      <td>0.000</td>\n",
       "      <td>0.4</td>\n",
       "      <td>2.0</td>\n",
       "      <td>5.100</td>\n",
       "      <td>8.5</td>\n",
       "      <td>10.6</td>\n",
       "      <td>12.0</td>\n",
       "      <td>13.400</td>\n",
       "      <td>14.3</td>\n",
       "    </tr>\n",
       "    <tr>\n",
       "      <th>WindGustSpeed</th>\n",
       "      <td>3254.0</td>\n",
       "      <td>39.878611</td>\n",
       "      <td>13.492322</td>\n",
       "      <td>9.0</td>\n",
       "      <td>15.000</td>\n",
       "      <td>20.0</td>\n",
       "      <td>24.0</td>\n",
       "      <td>31.000</td>\n",
       "      <td>39.0</td>\n",
       "      <td>46.0</td>\n",
       "      <td>57.0</td>\n",
       "      <td>81.000</td>\n",
       "      <td>115.0</td>\n",
       "    </tr>\n",
       "    <tr>\n",
       "      <th>WindSpeed9am</th>\n",
       "      <td>3470.0</td>\n",
       "      <td>13.924784</td>\n",
       "      <td>8.861956</td>\n",
       "      <td>0.0</td>\n",
       "      <td>0.000</td>\n",
       "      <td>0.0</td>\n",
       "      <td>4.0</td>\n",
       "      <td>7.000</td>\n",
       "      <td>13.0</td>\n",
       "      <td>19.0</td>\n",
       "      <td>26.0</td>\n",
       "      <td>39.000</td>\n",
       "      <td>52.0</td>\n",
       "    </tr>\n",
       "    <tr>\n",
       "      <th>WindSpeed3pm</th>\n",
       "      <td>3426.0</td>\n",
       "      <td>18.765032</td>\n",
       "      <td>8.915825</td>\n",
       "      <td>0.0</td>\n",
       "      <td>2.000</td>\n",
       "      <td>6.0</td>\n",
       "      <td>7.0</td>\n",
       "      <td>13.000</td>\n",
       "      <td>19.0</td>\n",
       "      <td>24.0</td>\n",
       "      <td>30.0</td>\n",
       "      <td>43.000</td>\n",
       "      <td>78.0</td>\n",
       "    </tr>\n",
       "    <tr>\n",
       "      <th>Humidity9am</th>\n",
       "      <td>3460.0</td>\n",
       "      <td>68.844509</td>\n",
       "      <td>18.918369</td>\n",
       "      <td>5.0</td>\n",
       "      <td>18.000</td>\n",
       "      <td>35.0</td>\n",
       "      <td>44.0</td>\n",
       "      <td>57.000</td>\n",
       "      <td>70.0</td>\n",
       "      <td>83.0</td>\n",
       "      <td>94.0</td>\n",
       "      <td>100.000</td>\n",
       "      <td>100.0</td>\n",
       "    </tr>\n",
       "    <tr>\n",
       "      <th>Humidity3pm</th>\n",
       "      <td>3405.0</td>\n",
       "      <td>51.628781</td>\n",
       "      <td>20.705426</td>\n",
       "      <td>1.0</td>\n",
       "      <td>9.000</td>\n",
       "      <td>17.0</td>\n",
       "      <td>24.0</td>\n",
       "      <td>37.000</td>\n",
       "      <td>52.0</td>\n",
       "      <td>65.0</td>\n",
       "      <td>79.6</td>\n",
       "      <td>97.960</td>\n",
       "      <td>100.0</td>\n",
       "    </tr>\n",
       "    <tr>\n",
       "      <th>Pressure9am</th>\n",
       "      <td>3136.0</td>\n",
       "      <td>1017.538520</td>\n",
       "      <td>7.112893</td>\n",
       "      <td>982.0</td>\n",
       "      <td>999.505</td>\n",
       "      <td>1006.1</td>\n",
       "      <td>1008.7</td>\n",
       "      <td>1012.700</td>\n",
       "      <td>1017.6</td>\n",
       "      <td>1022.3</td>\n",
       "      <td>1026.7</td>\n",
       "      <td>1033.300</td>\n",
       "      <td>1038.8</td>\n",
       "    </tr>\n",
       "    <tr>\n",
       "      <th>Pressure3pm</th>\n",
       "      <td>3135.0</td>\n",
       "      <td>1015.140542</td>\n",
       "      <td>7.019753</td>\n",
       "      <td>986.4</td>\n",
       "      <td>997.900</td>\n",
       "      <td>1003.9</td>\n",
       "      <td>1006.4</td>\n",
       "      <td>1010.400</td>\n",
       "      <td>1015.1</td>\n",
       "      <td>1019.9</td>\n",
       "      <td>1024.2</td>\n",
       "      <td>1030.566</td>\n",
       "      <td>1036.6</td>\n",
       "    </tr>\n",
       "    <tr>\n",
       "      <th>Cloud9am</th>\n",
       "      <td>2213.0</td>\n",
       "      <td>4.463624</td>\n",
       "      <td>2.860557</td>\n",
       "      <td>0.0</td>\n",
       "      <td>0.000</td>\n",
       "      <td>0.0</td>\n",
       "      <td>1.0</td>\n",
       "      <td>1.000</td>\n",
       "      <td>5.0</td>\n",
       "      <td>7.0</td>\n",
       "      <td>8.0</td>\n",
       "      <td>8.000</td>\n",
       "      <td>8.0</td>\n",
       "    </tr>\n",
       "    <tr>\n",
       "      <th>Cloud3pm</th>\n",
       "      <td>2118.0</td>\n",
       "      <td>4.540132</td>\n",
       "      <td>2.707265</td>\n",
       "      <td>0.0</td>\n",
       "      <td>0.000</td>\n",
       "      <td>0.0</td>\n",
       "      <td>1.0</td>\n",
       "      <td>2.000</td>\n",
       "      <td>5.0</td>\n",
       "      <td>7.0</td>\n",
       "      <td>8.0</td>\n",
       "      <td>8.000</td>\n",
       "      <td>8.0</td>\n",
       "    </tr>\n",
       "    <tr>\n",
       "      <th>Temp9am</th>\n",
       "      <td>3481.0</td>\n",
       "      <td>17.058115</td>\n",
       "      <td>6.410628</td>\n",
       "      <td>-4.2</td>\n",
       "      <td>2.600</td>\n",
       "      <td>7.2</td>\n",
       "      <td>9.0</td>\n",
       "      <td>12.400</td>\n",
       "      <td>16.8</td>\n",
       "      <td>21.5</td>\n",
       "      <td>25.8</td>\n",
       "      <td>31.020</td>\n",
       "      <td>34.3</td>\n",
       "    </tr>\n",
       "    <tr>\n",
       "      <th>Temp3pm</th>\n",
       "      <td>3426.0</td>\n",
       "      <td>21.671979</td>\n",
       "      <td>6.852293</td>\n",
       "      <td>-4.4</td>\n",
       "      <td>7.525</td>\n",
       "      <td>11.5</td>\n",
       "      <td>13.2</td>\n",
       "      <td>16.900</td>\n",
       "      <td>21.0</td>\n",
       "      <td>26.4</td>\n",
       "      <td>31.0</td>\n",
       "      <td>38.100</td>\n",
       "      <td>42.4</td>\n",
       "    </tr>\n",
       "  </tbody>\n",
       "</table>\n",
       "</div>"
      ],
      "text/plain": [
       "                count         mean        std    min       1%      5%     10%  \\\n",
       "MinTemp        3477.0    12.340236   6.384294   -6.9   -2.024     2.1     4.3   \n",
       "MaxTemp        3492.0    23.232904   6.992256   -4.1    8.900    12.7    14.6   \n",
       "Rainfall       3460.0     2.106618   6.570495    0.0    0.000     0.0     0.0   \n",
       "Evaporation    1986.0     5.398489   3.837948    0.0    0.400     1.0     1.4   \n",
       "Sunshine       1835.0     7.723869   3.691531    0.0    0.000     0.4     2.0   \n",
       "WindGustSpeed  3254.0    39.878611  13.492322    9.0   15.000    20.0    24.0   \n",
       "WindSpeed9am   3470.0    13.924784   8.861956    0.0    0.000     0.0     4.0   \n",
       "WindSpeed3pm   3426.0    18.765032   8.915825    0.0    2.000     6.0     7.0   \n",
       "Humidity9am    3460.0    68.844509  18.918369    5.0   18.000    35.0    44.0   \n",
       "Humidity3pm    3405.0    51.628781  20.705426    1.0    9.000    17.0    24.0   \n",
       "Pressure9am    3136.0  1017.538520   7.112893  982.0  999.505  1006.1  1008.7   \n",
       "Pressure3pm    3135.0  1015.140542   7.019753  986.4  997.900  1003.9  1006.4   \n",
       "Cloud9am       2213.0     4.463624   2.860557    0.0    0.000     0.0     1.0   \n",
       "Cloud3pm       2118.0     4.540132   2.707265    0.0    0.000     0.0     1.0   \n",
       "Temp9am        3481.0    17.058115   6.410628   -4.2    2.600     7.2     9.0   \n",
       "Temp3pm        3426.0    21.671979   6.852293   -4.4    7.525    11.5    13.2   \n",
       "\n",
       "                    25%     50%     75%     90%       99%     max  \n",
       "MinTemp           7.700    12.1    17.0    20.9    25.824    29.1  \n",
       "MaxTemp          18.200    22.7    28.1    32.8    39.600    43.7  \n",
       "Rainfall          0.000     0.0     0.8     6.0    35.400   102.0  \n",
       "Evaporation       2.725     4.8     7.4     9.8    17.430    52.4  \n",
       "Sunshine          5.100     8.5    10.6    12.0    13.400    14.3  \n",
       "WindGustSpeed    31.000    39.0    46.0    57.0    81.000   115.0  \n",
       "WindSpeed9am      7.000    13.0    19.0    26.0    39.000    52.0  \n",
       "WindSpeed3pm     13.000    19.0    24.0    30.0    43.000    78.0  \n",
       "Humidity9am      57.000    70.0    83.0    94.0   100.000   100.0  \n",
       "Humidity3pm      37.000    52.0    65.0    79.6    97.960   100.0  \n",
       "Pressure9am    1012.700  1017.6  1022.3  1026.7  1033.300  1038.8  \n",
       "Pressure3pm    1010.400  1015.1  1019.9  1024.2  1030.566  1036.6  \n",
       "Cloud9am          1.000     5.0     7.0     8.0     8.000     8.0  \n",
       "Cloud3pm          2.000     5.0     7.0     8.0     8.000     8.0  \n",
       "Temp9am          12.400    16.8    21.5    25.8    31.020    34.3  \n",
       "Temp3pm          16.900    21.0    26.4    31.0    38.100    42.4  "
      ]
     },
     "execution_count": 27,
     "metadata": {},
     "output_type": "execute_result"
    }
   ],
   "source": [
    "#描述性统计\n",
    "Xtrain.describe([0.01,0.05,0.1,0.25,0.5,0.75,0.9,0.99]).T"
   ]
  },
  {
   "cell_type": "code",
   "execution_count": 28,
   "metadata": {},
   "outputs": [
    {
     "data": {
      "text/html": [
       "<div>\n",
       "<style scoped>\n",
       "    .dataframe tbody tr th:only-of-type {\n",
       "        vertical-align: middle;\n",
       "    }\n",
       "\n",
       "    .dataframe tbody tr th {\n",
       "        vertical-align: top;\n",
       "    }\n",
       "\n",
       "    .dataframe thead th {\n",
       "        text-align: right;\n",
       "    }\n",
       "</style>\n",
       "<table border=\"1\" class=\"dataframe\">\n",
       "  <thead>\n",
       "    <tr style=\"text-align: right;\">\n",
       "      <th></th>\n",
       "      <th>count</th>\n",
       "      <th>mean</th>\n",
       "      <th>std</th>\n",
       "      <th>min</th>\n",
       "      <th>1%</th>\n",
       "      <th>5%</th>\n",
       "      <th>10%</th>\n",
       "      <th>25%</th>\n",
       "      <th>50%</th>\n",
       "      <th>75%</th>\n",
       "      <th>90%</th>\n",
       "      <th>99%</th>\n",
       "      <th>max</th>\n",
       "    </tr>\n",
       "  </thead>\n",
       "  <tbody>\n",
       "    <tr>\n",
       "      <th>MinTemp</th>\n",
       "      <td>1491.0</td>\n",
       "      <td>12.211335</td>\n",
       "      <td>6.458887</td>\n",
       "      <td>-6.3</td>\n",
       "      <td>-2.500</td>\n",
       "      <td>1.50</td>\n",
       "      <td>3.90</td>\n",
       "      <td>7.6</td>\n",
       "      <td>12.2</td>\n",
       "      <td>16.800</td>\n",
       "      <td>20.70</td>\n",
       "      <td>25.610</td>\n",
       "      <td>28.5</td>\n",
       "    </tr>\n",
       "    <tr>\n",
       "      <th>MaxTemp</th>\n",
       "      <td>1494.0</td>\n",
       "      <td>23.330857</td>\n",
       "      <td>7.380122</td>\n",
       "      <td>-0.6</td>\n",
       "      <td>7.686</td>\n",
       "      <td>12.60</td>\n",
       "      <td>14.40</td>\n",
       "      <td>18.0</td>\n",
       "      <td>22.7</td>\n",
       "      <td>28.775</td>\n",
       "      <td>33.50</td>\n",
       "      <td>40.500</td>\n",
       "      <td>44.4</td>\n",
       "    </tr>\n",
       "    <tr>\n",
       "      <th>Rainfall</th>\n",
       "      <td>1477.0</td>\n",
       "      <td>2.338456</td>\n",
       "      <td>8.114066</td>\n",
       "      <td>0.0</td>\n",
       "      <td>0.000</td>\n",
       "      <td>0.00</td>\n",
       "      <td>0.00</td>\n",
       "      <td>0.0</td>\n",
       "      <td>0.0</td>\n",
       "      <td>0.800</td>\n",
       "      <td>6.20</td>\n",
       "      <td>31.632</td>\n",
       "      <td>164.2</td>\n",
       "    </tr>\n",
       "    <tr>\n",
       "      <th>Evaporation</th>\n",
       "      <td>827.0</td>\n",
       "      <td>5.492745</td>\n",
       "      <td>4.007532</td>\n",
       "      <td>0.0</td>\n",
       "      <td>0.200</td>\n",
       "      <td>0.80</td>\n",
       "      <td>1.40</td>\n",
       "      <td>2.6</td>\n",
       "      <td>4.8</td>\n",
       "      <td>7.600</td>\n",
       "      <td>10.40</td>\n",
       "      <td>16.000</td>\n",
       "      <td>58.5</td>\n",
       "    </tr>\n",
       "    <tr>\n",
       "      <th>Sunshine</th>\n",
       "      <td>757.0</td>\n",
       "      <td>7.756803</td>\n",
       "      <td>3.815881</td>\n",
       "      <td>0.0</td>\n",
       "      <td>0.000</td>\n",
       "      <td>0.48</td>\n",
       "      <td>1.66</td>\n",
       "      <td>4.9</td>\n",
       "      <td>8.6</td>\n",
       "      <td>10.700</td>\n",
       "      <td>12.30</td>\n",
       "      <td>13.400</td>\n",
       "      <td>14.0</td>\n",
       "    </tr>\n",
       "    <tr>\n",
       "      <th>WindGustSpeed</th>\n",
       "      <td>1388.0</td>\n",
       "      <td>40.164986</td>\n",
       "      <td>14.144410</td>\n",
       "      <td>11.0</td>\n",
       "      <td>15.000</td>\n",
       "      <td>20.00</td>\n",
       "      <td>24.00</td>\n",
       "      <td>30.0</td>\n",
       "      <td>39.0</td>\n",
       "      <td>48.000</td>\n",
       "      <td>57.00</td>\n",
       "      <td>87.000</td>\n",
       "      <td>102.0</td>\n",
       "    </tr>\n",
       "    <tr>\n",
       "      <th>WindSpeed9am</th>\n",
       "      <td>1481.0</td>\n",
       "      <td>14.135719</td>\n",
       "      <td>9.018514</td>\n",
       "      <td>0.0</td>\n",
       "      <td>0.000</td>\n",
       "      <td>0.00</td>\n",
       "      <td>4.00</td>\n",
       "      <td>7.0</td>\n",
       "      <td>13.0</td>\n",
       "      <td>19.000</td>\n",
       "      <td>26.00</td>\n",
       "      <td>37.400</td>\n",
       "      <td>72.0</td>\n",
       "    </tr>\n",
       "    <tr>\n",
       "      <th>WindSpeed3pm</th>\n",
       "      <td>1470.0</td>\n",
       "      <td>18.759184</td>\n",
       "      <td>9.002335</td>\n",
       "      <td>0.0</td>\n",
       "      <td>2.000</td>\n",
       "      <td>6.00</td>\n",
       "      <td>8.80</td>\n",
       "      <td>13.0</td>\n",
       "      <td>19.0</td>\n",
       "      <td>24.000</td>\n",
       "      <td>30.00</td>\n",
       "      <td>44.620</td>\n",
       "      <td>65.0</td>\n",
       "    </tr>\n",
       "    <tr>\n",
       "      <th>Humidity9am</th>\n",
       "      <td>1487.0</td>\n",
       "      <td>67.854069</td>\n",
       "      <td>19.342026</td>\n",
       "      <td>8.0</td>\n",
       "      <td>16.860</td>\n",
       "      <td>32.30</td>\n",
       "      <td>42.60</td>\n",
       "      <td>56.0</td>\n",
       "      <td>68.0</td>\n",
       "      <td>83.000</td>\n",
       "      <td>94.00</td>\n",
       "      <td>100.000</td>\n",
       "      <td>100.0</td>\n",
       "    </tr>\n",
       "    <tr>\n",
       "      <th>Humidity3pm</th>\n",
       "      <td>1464.0</td>\n",
       "      <td>50.962432</td>\n",
       "      <td>21.100400</td>\n",
       "      <td>4.0</td>\n",
       "      <td>8.000</td>\n",
       "      <td>15.00</td>\n",
       "      <td>23.00</td>\n",
       "      <td>35.0</td>\n",
       "      <td>52.0</td>\n",
       "      <td>65.000</td>\n",
       "      <td>79.00</td>\n",
       "      <td>97.370</td>\n",
       "      <td>100.0</td>\n",
       "    </tr>\n",
       "    <tr>\n",
       "      <th>Pressure9am</th>\n",
       "      <td>1323.0</td>\n",
       "      <td>1017.612774</td>\n",
       "      <td>7.341883</td>\n",
       "      <td>984.6</td>\n",
       "      <td>999.344</td>\n",
       "      <td>1006.10</td>\n",
       "      <td>1008.82</td>\n",
       "      <td>1013.2</td>\n",
       "      <td>1017.3</td>\n",
       "      <td>1022.200</td>\n",
       "      <td>1027.50</td>\n",
       "      <td>1034.678</td>\n",
       "      <td>1039.2</td>\n",
       "    </tr>\n",
       "    <tr>\n",
       "      <th>Pressure3pm</th>\n",
       "      <td>1323.0</td>\n",
       "      <td>1015.180726</td>\n",
       "      <td>7.250920</td>\n",
       "      <td>986.6</td>\n",
       "      <td>997.210</td>\n",
       "      <td>1003.62</td>\n",
       "      <td>1006.30</td>\n",
       "      <td>1010.6</td>\n",
       "      <td>1015.0</td>\n",
       "      <td>1019.700</td>\n",
       "      <td>1024.88</td>\n",
       "      <td>1032.156</td>\n",
       "      <td>1036.9</td>\n",
       "    </tr>\n",
       "    <tr>\n",
       "      <th>Cloud9am</th>\n",
       "      <td>910.0</td>\n",
       "      <td>4.242857</td>\n",
       "      <td>2.888338</td>\n",
       "      <td>0.0</td>\n",
       "      <td>0.000</td>\n",
       "      <td>0.00</td>\n",
       "      <td>0.00</td>\n",
       "      <td>1.0</td>\n",
       "      <td>5.0</td>\n",
       "      <td>7.000</td>\n",
       "      <td>8.00</td>\n",
       "      <td>8.000</td>\n",
       "      <td>8.0</td>\n",
       "    </tr>\n",
       "    <tr>\n",
       "      <th>Cloud3pm</th>\n",
       "      <td>871.0</td>\n",
       "      <td>4.311137</td>\n",
       "      <td>2.790930</td>\n",
       "      <td>0.0</td>\n",
       "      <td>0.000</td>\n",
       "      <td>0.00</td>\n",
       "      <td>1.00</td>\n",
       "      <td>1.0</td>\n",
       "      <td>5.0</td>\n",
       "      <td>7.000</td>\n",
       "      <td>8.00</td>\n",
       "      <td>8.000</td>\n",
       "      <td>8.0</td>\n",
       "    </tr>\n",
       "    <tr>\n",
       "      <th>Temp9am</th>\n",
       "      <td>1493.0</td>\n",
       "      <td>17.139049</td>\n",
       "      <td>6.734101</td>\n",
       "      <td>-3.4</td>\n",
       "      <td>0.700</td>\n",
       "      <td>6.70</td>\n",
       "      <td>8.70</td>\n",
       "      <td>12.4</td>\n",
       "      <td>17.0</td>\n",
       "      <td>22.000</td>\n",
       "      <td>26.10</td>\n",
       "      <td>31.908</td>\n",
       "      <td>34.8</td>\n",
       "    </tr>\n",
       "    <tr>\n",
       "      <th>Temp3pm</th>\n",
       "      <td>1469.0</td>\n",
       "      <td>21.737849</td>\n",
       "      <td>7.202093</td>\n",
       "      <td>-2.1</td>\n",
       "      <td>6.304</td>\n",
       "      <td>11.14</td>\n",
       "      <td>13.08</td>\n",
       "      <td>16.6</td>\n",
       "      <td>21.2</td>\n",
       "      <td>26.700</td>\n",
       "      <td>31.80</td>\n",
       "      <td>38.700</td>\n",
       "      <td>43.4</td>\n",
       "    </tr>\n",
       "  </tbody>\n",
       "</table>\n",
       "</div>"
      ],
      "text/plain": [
       "                count         mean        std    min       1%       5%  \\\n",
       "MinTemp        1491.0    12.211335   6.458887   -6.3   -2.500     1.50   \n",
       "MaxTemp        1494.0    23.330857   7.380122   -0.6    7.686    12.60   \n",
       "Rainfall       1477.0     2.338456   8.114066    0.0    0.000     0.00   \n",
       "Evaporation     827.0     5.492745   4.007532    0.0    0.200     0.80   \n",
       "Sunshine        757.0     7.756803   3.815881    0.0    0.000     0.48   \n",
       "WindGustSpeed  1388.0    40.164986  14.144410   11.0   15.000    20.00   \n",
       "WindSpeed9am   1481.0    14.135719   9.018514    0.0    0.000     0.00   \n",
       "WindSpeed3pm   1470.0    18.759184   9.002335    0.0    2.000     6.00   \n",
       "Humidity9am    1487.0    67.854069  19.342026    8.0   16.860    32.30   \n",
       "Humidity3pm    1464.0    50.962432  21.100400    4.0    8.000    15.00   \n",
       "Pressure9am    1323.0  1017.612774   7.341883  984.6  999.344  1006.10   \n",
       "Pressure3pm    1323.0  1015.180726   7.250920  986.6  997.210  1003.62   \n",
       "Cloud9am        910.0     4.242857   2.888338    0.0    0.000     0.00   \n",
       "Cloud3pm        871.0     4.311137   2.790930    0.0    0.000     0.00   \n",
       "Temp9am        1493.0    17.139049   6.734101   -3.4    0.700     6.70   \n",
       "Temp3pm        1469.0    21.737849   7.202093   -2.1    6.304    11.14   \n",
       "\n",
       "                   10%     25%     50%       75%      90%       99%     max  \n",
       "MinTemp           3.90     7.6    12.2    16.800    20.70    25.610    28.5  \n",
       "MaxTemp          14.40    18.0    22.7    28.775    33.50    40.500    44.4  \n",
       "Rainfall          0.00     0.0     0.0     0.800     6.20    31.632   164.2  \n",
       "Evaporation       1.40     2.6     4.8     7.600    10.40    16.000    58.5  \n",
       "Sunshine          1.66     4.9     8.6    10.700    12.30    13.400    14.0  \n",
       "WindGustSpeed    24.00    30.0    39.0    48.000    57.00    87.000   102.0  \n",
       "WindSpeed9am      4.00     7.0    13.0    19.000    26.00    37.400    72.0  \n",
       "WindSpeed3pm      8.80    13.0    19.0    24.000    30.00    44.620    65.0  \n",
       "Humidity9am      42.60    56.0    68.0    83.000    94.00   100.000   100.0  \n",
       "Humidity3pm      23.00    35.0    52.0    65.000    79.00    97.370   100.0  \n",
       "Pressure9am    1008.82  1013.2  1017.3  1022.200  1027.50  1034.678  1039.2  \n",
       "Pressure3pm    1006.30  1010.6  1015.0  1019.700  1024.88  1032.156  1036.9  \n",
       "Cloud9am          0.00     1.0     5.0     7.000     8.00     8.000     8.0  \n",
       "Cloud3pm          1.00     1.0     5.0     7.000     8.00     8.000     8.0  \n",
       "Temp9am           8.70    12.4    17.0    22.000    26.10    31.908    34.8  \n",
       "Temp3pm          13.08    16.6    21.2    26.700    31.80    38.700    43.4  "
      ]
     },
     "execution_count": 28,
     "metadata": {},
     "output_type": "execute_result"
    }
   ],
   "source": [
    "Xtest.describe([0.01,0.05,0.1,0.25,0.5,0.75,0.9,0.99]).T"
   ]
  },
  {
   "cell_type": "code",
   "execution_count": 29,
   "metadata": {},
   "outputs": [],
   "source": [
    "# 将数值型和文本型分开处理"
   ]
  },
  {
   "cell_type": "code",
   "execution_count": 30,
   "metadata": {},
   "outputs": [
    {
     "data": {
      "text/plain": [
       "MinTemp            12.340236\n",
       "MaxTemp            23.232904\n",
       "Rainfall            2.106618\n",
       "Evaporation         5.398489\n",
       "Sunshine            7.723869\n",
       "WindGustSpeed      39.878611\n",
       "WindSpeed9am       13.924784\n",
       "WindSpeed3pm       18.765032\n",
       "Humidity9am        68.844509\n",
       "Humidity3pm        51.628781\n",
       "Pressure9am      1017.538520\n",
       "Pressure3pm      1015.140542\n",
       "Cloud9am            4.463624\n",
       "Cloud3pm            4.540132\n",
       "Temp9am            17.058115\n",
       "Temp3pm            21.671979\n",
       "dtype: float64"
      ]
     },
     "execution_count": 30,
     "metadata": {},
     "output_type": "execute_result"
    }
   ],
   "source": [
    "Xtrain.mean()  # 只会根据数值型计算，得到index是所有的数值名"
   ]
  },
  {
   "cell_type": "code",
   "execution_count": 31,
   "metadata": {},
   "outputs": [],
   "source": [
    "col = Xtrain.mean().index"
   ]
  },
  {
   "cell_type": "code",
   "execution_count": 32,
   "metadata": {},
   "outputs": [
    {
     "data": {
      "text/plain": [
       "16"
      ]
     },
     "execution_count": 32,
     "metadata": {},
     "output_type": "execute_result"
    }
   ],
   "source": [
    "len(col)  # 实际是14个 因为云层遮蔽属于分类型"
   ]
  },
  {
   "cell_type": "code",
   "execution_count": 33,
   "metadata": {},
   "outputs": [],
   "source": [
    "# 异常值\n",
    "## 常用为3倍标准差，99.75%"
   ]
  },
  {
   "cell_type": "code",
   "execution_count": 34,
   "metadata": {},
   "outputs": [
    {
     "data": {
      "text/plain": [
       "MinTemp           1\n",
       "MaxTemp           8\n",
       "Rainfall         76\n",
       "Evaporation      22\n",
       "Sunshine          0\n",
       "WindGustSpeed    37\n",
       "WindSpeed9am     34\n",
       "WindSpeed3pm     21\n",
       "Humidity9am      13\n",
       "Humidity3pm       0\n",
       "Pressure9am      12\n",
       "Pressure3pm      10\n",
       "Cloud9am          0\n",
       "Cloud3pm          0\n",
       "Temp9am           4\n",
       "Temp3pm           9\n",
       "dtype: int64"
      ]
     },
     "execution_count": 34,
     "metadata": {},
     "output_type": "execute_result"
    }
   ],
   "source": [
    "Xtrain.mean()                                                     # 返回每一列均值\n",
    "(Xtrain.loc[:,col]-Xtrain.mean())/Xtrain.std()                    # 用到np中的广播\n",
    "np.abs((Xtrain.loc[:,col]-Xtrain.mean())/Xtrain.std())            # 求绝对值\n",
    "np.abs((Xtrain.loc[:,col]-Xtrain.mean())/Xtrain.std())>3          # 进行判断\n",
    "(np.abs((Xtrain.loc[:,col]-Xtrain.mean())/Xtrain.std())>3).sum()  # 每列异常值个数"
   ]
  },
  {
   "cell_type": "code",
   "execution_count": 35,
   "metadata": {},
   "outputs": [
    {
     "data": {
      "text/plain": [
       "MinTemp          0.000286\n",
       "MaxTemp          0.002286\n",
       "Rainfall         0.021714\n",
       "Evaporation      0.006286\n",
       "Sunshine         0.000000\n",
       "WindGustSpeed    0.010571\n",
       "WindSpeed9am     0.009714\n",
       "WindSpeed3pm     0.006000\n",
       "Humidity9am      0.003714\n",
       "Humidity3pm      0.000000\n",
       "Pressure9am      0.003429\n",
       "Pressure3pm      0.002857\n",
       "Cloud9am         0.000000\n",
       "Cloud3pm         0.000000\n",
       "Temp9am          0.001143\n",
       "Temp3pm          0.002571\n",
       "dtype: float64"
      ]
     },
     "execution_count": 35,
     "metadata": {},
     "output_type": "execute_result"
    }
   ],
   "source": [
    "(np.abs((Xtrain.loc[:,col] -Xtrain.mean())/Xtrain.std())>3).sum()/Xtrain.shape[0] #每列异常值比例"
   ]
  },
  {
   "cell_type": "code",
   "execution_count": 36,
   "metadata": {},
   "outputs": [],
   "source": [
    "#少数存在，于是采取删除的策略\n",
    "#注意如果删除特征矩阵，则必须连对应的标签一起删除，特征矩阵的行和标签的行必须要一一对应\n",
    "#提取出所有训练集所有异常值的索引"
   ]
  },
  {
   "cell_type": "code",
   "execution_count": 37,
   "metadata": {},
   "outputs": [],
   "source": [
    "# 删除异常值\n",
    "deltrain = []\n",
    "for i in col:\n",
    "    bool_ = np.abs((Xtrain.loc[:,i]-Xtrain.loc[:,i].mean())/Xtrain.loc[:,i].std())>3\n",
    "    ind = Xtrain[bool_].index\n",
    "    deltrain.extend(list(ind))\n",
    "# 注意列表中append和extend区别 [1,2,3] [5,6];append[1,2,3,[5,6]];extend[1,2,3,5,6]"
   ]
  },
  {
   "cell_type": "code",
   "execution_count": 38,
   "metadata": {},
   "outputs": [],
   "source": [
    "# deltrain会出现重复值\n",
    "deltrain1 = list(set(deltrain)) "
   ]
  },
  {
   "cell_type": "code",
   "execution_count": 39,
   "metadata": {},
   "outputs": [
    {
     "data": {
      "text/plain": [
       "MinTemp          0.000000\n",
       "MaxTemp          0.004000\n",
       "Rainfall         0.024667\n",
       "Evaporation      0.004667\n",
       "Sunshine         0.000000\n",
       "WindGustSpeed    0.013333\n",
       "WindSpeed9am     0.007333\n",
       "WindSpeed3pm     0.010000\n",
       "Humidity9am      0.004667\n",
       "Humidity3pm      0.000000\n",
       "Pressure9am      0.004000\n",
       "Pressure3pm      0.004000\n",
       "Cloud9am         0.000000\n",
       "Cloud3pm         0.000000\n",
       "Temp9am          0.000667\n",
       "Temp3pm          0.005333\n",
       "dtype: float64"
      ]
     },
     "execution_count": 39,
     "metadata": {},
     "output_type": "execute_result"
    }
   ],
   "source": [
    "# 不要立即删除，需要对test进行同样的操作\n",
    "# 查看测试纸各列异常值，注意用训练值的标准差\n",
    "(np.abs((Xtest.loc[:,col]-Xtrain.mean())/Xtrain.std())>3).sum()/Xtest.shape[0]"
   ]
  },
  {
   "cell_type": "code",
   "execution_count": 40,
   "metadata": {},
   "outputs": [],
   "source": [
    "# 最多20%，选择删除\n",
    "#提取出测试集的所有异常值的索引\n",
    "deltest = []\n",
    "for i in col:\n",
    "    bool_ = np.abs((Xtest.loc[:,i] - Xtrain.loc[:,i].mean())/Xtrain.loc[:,i].std())>3\n",
    "    ind = Xtest[bool_].index\n",
    "    deltest.extend(list(ind))"
   ]
  },
  {
   "cell_type": "code",
   "execution_count": 41,
   "metadata": {},
   "outputs": [
    {
     "data": {
      "text/plain": [
       "90"
      ]
     },
     "execution_count": 41,
     "metadata": {},
     "output_type": "execute_result"
    }
   ],
   "source": [
    "#去重之后有异常值的行索引\n",
    "deltest1 = list(set(deltest))\n",
    "len(deltest1)"
   ]
  },
  {
   "cell_type": "code",
   "execution_count": 42,
   "metadata": {},
   "outputs": [],
   "source": [
    "# 删除异常值\n",
    "## 可以用del和drop，但是del每次只能删除一个，所以用drop。注意特征和标签都要删除\n",
    "Xtrain = Xtrain.drop(index=deltrain1)\n",
    "Ytrain = Ytrain.drop(index=deltrain1)\n",
    "Xtest = Xtest.drop(index=deltest1)\n",
    "Ytest = Ytest.drop(index=deltest1)"
   ]
  },
  {
   "cell_type": "code",
   "execution_count": 43,
   "metadata": {},
   "outputs": [
    {
     "name": "stdout",
     "output_type": "stream",
     "text": [
      "(3301, 21) (1410, 21) (3301, 1) (1410, 1)\n"
     ]
    }
   ],
   "source": [
    "print(Xtrain.shape,Xtest.shape,Ytrain.shape,Ytest.shape)"
   ]
  },
  {
   "cell_type": "code",
   "execution_count": 44,
   "metadata": {},
   "outputs": [],
   "source": [
    "#进行任何行删除之后，千万记得要恢复索引\n",
    "for i in [Xtrain, Xtest, Ytrain, Ytest]:\n",
    "    i.index = range(i.shape[0])"
   ]
  },
  {
   "cell_type": "code",
   "execution_count": 45,
   "metadata": {},
   "outputs": [],
   "source": [
    "# 查看Xtrain.head()  Xtest.head()  Ytrain.head()  Ytest.head()"
   ]
  },
  {
   "cell_type": "markdown",
   "metadata": {},
   "source": [
    "### 处理困难特征：日期"
   ]
  },
  {
   "cell_type": "code",
   "execution_count": 46,
   "metadata": {},
   "outputs": [],
   "source": [
    "# 如果认为日期没有影响可以直接删除，进行探索"
   ]
  },
  {
   "cell_type": "code",
   "execution_count": 47,
   "metadata": {},
   "outputs": [],
   "source": [
    " # Xtrain.Date.value_counts() 可以看到有些日期是重复的，为什么呢？"
   ]
  },
  {
   "cell_type": "code",
   "execution_count": 48,
   "metadata": {},
   "outputs": [
    {
     "data": {
      "text/plain": [
       "6"
      ]
     },
     "execution_count": 48,
     "metadata": {},
     "output_type": "execute_result"
    }
   ],
   "source": [
    "sum(Xtrain.Date == '2015-11-06')"
   ]
  },
  {
   "cell_type": "code",
   "execution_count": 49,
   "metadata": {},
   "outputs": [
    {
     "data": {
      "text/html": [
       "<div>\n",
       "<style scoped>\n",
       "    .dataframe tbody tr th:only-of-type {\n",
       "        vertical-align: middle;\n",
       "    }\n",
       "\n",
       "    .dataframe tbody tr th {\n",
       "        vertical-align: top;\n",
       "    }\n",
       "\n",
       "    .dataframe thead th {\n",
       "        text-align: right;\n",
       "    }\n",
       "</style>\n",
       "<table border=\"1\" class=\"dataframe\">\n",
       "  <thead>\n",
       "    <tr style=\"text-align: right;\">\n",
       "      <th></th>\n",
       "      <th>Date</th>\n",
       "      <th>Location</th>\n",
       "      <th>MinTemp</th>\n",
       "      <th>MaxTemp</th>\n",
       "      <th>Rainfall</th>\n",
       "      <th>Evaporation</th>\n",
       "      <th>Sunshine</th>\n",
       "      <th>WindGustDir</th>\n",
       "      <th>WindGustSpeed</th>\n",
       "      <th>WindDir9am</th>\n",
       "      <th>WindDir3pm</th>\n",
       "      <th>WindSpeed9am</th>\n",
       "      <th>WindSpeed3pm</th>\n",
       "      <th>Humidity9am</th>\n",
       "      <th>Humidity3pm</th>\n",
       "      <th>Pressure9am</th>\n",
       "      <th>Pressure3pm</th>\n",
       "      <th>Cloud9am</th>\n",
       "      <th>Cloud3pm</th>\n",
       "      <th>Temp9am</th>\n",
       "      <th>Temp3pm</th>\n",
       "    </tr>\n",
       "  </thead>\n",
       "  <tbody>\n",
       "    <tr>\n",
       "      <th>138</th>\n",
       "      <td>2015-11-06</td>\n",
       "      <td>MountGambier</td>\n",
       "      <td>12.4</td>\n",
       "      <td>16.5</td>\n",
       "      <td>1.6</td>\n",
       "      <td>1.8</td>\n",
       "      <td>3.7</td>\n",
       "      <td>WSW</td>\n",
       "      <td>39.0</td>\n",
       "      <td>SW</td>\n",
       "      <td>SW</td>\n",
       "      <td>17.0</td>\n",
       "      <td>26.0</td>\n",
       "      <td>96.0</td>\n",
       "      <td>64.0</td>\n",
       "      <td>1013.3</td>\n",
       "      <td>1014.2</td>\n",
       "      <td>8.0</td>\n",
       "      <td>7.0</td>\n",
       "      <td>12.6</td>\n",
       "      <td>15.0</td>\n",
       "    </tr>\n",
       "    <tr>\n",
       "      <th>1204</th>\n",
       "      <td>2015-11-06</td>\n",
       "      <td>CoffsHarbour</td>\n",
       "      <td>20.1</td>\n",
       "      <td>28.3</td>\n",
       "      <td>7.2</td>\n",
       "      <td>NaN</td>\n",
       "      <td>NaN</td>\n",
       "      <td>NE</td>\n",
       "      <td>46.0</td>\n",
       "      <td>NNE</td>\n",
       "      <td>NE</td>\n",
       "      <td>17.0</td>\n",
       "      <td>31.0</td>\n",
       "      <td>81.0</td>\n",
       "      <td>66.0</td>\n",
       "      <td>1010.9</td>\n",
       "      <td>1006.4</td>\n",
       "      <td>NaN</td>\n",
       "      <td>NaN</td>\n",
       "      <td>23.3</td>\n",
       "      <td>25.6</td>\n",
       "    </tr>\n",
       "    <tr>\n",
       "      <th>1854</th>\n",
       "      <td>2015-11-06</td>\n",
       "      <td>Ballarat</td>\n",
       "      <td>12.6</td>\n",
       "      <td>15.0</td>\n",
       "      <td>1.4</td>\n",
       "      <td>NaN</td>\n",
       "      <td>NaN</td>\n",
       "      <td>WSW</td>\n",
       "      <td>35.0</td>\n",
       "      <td>SW</td>\n",
       "      <td>WSW</td>\n",
       "      <td>17.0</td>\n",
       "      <td>22.0</td>\n",
       "      <td>100.0</td>\n",
       "      <td>99.0</td>\n",
       "      <td>1010.2</td>\n",
       "      <td>1010.9</td>\n",
       "      <td>7.0</td>\n",
       "      <td>8.0</td>\n",
       "      <td>12.8</td>\n",
       "      <td>14.8</td>\n",
       "    </tr>\n",
       "    <tr>\n",
       "      <th>2332</th>\n",
       "      <td>2015-11-06</td>\n",
       "      <td>MountGinini</td>\n",
       "      <td>7.5</td>\n",
       "      <td>10.8</td>\n",
       "      <td>16.0</td>\n",
       "      <td>NaN</td>\n",
       "      <td>NaN</td>\n",
       "      <td>W</td>\n",
       "      <td>43.0</td>\n",
       "      <td>W</td>\n",
       "      <td>W</td>\n",
       "      <td>15.0</td>\n",
       "      <td>11.0</td>\n",
       "      <td>97.0</td>\n",
       "      <td>97.0</td>\n",
       "      <td>NaN</td>\n",
       "      <td>NaN</td>\n",
       "      <td>NaN</td>\n",
       "      <td>NaN</td>\n",
       "      <td>8.5</td>\n",
       "      <td>9.7</td>\n",
       "    </tr>\n",
       "    <tr>\n",
       "      <th>2732</th>\n",
       "      <td>2015-11-06</td>\n",
       "      <td>Newcastle</td>\n",
       "      <td>17.7</td>\n",
       "      <td>30.0</td>\n",
       "      <td>2.0</td>\n",
       "      <td>NaN</td>\n",
       "      <td>NaN</td>\n",
       "      <td>NaN</td>\n",
       "      <td>NaN</td>\n",
       "      <td>N</td>\n",
       "      <td>NaN</td>\n",
       "      <td>9.0</td>\n",
       "      <td>NaN</td>\n",
       "      <td>75.0</td>\n",
       "      <td>NaN</td>\n",
       "      <td>NaN</td>\n",
       "      <td>NaN</td>\n",
       "      <td>5.0</td>\n",
       "      <td>NaN</td>\n",
       "      <td>24.0</td>\n",
       "      <td>NaN</td>\n",
       "    </tr>\n",
       "    <tr>\n",
       "      <th>2911</th>\n",
       "      <td>2015-11-06</td>\n",
       "      <td>Launceston</td>\n",
       "      <td>15.8</td>\n",
       "      <td>26.2</td>\n",
       "      <td>5.0</td>\n",
       "      <td>NaN</td>\n",
       "      <td>NaN</td>\n",
       "      <td>NNW</td>\n",
       "      <td>35.0</td>\n",
       "      <td>NNW</td>\n",
       "      <td>NNW</td>\n",
       "      <td>4.0</td>\n",
       "      <td>20.0</td>\n",
       "      <td>88.0</td>\n",
       "      <td>66.0</td>\n",
       "      <td>NaN</td>\n",
       "      <td>NaN</td>\n",
       "      <td>7.0</td>\n",
       "      <td>8.0</td>\n",
       "      <td>17.9</td>\n",
       "      <td>24.1</td>\n",
       "    </tr>\n",
       "  </tbody>\n",
       "</table>\n",
       "</div>"
      ],
      "text/plain": [
       "            Date      Location  MinTemp  MaxTemp  Rainfall  Evaporation  \\\n",
       "138   2015-11-06  MountGambier     12.4     16.5       1.6          1.8   \n",
       "1204  2015-11-06  CoffsHarbour     20.1     28.3       7.2          NaN   \n",
       "1854  2015-11-06      Ballarat     12.6     15.0       1.4          NaN   \n",
       "2332  2015-11-06   MountGinini      7.5     10.8      16.0          NaN   \n",
       "2732  2015-11-06     Newcastle     17.7     30.0       2.0          NaN   \n",
       "2911  2015-11-06    Launceston     15.8     26.2       5.0          NaN   \n",
       "\n",
       "      Sunshine WindGustDir  WindGustSpeed WindDir9am WindDir3pm  WindSpeed9am  \\\n",
       "138        3.7         WSW           39.0         SW         SW          17.0   \n",
       "1204       NaN          NE           46.0        NNE         NE          17.0   \n",
       "1854       NaN         WSW           35.0         SW        WSW          17.0   \n",
       "2332       NaN           W           43.0          W          W          15.0   \n",
       "2732       NaN         NaN            NaN          N        NaN           9.0   \n",
       "2911       NaN         NNW           35.0        NNW        NNW           4.0   \n",
       "\n",
       "      WindSpeed3pm  Humidity9am  Humidity3pm  Pressure9am  Pressure3pm  \\\n",
       "138           26.0         96.0         64.0       1013.3       1014.2   \n",
       "1204          31.0         81.0         66.0       1010.9       1006.4   \n",
       "1854          22.0        100.0         99.0       1010.2       1010.9   \n",
       "2332          11.0         97.0         97.0          NaN          NaN   \n",
       "2732           NaN         75.0          NaN          NaN          NaN   \n",
       "2911          20.0         88.0         66.0          NaN          NaN   \n",
       "\n",
       "      Cloud9am  Cloud3pm  Temp9am  Temp3pm  \n",
       "138        8.0       7.0     12.6     15.0  \n",
       "1204       NaN       NaN     23.3     25.6  \n",
       "1854       7.0       8.0     12.8     14.8  \n",
       "2332       NaN       NaN      8.5      9.7  \n",
       "2732       5.0       NaN     24.0      NaN  \n",
       "2911       7.0       8.0     17.9     24.1  "
      ]
     },
     "execution_count": 49,
     "metadata": {},
     "output_type": "execute_result"
    }
   ],
   "source": [
    "Xtrain[Xtrain.Date == '2015-11-06']  # 不是重复值"
   ]
  },
  {
   "cell_type": "code",
   "execution_count": 50,
   "metadata": {},
   "outputs": [
    {
     "data": {
      "text/plain": [
       "0"
      ]
     },
     "execution_count": 50,
     "metadata": {},
     "output_type": "execute_result"
    }
   ],
   "source": [
    "# 查看重复值\n",
    "Xtrain.duplicated().sum()\n",
    "# 删除重复值用：drop_duplicates()"
   ]
  },
  {
   "cell_type": "code",
   "execution_count": 51,
   "metadata": {},
   "outputs": [
    {
     "name": "stdout",
     "output_type": "stream",
     "text": [
      "2025\n",
      "2025\n",
      "2025\n"
     ]
    }
   ],
   "source": [
    "# 查看日期种类\n",
    "print(len(Xtrain.Date.unique()))\n",
    "print(len(set(Xtrain.Date)))\n",
    "print(Xtrain.Date.value_counts().count())"
   ]
  },
  {
   "cell_type": "code",
   "execution_count": 52,
   "metadata": {},
   "outputs": [],
   "source": [
    "# 超过七个变量，sklearn会认为是连续的，随意不能编码"
   ]
  },
  {
   "cell_type": "code",
   "execution_count": 53,
   "metadata": {},
   "outputs": [],
   "source": [
    "# 建立今天是否下雨的变量"
   ]
  },
  {
   "cell_type": "code",
   "execution_count": 54,
   "metadata": {},
   "outputs": [
    {
     "data": {
      "text/plain": [
       "38"
      ]
     },
     "execution_count": 54,
     "metadata": {},
     "output_type": "execute_result"
    }
   ],
   "source": [
    "# 查看前20条数据 Xtrain[\"Rainfall\"].head(20)\n",
    "# 查看Rainfall有无缺失值\n",
    "Xtrain.Rainfall.isnull().sum()"
   ]
  },
  {
   "cell_type": "markdown",
   "metadata": {},
   "source": [
    "查看是否有空值，自己做时不容易想到"
   ]
  },
  {
   "cell_type": "code",
   "execution_count": 55,
   "metadata": {},
   "outputs": [],
   "source": [
    "Xtrain.loc[Xtrain[\"Rainfall\"] >= 1,\"RainToday\"] = \"Yes\"\n",
    "Xtrain.loc[Xtrain[\"Rainfall\"] < 1,\"RainToday\"] = \"No\"\n",
    "Xtrain.loc[Xtrain[\"Rainfall\"] == np.nan,\"RainToday\"] = np.nan"
   ]
  },
  {
   "cell_type": "code",
   "execution_count": 56,
   "metadata": {},
   "outputs": [
    {
     "name": "stdout",
     "output_type": "stream",
     "text": [
      "No     2555\n",
      "Yes     708\n",
      "Name: RainToday, dtype: int64\n",
      "3263\n",
      "3301\n"
     ]
    }
   ],
   "source": [
    "print(Xtrain['RainToday'].value_counts())\n",
    "print(Xtrain['RainToday'].value_counts().sum())\n",
    "print(Xtrain.shape[0])"
   ]
  },
  {
   "cell_type": "code",
   "execution_count": 57,
   "metadata": {},
   "outputs": [],
   "source": [
    "# 对Xtest进行操作\n",
    "Xtest.loc[Xtest[\"Rainfall\"] >= 1,\"RainToday\"] = \"Yes\"\n",
    "Xtest.loc[Xtest[\"Rainfall\"] < 1,\"RainToday\"] = \"No\"\n",
    "Xtest.loc[Xtest[\"Rainfall\"] == np.nan,\"RainToday\"] = np.nan"
   ]
  },
  {
   "cell_type": "code",
   "execution_count": 58,
   "metadata": {},
   "outputs": [],
   "source": [
    "# 查看.head()"
   ]
  },
  {
   "cell_type": "code",
   "execution_count": 59,
   "metadata": {},
   "outputs": [],
   "source": [
    "# 日期本身所在的月份会影响下雨所以进行操作"
   ]
  },
  {
   "cell_type": "code",
   "execution_count": 60,
   "metadata": {},
   "outputs": [
    {
     "name": "stdout",
     "output_type": "stream",
     "text": [
      "2016-03-14\n",
      "['2016', '03', '14']\n",
      "03\n"
     ]
    }
   ],
   "source": [
    "# 提取月份\n",
    "print(Xtrain.loc[0,'Date'])\n",
    "print(Xtrain.loc[0,'Date'].split('-'))\n",
    "print(Xtrain.loc[0,'Date'].split('-')[1])"
   ]
  },
  {
   "cell_type": "code",
   "execution_count": 61,
   "metadata": {},
   "outputs": [],
   "source": [
    "# 用for循环速度太慢，用内置的函数apply\n",
    "Xtrain['Date'] = Xtrain['Date'].apply(lambda x:int(x.split('-')[1]))"
   ]
  },
  {
   "cell_type": "code",
   "execution_count": 62,
   "metadata": {},
   "outputs": [],
   "source": [
    "# 如果是新建一列，删除Date，新建的列在表中的最后，所以用rename\n",
    "Xtrain.rename(columns={'Date':'Month'},inplace=True)"
   ]
  },
  {
   "cell_type": "code",
   "execution_count": 63,
   "metadata": {},
   "outputs": [],
   "source": [
    "Xtest[\"Date\"] = Xtest[\"Date\"].apply(lambda x:int(x.split(\"-\")[1]))\n",
    "Xtest = Xtest.rename(columns={\"Date\":\"Month\"})"
   ]
  },
  {
   "cell_type": "markdown",
   "metadata": {},
   "source": [
    "### 处理分类型变量的缺失值"
   ]
  },
  {
   "cell_type": "markdown",
   "metadata": {},
   "source": [
    "通常分类变量填充众数，连续变量用平均值；也可以用随机森林填充"
   ]
  },
  {
   "cell_type": "code",
   "execution_count": 64,
   "metadata": {},
   "outputs": [
    {
     "data": {
      "text/plain": [
       "Month              int64\n",
       "Location          object\n",
       "MinTemp          float64\n",
       "MaxTemp          float64\n",
       "Rainfall         float64\n",
       "Evaporation      float64\n",
       "Sunshine         float64\n",
       "WindGustDir       object\n",
       "WindGustSpeed    float64\n",
       "WindDir9am        object\n",
       "WindDir3pm        object\n",
       "WindSpeed9am     float64\n",
       "WindSpeed3pm     float64\n",
       "Humidity9am      float64\n",
       "Humidity3pm      float64\n",
       "Pressure9am      float64\n",
       "Pressure3pm      float64\n",
       "Cloud9am         float64\n",
       "Cloud3pm         float64\n",
       "Temp9am          float64\n",
       "Temp3pm          float64\n",
       "RainToday         object\n",
       "dtype: object"
      ]
     },
     "execution_count": 64,
     "metadata": {},
     "output_type": "execute_result"
    }
   ],
   "source": [
    "Xtrain.dtypes"
   ]
  },
  {
   "cell_type": "code",
   "execution_count": 65,
   "metadata": {},
   "outputs": [
    {
     "name": "stdout",
     "output_type": "stream",
     "text": [
      "Index(['Location', 'WindGustDir', 'WindDir9am', 'WindDir3pm', 'RainToday'], dtype='object')\n",
      "<class 'pandas.core.indexes.base.Index'>\n"
     ]
    }
   ],
   "source": [
    "# 找出分类型变量的特征名\n",
    "cate = Xtrain.columns[Xtrain.dtypes=='object']\n",
    "print(cate)\n",
    "print(type(cate))"
   ]
  },
  {
   "cell_type": "code",
   "execution_count": 66,
   "metadata": {},
   "outputs": [
    {
     "name": "stdout",
     "output_type": "stream",
     "text": [
      "['Location', 'WindGustDir', 'WindDir9am', 'WindDir3pm', 'RainToday']\n",
      "<class 'list'>\n"
     ]
    }
   ],
   "source": [
    "# 所以要变成列表\n",
    "cate = Xtrain.columns[Xtrain.dtypes=='object'].tolist()\n",
    "print(cate)\n",
    "print(type(cate))"
   ]
  },
  {
   "cell_type": "code",
   "execution_count": 67,
   "metadata": {},
   "outputs": [
    {
     "data": {
      "text/plain": [
       "['Location',\n",
       " 'WindGustDir',\n",
       " 'WindDir9am',\n",
       " 'WindDir3pm',\n",
       " 'RainToday',\n",
       " 'Cloud9am',\n",
       " 'Cloud3pm']"
      ]
     },
     "execution_count": 67,
     "metadata": {},
     "output_type": "execute_result"
    }
   ],
   "source": [
    "#除了特征类型为\"object\"的特征们，还有虽然用数字表示，但是本质为分类型特征的云层遮蔽程度\n",
    "cloud = [\"Cloud9am\",\"Cloud3pm\"]\n",
    "cate = cate + cloud\n",
    "cate"
   ]
  },
  {
   "cell_type": "code",
   "execution_count": 68,
   "metadata": {},
   "outputs": [],
   "source": [
    "#对于分类型特征，使用众数来进行填补\n",
    "from sklearn.impute import SimpleImputer"
   ]
  },
  {
   "cell_type": "code",
   "execution_count": 69,
   "metadata": {},
   "outputs": [],
   "source": [
    "si = SimpleImputer(missing_values=np.nan,strategy=\"most_frequent\") # 实例化模型"
   ]
  },
  {
   "cell_type": "code",
   "execution_count": 70,
   "metadata": {},
   "outputs": [
    {
     "data": {
      "text/plain": [
       "SimpleImputer(add_indicator=False, copy=True, fill_value=None,\n",
       "              missing_values=nan, strategy='most_frequent', verbose=0)"
      ]
     },
     "execution_count": 70,
     "metadata": {},
     "output_type": "execute_result"
    }
   ],
   "source": [
    "#注意，使用训练集数据来训练我们的填补器，本质是在生成训练集中的众数\n",
    "si.fit(Xtrain.loc[:,cate])"
   ]
  },
  {
   "cell_type": "code",
   "execution_count": 71,
   "metadata": {},
   "outputs": [],
   "source": [
    "#然后用训练集中的众数来同时填补训练集和测试集\n",
    "Xtrain.loc[:,cate] = si.transform(Xtrain.loc[:,cate])\n",
    "Xtest.loc[:,cate] = si.transform(Xtest.loc[:,cate])"
   ]
  },
  {
   "cell_type": "code",
   "execution_count": 72,
   "metadata": {},
   "outputs": [
    {
     "name": "stdout",
     "output_type": "stream",
     "text": [
      "Location       0\n",
      "WindGustDir    0\n",
      "WindDir9am     0\n",
      "WindDir3pm     0\n",
      "RainToday      0\n",
      "Cloud9am       0\n",
      "Cloud3pm       0\n",
      "dtype: int64\n",
      "-----------------\n",
      "Location       0\n",
      "WindGustDir    0\n",
      "WindDir9am     0\n",
      "WindDir3pm     0\n",
      "RainToday      0\n",
      "Cloud9am       0\n",
      "Cloud3pm       0\n",
      "dtype: int64\n"
     ]
    }
   ],
   "source": [
    "# 确认训练集和测试中有无缺失值\n",
    "print(Xtrain.loc[:,cate].isnull().sum())\n",
    "print('-----------------')\n",
    "print(Xtest.loc[:,cate].isnull().sum())"
   ]
  },
  {
   "cell_type": "markdown",
   "metadata": {},
   "source": [
    "### 对分类型变量进行编码"
   ]
  },
  {
   "cell_type": "code",
   "execution_count": 73,
   "metadata": {},
   "outputs": [],
   "source": [
    "#将所有的分类型变量编码为数字，一个类别是一个数字\n",
    "from sklearn.preprocessing import OrdinalEncoder   #特征专用编码包，输入必须为二维及以上\n",
    "oe = OrdinalEncoder()                              #实例化"
   ]
  },
  {
   "cell_type": "code",
   "execution_count": 74,
   "metadata": {},
   "outputs": [],
   "source": [
    "#利用训练集进行fit\n",
    "oe = oe.fit(Xtrain.loc[:,cate])   #相当于把每一列编码，并记录对应关系\n",
    "# 这种编码对模型有影响，可以用onehot将列增多，计算难度变大，所以一般先不用，如果列本身很多，不建议用onehot"
   ]
  },
  {
   "cell_type": "code",
   "execution_count": 75,
   "metadata": {},
   "outputs": [],
   "source": [
    "Xtrain.loc[:,cate] = oe.transform(Xtrain.loc[:,cate])\n",
    "Xtest.loc[:,cate] = oe.transform(Xtest.loc[:,cate])"
   ]
  },
  {
   "cell_type": "markdown",
   "metadata": {},
   "source": [
    "如果此处出现报错，说明test中出现了train未出现的类别，可以将新出现的用-1进行代替"
   ]
  },
  {
   "cell_type": "code",
   "execution_count": 76,
   "metadata": {},
   "outputs": [
    {
     "data": {
      "text/html": [
       "<div>\n",
       "<style scoped>\n",
       "    .dataframe tbody tr th:only-of-type {\n",
       "        vertical-align: middle;\n",
       "    }\n",
       "\n",
       "    .dataframe tbody tr th {\n",
       "        vertical-align: top;\n",
       "    }\n",
       "\n",
       "    .dataframe thead th {\n",
       "        text-align: right;\n",
       "    }\n",
       "</style>\n",
       "<table border=\"1\" class=\"dataframe\">\n",
       "  <thead>\n",
       "    <tr style=\"text-align: right;\">\n",
       "      <th></th>\n",
       "      <th>Location</th>\n",
       "      <th>WindGustDir</th>\n",
       "      <th>WindDir9am</th>\n",
       "      <th>WindDir3pm</th>\n",
       "      <th>RainToday</th>\n",
       "      <th>Cloud9am</th>\n",
       "      <th>Cloud3pm</th>\n",
       "    </tr>\n",
       "  </thead>\n",
       "  <tbody>\n",
       "    <tr>\n",
       "      <th>0</th>\n",
       "      <td>45.0</td>\n",
       "      <td>9.0</td>\n",
       "      <td>7.0</td>\n",
       "      <td>9.0</td>\n",
       "      <td>0.0</td>\n",
       "      <td>7.0</td>\n",
       "      <td>3.0</td>\n",
       "    </tr>\n",
       "    <tr>\n",
       "      <th>1</th>\n",
       "      <td>15.0</td>\n",
       "      <td>2.0</td>\n",
       "      <td>3.0</td>\n",
       "      <td>9.0</td>\n",
       "      <td>0.0</td>\n",
       "      <td>7.0</td>\n",
       "      <td>1.0</td>\n",
       "    </tr>\n",
       "    <tr>\n",
       "      <th>2</th>\n",
       "      <td>44.0</td>\n",
       "      <td>8.0</td>\n",
       "      <td>12.0</td>\n",
       "      <td>11.0</td>\n",
       "      <td>1.0</td>\n",
       "      <td>8.0</td>\n",
       "      <td>7.0</td>\n",
       "    </tr>\n",
       "    <tr>\n",
       "      <th>3</th>\n",
       "      <td>41.0</td>\n",
       "      <td>12.0</td>\n",
       "      <td>0.0</td>\n",
       "      <td>12.0</td>\n",
       "      <td>0.0</td>\n",
       "      <td>7.0</td>\n",
       "      <td>1.0</td>\n",
       "    </tr>\n",
       "    <tr>\n",
       "      <th>4</th>\n",
       "      <td>17.0</td>\n",
       "      <td>6.0</td>\n",
       "      <td>10.0</td>\n",
       "      <td>3.0</td>\n",
       "      <td>0.0</td>\n",
       "      <td>6.0</td>\n",
       "      <td>1.0</td>\n",
       "    </tr>\n",
       "  </tbody>\n",
       "</table>\n",
       "</div>"
      ],
      "text/plain": [
       "   Location  WindGustDir  WindDir9am  WindDir3pm  RainToday  Cloud9am  \\\n",
       "0      45.0          9.0         7.0         9.0        0.0       7.0   \n",
       "1      15.0          2.0         3.0         9.0        0.0       7.0   \n",
       "2      44.0          8.0        12.0        11.0        1.0       8.0   \n",
       "3      41.0         12.0         0.0        12.0        0.0       7.0   \n",
       "4      17.0          6.0        10.0         3.0        0.0       6.0   \n",
       "\n",
       "   Cloud3pm  \n",
       "0       3.0  \n",
       "1       1.0  \n",
       "2       7.0  \n",
       "3       1.0  \n",
       "4       1.0  "
      ]
     },
     "execution_count": 76,
     "metadata": {},
     "output_type": "execute_result"
    }
   ],
   "source": [
    "Xtrain.loc[:,cate].head()  # 可以看到有的数值比较大，可以先跑，然后再根据结果调整"
   ]
  },
  {
   "cell_type": "markdown",
   "metadata": {},
   "source": [
    "### 处理连续型变量缺失值"
   ]
  },
  {
   "cell_type": "markdown",
   "metadata": {},
   "source": [
    "用算法填补时，不可解释；用算法填补运行时间可能会长。现实生活中用均值或中位数填补，现在选择均值填补"
   ]
  },
  {
   "cell_type": "code",
   "execution_count": 77,
   "metadata": {},
   "outputs": [],
   "source": [
    "# 提取连续型变量的名字\n",
    "## 不能用.mean()直接，因为前面已经进行编码了"
   ]
  },
  {
   "cell_type": "code",
   "execution_count": 78,
   "metadata": {},
   "outputs": [],
   "source": [
    "col = Xtrain.columns.tolist()"
   ]
  },
  {
   "cell_type": "code",
   "execution_count": 79,
   "metadata": {},
   "outputs": [
    {
     "data": {
      "text/plain": [
       "['Month',\n",
       " 'MinTemp',\n",
       " 'MaxTemp',\n",
       " 'Rainfall',\n",
       " 'Evaporation',\n",
       " 'Sunshine',\n",
       " 'WindGustSpeed',\n",
       " 'WindSpeed9am',\n",
       " 'WindSpeed3pm',\n",
       " 'Humidity9am',\n",
       " 'Humidity3pm',\n",
       " 'Pressure9am',\n",
       " 'Pressure3pm',\n",
       " 'Temp9am',\n",
       " 'Temp3pm']"
      ]
     },
     "execution_count": 79,
     "metadata": {},
     "output_type": "execute_result"
    }
   ],
   "source": [
    "for i in cate:\n",
    "    col.remove(i)\n",
    "col"
   ]
  },
  {
   "cell_type": "code",
   "execution_count": 80,
   "metadata": {},
   "outputs": [],
   "source": [
    "#实例化模型，填补策略为\"mean\"表示均值\n",
    "impmean = SimpleImputer(missing_values=np.nan,strategy = \"mean\")"
   ]
  },
  {
   "cell_type": "code",
   "execution_count": 81,
   "metadata": {},
   "outputs": [],
   "source": [
    "#用训练集来fit模型\n",
    "impmean = impmean.fit(Xtrain.loc[:,col]) # 相当于计算每一列的均值"
   ]
  },
  {
   "cell_type": "code",
   "execution_count": 82,
   "metadata": {},
   "outputs": [],
   "source": [
    "#分别在训练集和测试集上进行均值填补\n",
    "Xtrain.loc[:,col] = impmean.transform(Xtrain.loc[:,col])\n",
    "Xtest.loc[:,col] = impmean.transform(Xtest.loc[:,col])"
   ]
  },
  {
   "cell_type": "code",
   "execution_count": 83,
   "metadata": {},
   "outputs": [],
   "source": [
    "# 确认是否还有缺失值"
   ]
  },
  {
   "cell_type": "code",
   "execution_count": 84,
   "metadata": {},
   "outputs": [
    {
     "data": {
      "text/plain": [
       "Month            0\n",
       "Location         0\n",
       "MinTemp          0\n",
       "MaxTemp          0\n",
       "Rainfall         0\n",
       "Evaporation      0\n",
       "Sunshine         0\n",
       "WindGustDir      0\n",
       "WindGustSpeed    0\n",
       "WindDir9am       0\n",
       "WindDir3pm       0\n",
       "WindSpeed9am     0\n",
       "WindSpeed3pm     0\n",
       "Humidity9am      0\n",
       "Humidity3pm      0\n",
       "Pressure9am      0\n",
       "Pressure3pm      0\n",
       "Cloud9am         0\n",
       "Cloud3pm         0\n",
       "Temp9am          0\n",
       "Temp3pm          0\n",
       "RainToday        0\n",
       "dtype: int64"
      ]
     },
     "execution_count": 84,
     "metadata": {},
     "output_type": "execute_result"
    }
   ],
   "source": [
    "Xtrain.isnull().sum()"
   ]
  },
  {
   "cell_type": "code",
   "execution_count": 85,
   "metadata": {},
   "outputs": [
    {
     "data": {
      "text/plain": [
       "Month            0\n",
       "Location         0\n",
       "MinTemp          0\n",
       "MaxTemp          0\n",
       "Rainfall         0\n",
       "Evaporation      0\n",
       "Sunshine         0\n",
       "WindGustDir      0\n",
       "WindGustSpeed    0\n",
       "WindDir9am       0\n",
       "WindDir3pm       0\n",
       "WindSpeed9am     0\n",
       "WindSpeed3pm     0\n",
       "Humidity9am      0\n",
       "Humidity3pm      0\n",
       "Pressure9am      0\n",
       "Pressure3pm      0\n",
       "Cloud9am         0\n",
       "Cloud3pm         0\n",
       "Temp9am          0\n",
       "Temp3pm          0\n",
       "RainToday        0\n",
       "dtype: int64"
      ]
     },
     "execution_count": 85,
     "metadata": {},
     "output_type": "execute_result"
    }
   ],
   "source": [
    "Xtest.isnull().sum()"
   ]
  },
  {
   "cell_type": "markdown",
   "metadata": {},
   "source": [
    "### 处理量纲问题"
   ]
  },
  {
   "cell_type": "code",
   "execution_count": 86,
   "metadata": {},
   "outputs": [
    {
     "data": {
      "text/html": [
       "<div>\n",
       "<style scoped>\n",
       "    .dataframe tbody tr th:only-of-type {\n",
       "        vertical-align: middle;\n",
       "    }\n",
       "\n",
       "    .dataframe tbody tr th {\n",
       "        vertical-align: top;\n",
       "    }\n",
       "\n",
       "    .dataframe thead th {\n",
       "        text-align: right;\n",
       "    }\n",
       "</style>\n",
       "<table border=\"1\" class=\"dataframe\">\n",
       "  <thead>\n",
       "    <tr style=\"text-align: right;\">\n",
       "      <th></th>\n",
       "      <th>count</th>\n",
       "      <th>mean</th>\n",
       "      <th>std</th>\n",
       "      <th>min</th>\n",
       "      <th>25%</th>\n",
       "      <th>50%</th>\n",
       "      <th>75%</th>\n",
       "      <th>max</th>\n",
       "    </tr>\n",
       "  </thead>\n",
       "  <tbody>\n",
       "    <tr>\n",
       "      <th>Month</th>\n",
       "      <td>3301.0</td>\n",
       "      <td>6.360497</td>\n",
       "      <td>3.431097</td>\n",
       "      <td>1.0</td>\n",
       "      <td>3.000000</td>\n",
       "      <td>6.000000</td>\n",
       "      <td>9.0</td>\n",
       "      <td>12.0</td>\n",
       "    </tr>\n",
       "    <tr>\n",
       "      <th>Location</th>\n",
       "      <td>3301.0</td>\n",
       "      <td>23.456831</td>\n",
       "      <td>14.057405</td>\n",
       "      <td>0.0</td>\n",
       "      <td>11.000000</td>\n",
       "      <td>23.000000</td>\n",
       "      <td>35.0</td>\n",
       "      <td>48.0</td>\n",
       "    </tr>\n",
       "    <tr>\n",
       "      <th>MinTemp</th>\n",
       "      <td>3301.0</td>\n",
       "      <td>12.254912</td>\n",
       "      <td>6.291149</td>\n",
       "      <td>-5.3</td>\n",
       "      <td>7.700000</td>\n",
       "      <td>12.000000</td>\n",
       "      <td>16.8</td>\n",
       "      <td>29.1</td>\n",
       "    </tr>\n",
       "    <tr>\n",
       "      <th>MaxTemp</th>\n",
       "      <td>3301.0</td>\n",
       "      <td>23.285641</td>\n",
       "      <td>6.788046</td>\n",
       "      <td>3.4</td>\n",
       "      <td>18.300000</td>\n",
       "      <td>22.800000</td>\n",
       "      <td>28.1</td>\n",
       "      <td>42.9</td>\n",
       "    </tr>\n",
       "    <tr>\n",
       "      <th>Rainfall</th>\n",
       "      <td>3301.0</td>\n",
       "      <td>1.299081</td>\n",
       "      <td>3.327557</td>\n",
       "      <td>0.0</td>\n",
       "      <td>0.000000</td>\n",
       "      <td>0.000000</td>\n",
       "      <td>0.6</td>\n",
       "      <td>21.8</td>\n",
       "    </tr>\n",
       "    <tr>\n",
       "      <th>Evaporation</th>\n",
       "      <td>3301.0</td>\n",
       "      <td>5.173344</td>\n",
       "      <td>2.381357</td>\n",
       "      <td>0.0</td>\n",
       "      <td>4.200000</td>\n",
       "      <td>5.173344</td>\n",
       "      <td>5.2</td>\n",
       "      <td>16.6</td>\n",
       "    </tr>\n",
       "    <tr>\n",
       "      <th>Sunshine</th>\n",
       "      <td>3301.0</td>\n",
       "      <td>7.826516</td>\n",
       "      <td>2.627575</td>\n",
       "      <td>0.0</td>\n",
       "      <td>7.826516</td>\n",
       "      <td>7.826516</td>\n",
       "      <td>8.9</td>\n",
       "      <td>14.3</td>\n",
       "    </tr>\n",
       "    <tr>\n",
       "      <th>WindGustDir</th>\n",
       "      <td>3301.0</td>\n",
       "      <td>7.771584</td>\n",
       "      <td>4.520786</td>\n",
       "      <td>0.0</td>\n",
       "      <td>4.000000</td>\n",
       "      <td>9.000000</td>\n",
       "      <td>11.0</td>\n",
       "      <td>15.0</td>\n",
       "    </tr>\n",
       "    <tr>\n",
       "      <th>WindGustSpeed</th>\n",
       "      <td>3301.0</td>\n",
       "      <td>38.749267</td>\n",
       "      <td>11.634887</td>\n",
       "      <td>9.0</td>\n",
       "      <td>31.000000</td>\n",
       "      <td>38.749267</td>\n",
       "      <td>44.0</td>\n",
       "      <td>80.0</td>\n",
       "    </tr>\n",
       "    <tr>\n",
       "      <th>WindDir9am</th>\n",
       "      <td>3301.0</td>\n",
       "      <td>6.932445</td>\n",
       "      <td>4.501917</td>\n",
       "      <td>0.0</td>\n",
       "      <td>3.000000</td>\n",
       "      <td>7.000000</td>\n",
       "      <td>11.0</td>\n",
       "      <td>15.0</td>\n",
       "    </tr>\n",
       "    <tr>\n",
       "      <th>WindDir3pm</th>\n",
       "      <td>3301.0</td>\n",
       "      <td>7.819146</td>\n",
       "      <td>4.557612</td>\n",
       "      <td>0.0</td>\n",
       "      <td>4.000000</td>\n",
       "      <td>8.000000</td>\n",
       "      <td>12.0</td>\n",
       "      <td>15.0</td>\n",
       "    </tr>\n",
       "    <tr>\n",
       "      <th>WindSpeed9am</th>\n",
       "      <td>3301.0</td>\n",
       "      <td>13.373663</td>\n",
       "      <td>8.169715</td>\n",
       "      <td>0.0</td>\n",
       "      <td>7.000000</td>\n",
       "      <td>13.000000</td>\n",
       "      <td>19.0</td>\n",
       "      <td>39.0</td>\n",
       "    </tr>\n",
       "    <tr>\n",
       "      <th>WindSpeed3pm</th>\n",
       "      <td>3301.0</td>\n",
       "      <td>18.304644</td>\n",
       "      <td>8.251028</td>\n",
       "      <td>0.0</td>\n",
       "      <td>13.000000</td>\n",
       "      <td>18.304644</td>\n",
       "      <td>24.0</td>\n",
       "      <td>44.0</td>\n",
       "    </tr>\n",
       "    <tr>\n",
       "      <th>Humidity9am</th>\n",
       "      <td>3301.0</td>\n",
       "      <td>68.771516</td>\n",
       "      <td>18.358447</td>\n",
       "      <td>13.0</td>\n",
       "      <td>57.000000</td>\n",
       "      <td>69.000000</td>\n",
       "      <td>82.0</td>\n",
       "      <td>100.0</td>\n",
       "    </tr>\n",
       "    <tr>\n",
       "      <th>Humidity3pm</th>\n",
       "      <td>3301.0</td>\n",
       "      <td>51.134226</td>\n",
       "      <td>19.716223</td>\n",
       "      <td>1.0</td>\n",
       "      <td>37.000000</td>\n",
       "      <td>51.134226</td>\n",
       "      <td>64.0</td>\n",
       "      <td>100.0</td>\n",
       "    </tr>\n",
       "    <tr>\n",
       "      <th>Pressure9am</th>\n",
       "      <td>3301.0</td>\n",
       "      <td>1017.898109</td>\n",
       "      <td>6.448790</td>\n",
       "      <td>996.3</td>\n",
       "      <td>1013.800000</td>\n",
       "      <td>1017.898109</td>\n",
       "      <td>1021.9</td>\n",
       "      <td>1038.3</td>\n",
       "    </tr>\n",
       "    <tr>\n",
       "      <th>Pressure3pm</th>\n",
       "      <td>3301.0</td>\n",
       "      <td>1015.460000</td>\n",
       "      <td>6.400043</td>\n",
       "      <td>994.6</td>\n",
       "      <td>1011.300000</td>\n",
       "      <td>1015.460000</td>\n",
       "      <td>1019.4</td>\n",
       "      <td>1035.2</td>\n",
       "    </tr>\n",
       "    <tr>\n",
       "      <th>Cloud9am</th>\n",
       "      <td>3301.0</td>\n",
       "      <td>5.365344</td>\n",
       "      <td>2.590390</td>\n",
       "      <td>0.0</td>\n",
       "      <td>3.000000</td>\n",
       "      <td>7.000000</td>\n",
       "      <td>7.0</td>\n",
       "      <td>8.0</td>\n",
       "    </tr>\n",
       "    <tr>\n",
       "      <th>Cloud3pm</th>\n",
       "      <td>3301.0</td>\n",
       "      <td>5.479249</td>\n",
       "      <td>2.433468</td>\n",
       "      <td>0.0</td>\n",
       "      <td>4.000000</td>\n",
       "      <td>7.000000</td>\n",
       "      <td>7.0</td>\n",
       "      <td>8.0</td>\n",
       "    </tr>\n",
       "    <tr>\n",
       "      <th>Temp9am</th>\n",
       "      <td>3301.0</td>\n",
       "      <td>17.022831</td>\n",
       "      <td>6.304441</td>\n",
       "      <td>-1.2</td>\n",
       "      <td>12.400000</td>\n",
       "      <td>16.900000</td>\n",
       "      <td>21.4</td>\n",
       "      <td>34.1</td>\n",
       "    </tr>\n",
       "    <tr>\n",
       "      <th>Temp3pm</th>\n",
       "      <td>3301.0</td>\n",
       "      <td>21.742464</td>\n",
       "      <td>6.573837</td>\n",
       "      <td>2.2</td>\n",
       "      <td>17.000000</td>\n",
       "      <td>21.400000</td>\n",
       "      <td>26.2</td>\n",
       "      <td>42.1</td>\n",
       "    </tr>\n",
       "    <tr>\n",
       "      <th>RainToday</th>\n",
       "      <td>3301.0</td>\n",
       "      <td>0.214480</td>\n",
       "      <td>0.410524</td>\n",
       "      <td>0.0</td>\n",
       "      <td>0.000000</td>\n",
       "      <td>0.000000</td>\n",
       "      <td>0.0</td>\n",
       "      <td>1.0</td>\n",
       "    </tr>\n",
       "  </tbody>\n",
       "</table>\n",
       "</div>"
      ],
      "text/plain": [
       "                count         mean        std    min          25%  \\\n",
       "Month          3301.0     6.360497   3.431097    1.0     3.000000   \n",
       "Location       3301.0    23.456831  14.057405    0.0    11.000000   \n",
       "MinTemp        3301.0    12.254912   6.291149   -5.3     7.700000   \n",
       "MaxTemp        3301.0    23.285641   6.788046    3.4    18.300000   \n",
       "Rainfall       3301.0     1.299081   3.327557    0.0     0.000000   \n",
       "Evaporation    3301.0     5.173344   2.381357    0.0     4.200000   \n",
       "Sunshine       3301.0     7.826516   2.627575    0.0     7.826516   \n",
       "WindGustDir    3301.0     7.771584   4.520786    0.0     4.000000   \n",
       "WindGustSpeed  3301.0    38.749267  11.634887    9.0    31.000000   \n",
       "WindDir9am     3301.0     6.932445   4.501917    0.0     3.000000   \n",
       "WindDir3pm     3301.0     7.819146   4.557612    0.0     4.000000   \n",
       "WindSpeed9am   3301.0    13.373663   8.169715    0.0     7.000000   \n",
       "WindSpeed3pm   3301.0    18.304644   8.251028    0.0    13.000000   \n",
       "Humidity9am    3301.0    68.771516  18.358447   13.0    57.000000   \n",
       "Humidity3pm    3301.0    51.134226  19.716223    1.0    37.000000   \n",
       "Pressure9am    3301.0  1017.898109   6.448790  996.3  1013.800000   \n",
       "Pressure3pm    3301.0  1015.460000   6.400043  994.6  1011.300000   \n",
       "Cloud9am       3301.0     5.365344   2.590390    0.0     3.000000   \n",
       "Cloud3pm       3301.0     5.479249   2.433468    0.0     4.000000   \n",
       "Temp9am        3301.0    17.022831   6.304441   -1.2    12.400000   \n",
       "Temp3pm        3301.0    21.742464   6.573837    2.2    17.000000   \n",
       "RainToday      3301.0     0.214480   0.410524    0.0     0.000000   \n",
       "\n",
       "                       50%     75%     max  \n",
       "Month             6.000000     9.0    12.0  \n",
       "Location         23.000000    35.0    48.0  \n",
       "MinTemp          12.000000    16.8    29.1  \n",
       "MaxTemp          22.800000    28.1    42.9  \n",
       "Rainfall          0.000000     0.6    21.8  \n",
       "Evaporation       5.173344     5.2    16.6  \n",
       "Sunshine          7.826516     8.9    14.3  \n",
       "WindGustDir       9.000000    11.0    15.0  \n",
       "WindGustSpeed    38.749267    44.0    80.0  \n",
       "WindDir9am        7.000000    11.0    15.0  \n",
       "WindDir3pm        8.000000    12.0    15.0  \n",
       "WindSpeed9am     13.000000    19.0    39.0  \n",
       "WindSpeed3pm     18.304644    24.0    44.0  \n",
       "Humidity9am      69.000000    82.0   100.0  \n",
       "Humidity3pm      51.134226    64.0   100.0  \n",
       "Pressure9am    1017.898109  1021.9  1038.3  \n",
       "Pressure3pm    1015.460000  1019.4  1035.2  \n",
       "Cloud9am          7.000000     7.0     8.0  \n",
       "Cloud3pm          7.000000     7.0     8.0  \n",
       "Temp9am          16.900000    21.4    34.1  \n",
       "Temp3pm          21.400000    26.2    42.1  \n",
       "RainToday         0.000000     0.0     1.0  "
      ]
     },
     "execution_count": 86,
     "metadata": {},
     "output_type": "execute_result"
    }
   ],
   "source": [
    "# 查看是否存在量纲问题\n",
    "Xtrain.describe().T"
   ]
  },
  {
   "cell_type": "markdown",
   "metadata": {},
   "source": [
    "查看最大值，发现存在量纲不统一，这个操作不对分类型进行处理"
   ]
  },
  {
   "cell_type": "code",
   "execution_count": 87,
   "metadata": {},
   "outputs": [],
   "source": [
    "col.remove('Month')"
   ]
  },
  {
   "cell_type": "code",
   "execution_count": 88,
   "metadata": {},
   "outputs": [],
   "source": [
    "# 对连续型变量进行数据标准化\n",
    "from sklearn.preprocessing import StandardScaler\n",
    "\n",
    "ss = StandardScaler()  # 实例化\n",
    "ss = ss.fit(Xtrain.loc[:,col])  # 相当于生成每一列的均值和标准差\n",
    "Xtrain.loc[:,col] = ss.transform(Xtrain.loc[:,col])\n",
    "Xtest.loc[:,col] = ss.transform(Xtest.loc[:,col])"
   ]
  },
  {
   "cell_type": "code",
   "execution_count": 89,
   "metadata": {},
   "outputs": [],
   "source": [
    "# 最后查看Xtrain.head()"
   ]
  },
  {
   "cell_type": "code",
   "execution_count": 90,
   "metadata": {},
   "outputs": [],
   "source": [
    "# 将进行特征工程完毕的数据导出去，防止建模损坏\n",
    "Xtrain.to_csv(r'E:\\CDA数据分析就业班\\10.机器学习\\进阶算法\\data&code\\weather_Xtrain.csv',encoding='utf-8') #不要忘记编码\n",
    "Xtest.to_csv(r'E:\\CDA数据分析就业班\\10.机器学习\\进阶算法\\data&code\\weather_Xtest.csv',encoding='utf-8')\n",
    "Ytrain.to_csv(r'E:\\CDA数据分析就业班\\10.机器学习\\进阶算法\\data&code\\weather_Ytrain.csv',encoding='utf-8')\n",
    "Ytest.to_csv(r'E:\\CDA数据分析就业班\\10.机器学习\\进阶算法\\data&code\\weather_Ytest.csv',encoding='utf-8')"
   ]
  },
  {
   "cell_type": "markdown",
   "metadata": {},
   "source": [
    "### 建立模型及模型评估"
   ]
  },
  {
   "cell_type": "code",
   "execution_count": 91,
   "metadata": {},
   "outputs": [],
   "source": [
    "from time import time\n",
    "import datetime\n",
    "from sklearn.svm import SVC\n",
    "from sklearn.model_selection import cross_val_score\n",
    "from sklearn.metrics import roc_auc_score, recall_score"
   ]
  },
  {
   "cell_type": "code",
   "execution_count": 92,
   "metadata": {},
   "outputs": [
    {
     "data": {
      "text/html": [
       "<div>\n",
       "<style scoped>\n",
       "    .dataframe tbody tr th:only-of-type {\n",
       "        vertical-align: middle;\n",
       "    }\n",
       "\n",
       "    .dataframe tbody tr th {\n",
       "        vertical-align: top;\n",
       "    }\n",
       "\n",
       "    .dataframe thead th {\n",
       "        text-align: right;\n",
       "    }\n",
       "</style>\n",
       "<table border=\"1\" class=\"dataframe\">\n",
       "  <thead>\n",
       "    <tr style=\"text-align: right;\">\n",
       "      <th></th>\n",
       "      <th>0</th>\n",
       "    </tr>\n",
       "  </thead>\n",
       "  <tbody>\n",
       "    <tr>\n",
       "      <th>0</th>\n",
       "      <td>0</td>\n",
       "    </tr>\n",
       "    <tr>\n",
       "      <th>1</th>\n",
       "      <td>0</td>\n",
       "    </tr>\n",
       "  </tbody>\n",
       "</table>\n",
       "</div>"
      ],
      "text/plain": [
       "   0\n",
       "0  0\n",
       "1  0"
      ]
     },
     "execution_count": 92,
     "metadata": {},
     "output_type": "execute_result"
    }
   ],
   "source": [
    "# 查看标签\n",
    "Ytrain.head(2)"
   ]
  },
  {
   "cell_type": "markdown",
   "metadata": {},
   "source": [
    "标签为二维的，sklearn要求标签是一维"
   ]
  },
  {
   "cell_type": "code",
   "execution_count": 93,
   "metadata": {},
   "outputs": [],
   "source": [
    "# 对标签进行转换\n",
    "Ytrain = Ytrain.iloc[:,0].values"
   ]
  },
  {
   "cell_type": "code",
   "execution_count": 94,
   "metadata": {},
   "outputs": [],
   "source": [
    "Ytest = Ytest.iloc[:,0].ravel()"
   ]
  },
  {
   "cell_type": "code",
   "execution_count": 96,
   "metadata": {},
   "outputs": [
    {
     "name": "stdout",
     "output_type": "stream",
     "text": [
      "<class 'numpy.ndarray'> (3301,)\n",
      "<class 'numpy.ndarray'> (1410,)\n"
     ]
    }
   ],
   "source": [
    "print(type(Ytrain),Ytrain.shape)\n",
    "print(type(Ytest),Ytest.shape)"
   ]
  },
  {
   "cell_type": "code",
   "execution_count": 97,
   "metadata": {},
   "outputs": [
    {
     "name": "stdout",
     "output_type": "stream",
     "text": [
      "linear 's testing accuracy 0.828369, recall is 0.386792', auc is 0.851239\n",
      "00:01:425976\n",
      "poly 's testing accuracy 0.826241, recall is 0.364780', auc is 0.852003\n",
      "00:00:317865\n",
      "rbf 's testing accuracy 0.798582, recall is 0.125786', auc is 0.751071\n",
      "00:00:748938\n",
      "sigmoid 's testing accuracy 0.743262, recall is 0.037736', auc is 0.438671\n",
      "00:00:379809\n"
     ]
    }
   ],
   "source": [
    "#核函数学习曲线\n",
    "for kernel in [\"linear\",\"poly\",\"rbf\",\"sigmoid\"]:\n",
    "    times = time()\n",
    "    clf = SVC(kernel = kernel\n",
    "                ,gamma=\"auto\"\n",
    "                ,degree = 1           # 多项式核函数如果是高次，运行缓慢，开始先设为1\n",
    "                ).fit(Xtrain, Ytrain)\n",
    "    result = clf.predict(Xtest)\n",
    "    score = clf.score(Xtest,Ytest)\n",
    "    recall = recall_score(Ytest, result)  # 少数类的预测准确率\n",
    "    auc = roc_auc_score(Ytest,clf.decision_function(Xtest))    # 注意y_score是决策距离，auc的值越接近0.5越差\n",
    "    print(\"%s 's testing accuracy %f, recall is %f', auc is %f\" %(kernel,score,recall,auc))\n",
    "    print(datetime.datetime.fromtimestamp(time()-times).strftime(\"%M:%S:%f\"))"
   ]
  },
  {
   "cell_type": "markdown",
   "metadata": {},
   "source": [
    "模型的准确度和auc面积还是勉勉强强，但是每个核函数下的recall都不太高。相比之下，其实线性模型的效果是最好的。\n",
    "在这种状况下，我们要向着什么方向\n",
    "进行调参呢？我们最想要的是什么？\n",
    "我们可以有不同的目标：\n",
    "一，我希望不计一切代价判断出少数类，得到最高的recall。\n",
    "二，我们希望追求最高的预测准确率，一切目的都是为了让accuracy更高，我们不在意recall或者AUC。\n",
    "三，我们希望达到recall，ROC和accuracy之间的平衡，不追求任何一个也不牺牲任何一个。"
   ]
  },
  {
   "cell_type": "markdown",
   "metadata": {},
   "source": [
    "### 模型调参"
   ]
  },
  {
   "cell_type": "markdown",
   "metadata": {},
   "source": [
    "#### 追求最高的recall"
   ]
  },
  {
   "cell_type": "code",
   "execution_count": 98,
   "metadata": {},
   "outputs": [
    {
     "name": "stdout",
     "output_type": "stream",
     "text": [
      "linear 's testing accuracy 0.790071, recall is 0.761006', auc is 0.856095\n",
      "00:01:829063\n",
      "poly 's testing accuracy 0.785816, recall is 0.742138', auc is 0.855824\n",
      "00:00:485082\n",
      "rbf 's testing accuracy 0.792908, recall is 0.380503', auc is 0.754343\n",
      "00:01:631364\n",
      "sigmoid 's testing accuracy 0.755319, recall is 0.015723', auc is 0.439958\n",
      "00:01:159088\n"
     ]
    }
   ],
   "source": [
    "for kernel in [\"linear\",\"poly\",\"rbf\",\"sigmoid\"]:\n",
    "    times = time()\n",
    "    clf = SVC(kernel = kernel\n",
    "                ,gamma=\"auto\"\n",
    "                ,degree = 1           # 多项式核函数如果是高次，运行缓慢，开始先设为1\n",
    "                ,class_weight='balanced'   # 将少数类样本增大\n",
    "             ).fit(Xtrain, Ytrain)\n",
    "    result = clf.predict(Xtest)\n",
    "    score = clf.score(Xtest,Ytest)\n",
    "    recall = recall_score(Ytest, result)  # 少数类的预测准确率\n",
    "    auc = roc_auc_score(Ytest,clf.decision_function(Xtest))    # 注意y_score是决策距离，auc的值越接近0.5越差\n",
    "    print(\"%s 's testing accuracy %f, recall is %f', auc is %f\" %(kernel,score,recall,auc))\n",
    "    print(datetime.datetime.fromtimestamp(time()-times).strftime(\"%M:%S:%f\"))"
   ]
  },
  {
   "cell_type": "markdown",
   "metadata": {},
   "source": [
    "线性核函数的准确率和recall都高，锁定线性核函数，继续增加少数类样本权重"
   ]
  },
  {
   "cell_type": "code",
   "execution_count": 99,
   "metadata": {},
   "outputs": [
    {
     "name": "stdout",
     "output_type": "stream",
     "text": [
      "testing accuracy 0.641135, recall is 0.930818', auc is 0.857609\n",
      "00:03:934202\n"
     ]
    }
   ],
   "source": [
    "times = time()\n",
    "clf = SVC(kernel = \"linear\"\n",
    "          ,gamma=\"auto\"\n",
    "          ,class_weight = {1:10} #注意，这里写的其实是，类别1：10，隐藏了类别0：1这个比例\n",
    "         ).fit(Xtrain, Ytrain)\n",
    "result = clf.predict(Xtest)\n",
    "score = clf.score(Xtest,Ytest)\n",
    "recall = recall_score(Ytest, result)\n",
    "auc = roc_auc_score(Ytest,clf.decision_function(Xtest))\n",
    "print(\"testing accuracy %f, recall is %f', auc is %f\" %(score,recall,auc))\n",
    "print(datetime.datetime.fromtimestamp(time()-times).strftime(\"%M:%S:%f\"))"
   ]
  },
  {
   "cell_type": "markdown",
   "metadata": {},
   "source": [
    "准确度下降，但是recall和auc上升明显。说明少数类捕捉效果明显，但是损害了很多多数类。如果想追求recall和auc可以继续做个学习曲线进行优化聚焦"
   ]
  },
  {
   "cell_type": "markdown",
   "metadata": {},
   "source": [
    "#### 追求准确率"
   ]
  },
  {
   "cell_type": "markdown",
   "metadata": {},
   "source": [
    "实际二分类中仅追求准确率不顾及少数类没有意义，这里为了练习"
   ]
  },
  {
   "cell_type": "code",
   "execution_count": 101,
   "metadata": {},
   "outputs": [
    {
     "name": "stdout",
     "output_type": "stream",
     "text": [
      "0    1092\n",
      "1     318\n",
      "dtype: int64\n",
      "0.774468085106383\n"
     ]
    }
   ],
   "source": [
    "valuec = pd.Series(Ytest).value_counts()\n",
    "print(valuec)\n",
    "print(valuec[0]/valuec.sum())"
   ]
  },
  {
   "cell_type": "markdown",
   "metadata": {},
   "source": [
    "初步判断，可以认为我们其实已经将大部分的多数类判断正确了，所以才能够得到现在的正确率。为\n",
    "了证明我们的判断，我们可以使用混淆矩阵来计算我们的特异度，如果特异度非常高，则证明多数类上\n",
    "已经很难被操作了。"
   ]
  },
  {
   "cell_type": "code",
   "execution_count": 102,
   "metadata": {},
   "outputs": [
    {
     "data": {
      "text/plain": [
       "array([[ 123,  195],\n",
       "       [  47, 1045]], dtype=int64)"
      ]
     },
     "execution_count": 102,
     "metadata": {},
     "output_type": "execute_result"
    }
   ],
   "source": [
    "#查看模型的特异度\n",
    "from sklearn.metrics import confusion_matrix as CM\n",
    "clf = SVC(kernel = \"linear\",\n",
    "          gamma=\"auto\"\n",
    "         ).fit(Xtrain, Ytrain)\n",
    "\n",
    "result = clf.predict(Xtest)\n",
    "cm = CM(Ytest,result,labels=(1,0))\n",
    "cm"
   ]
  },
  {
   "cell_type": "code",
   "execution_count": 103,
   "metadata": {},
   "outputs": [
    {
     "data": {
      "text/plain": [
       "1045"
      ]
     },
     "execution_count": 103,
     "metadata": {},
     "output_type": "execute_result"
    }
   ],
   "source": [
    "cm[1,1]"
   ]
  },
  {
   "cell_type": "code",
   "execution_count": 104,
   "metadata": {},
   "outputs": [
    {
     "data": {
      "text/plain": [
       "1092"
      ]
     },
     "execution_count": 104,
     "metadata": {},
     "output_type": "execute_result"
    }
   ],
   "source": [
    "cm[1,:].sum()"
   ]
  },
  {
   "cell_type": "code",
   "execution_count": 106,
   "metadata": {},
   "outputs": [
    {
     "data": {
      "text/plain": [
       "0.956959706959707"
      ]
     },
     "execution_count": 106,
     "metadata": {},
     "output_type": "execute_result"
    }
   ],
   "source": [
    "specificity = cm[1,1]/cm[1,:].sum()\n",
    "specificity"
   ]
  },
  {
   "cell_type": "markdown",
   "metadata": {},
   "source": [
    "特异度非常高，此时此刻如果要求模型将所有的类都判断为0，则已经被判断正确的少数\n",
    "类会被误伤，整体的准确率一定会下降。而如果我们希望通过让模型捕捉更多少数类来提升精确率的\n",
    "话，却无法实现，因为一旦我们让模型更加倾向于少数类，就会有更多的多数类被判错。"
   ]
  },
  {
   "cell_type": "markdown",
   "metadata": {},
   "source": [
    "可以试试看使用class_weight将模型向少数类的方向稍微调整，已查看我们是否有更多的空间来提升\n",
    "我们的准确率。如果在轻微向少数类方向调整过程中，出现了更高的准确率，则说明模型还没有到极\n",
    "限。"
   ]
  },
  {
   "cell_type": "code",
   "execution_count": 107,
   "metadata": {},
   "outputs": [
    {
     "name": "stdout",
     "output_type": "stream",
     "text": [
      "under ratio 1:1.010000 testing accuracy 0.828369, recall is 0.389937', auc is 0.851216\n",
      "00:01:375114\n",
      "under ratio 1:1.014444 testing accuracy 0.828369, recall is 0.389937', auc is 0.851150\n",
      "00:01:365879\n",
      "under ratio 1:1.018889 testing accuracy 0.828369, recall is 0.393082', auc is 0.851262\n",
      "00:02:478693\n",
      "under ratio 1:1.023333 testing accuracy 0.828369, recall is 0.393082', auc is 0.851147\n",
      "00:01:377786\n",
      "under ratio 1:1.027778 testing accuracy 0.828369, recall is 0.393082', auc is 0.851251\n",
      "00:01:487643\n",
      "under ratio 1:1.032222 testing accuracy 0.829078, recall is 0.399371', auc is 0.851392\n",
      "00:03:263787\n",
      "under ratio 1:1.036667 testing accuracy 0.829787, recall is 0.399371', auc is 0.851395\n",
      "00:01:420995\n",
      "under ratio 1:1.041111 testing accuracy 0.827660, recall is 0.399371', auc is 0.851455\n",
      "00:02:609816\n",
      "under ratio 1:1.045556 testing accuracy 0.829078, recall is 0.405660', auc is 0.851311\n",
      "00:01:469740\n",
      "under ratio 1:1.050000 testing accuracy 0.829787, recall is 0.408805', auc is 0.851309\n",
      "00:01:613505\n"
     ]
    }
   ],
   "source": [
    "irange = np.linspace(0.01,0.05,10)\n",
    "for i in irange:\n",
    "    times = time()\n",
    "    clf = SVC(kernel = \"linear\"\n",
    "                ,gamma=\"auto\"\n",
    "                ,class_weight = {1:1+i}\n",
    "                ).fit(Xtrain, Ytrain)\n",
    "    result = clf.predict(Xtest)\n",
    "    score = clf.score(Xtest,Ytest)\n",
    "    recall = recall_score(Ytest, result)\n",
    "    auc = roc_auc_score(Ytest,clf.decision_function(Xtest))\n",
    "    print(\"under ratio 1:%f testing accuracy %f, recall is %f', auc is %f\" %\n",
    "    (1+i,score,recall,auc))\n",
    "    print(datetime.datetime.fromtimestamp(time()-times).strftime(\"%M:%S:%f\"))"
   ]
  },
  {
   "cell_type": "markdown",
   "metadata": {},
   "source": [
    "最高准确度是82.97%，超过了我们之前什么都不做的时候得到的82.83%。可\n",
    "见，模型还是有潜力的。我们可以继续细化我们的学习曲线来进行调整："
   ]
  },
  {
   "cell_type": "code",
   "execution_count": 108,
   "metadata": {},
   "outputs": [
    {
     "name": "stdout",
     "output_type": "stream",
     "text": [
      "under ratio 1:1.030000 testing accuracy 0.829078, recall is 0.396226', auc is 0.851409\n",
      "00:01:519197\n",
      "under ratio 1:1.031111 testing accuracy 0.829078, recall is 0.399371', auc is 0.851444\n",
      "00:02:681327\n",
      "under ratio 1:1.032222 testing accuracy 0.829078, recall is 0.399371', auc is 0.851392\n",
      "00:01:598495\n",
      "under ratio 1:1.033333 testing accuracy 0.829078, recall is 0.399371', auc is 0.851424\n",
      "00:02:729578\n",
      "under ratio 1:1.034444 testing accuracy 0.829787, recall is 0.399371', auc is 0.851395\n",
      "00:01:484092\n",
      "under ratio 1:1.035556 testing accuracy 0.829787, recall is 0.399371', auc is 0.851398\n",
      "00:01:981687\n",
      "under ratio 1:1.036667 testing accuracy 0.829787, recall is 0.399371', auc is 0.851395\n",
      "00:02:664430\n",
      "under ratio 1:1.037778 testing accuracy 0.827660, recall is 0.396226', auc is 0.851314\n",
      "00:01:571394\n",
      "under ratio 1:1.038889 testing accuracy 0.827660, recall is 0.399371', auc is 0.851429\n",
      "00:02:599832\n",
      "under ratio 1:1.040000 testing accuracy 0.827660, recall is 0.399371', auc is 0.851461\n",
      "00:01:473067\n"
     ]
    }
   ],
   "source": [
    "irange_ = np.linspace(0.03,0.04,10)\n",
    "for i in irange_:\n",
    "    times = time()\n",
    "    clf = SVC(kernel = \"linear\"\n",
    "                ,gamma=\"auto\"\n",
    "                ,class_weight = {1:1+i}\n",
    "                ).fit(Xtrain, Ytrain)\n",
    "    result = clf.predict(Xtest)\n",
    "    score = clf.score(Xtest,Ytest)\n",
    "    recall = recall_score(Ytest, result)\n",
    "    auc = roc_auc_score(Ytest,clf.decision_function(Xtest))\n",
    "    print(\"under ratio 1:%f testing accuracy %f, recall is %f', auc is %f\" %(1+i,score,recall,auc))\n",
    "    print(datetime.datetime.fromtimestamp(time()-times).strftime(\"%M:%S:%f\"))"
   ]
  },
  {
   "cell_type": "code",
   "execution_count": 110,
   "metadata": {},
   "outputs": [
    {
     "data": {
      "text/plain": [
       "0.8312056737588652"
      ]
     },
     "execution_count": 110,
     "metadata": {},
     "output_type": "execute_result"
    }
   ],
   "source": [
    "# 更换模型\n",
    "## 由于是二分类，所以更换为逻辑回归\n",
    "from sklearn.linear_model import LogisticRegression as LR\n",
    "logclf = LR(solver=\"liblinear\").fit(Xtrain, Ytrain)\n",
    "logclf.score(Xtest,Ytest)"
   ]
  },
  {
   "cell_type": "code",
   "execution_count": 114,
   "metadata": {},
   "outputs": [
    {
     "name": "stdout",
     "output_type": "stream",
     "text": [
      "1.0 0.8312056737588652\n",
      "1.4444444444444444 0.8312056737588652\n",
      "1.8888888888888888 0.8312056737588652\n",
      "2.333333333333333 0.8312056737588652\n",
      "2.7777777777777777 0.8312056737588652\n",
      "3.2222222222222223 0.8312056737588652\n",
      "3.6666666666666665 0.8304964539007093\n",
      "4.111111111111111 0.8297872340425532\n",
      "4.555555555555555 0.8304964539007093\n",
      "5.0 0.8304964539007093\n"
     ]
    }
   ],
   "source": [
    "score = []\n",
    "C_range = np.linspace(1,5,10)\n",
    "for C in C_range:\n",
    "    logclf = LR(solver=\"liblinear\",C=C).fit(Xtrain, Ytrain)\n",
    "    score.append(logclf.score(Xtest,Ytest))\n",
    "    print(C,logclf.score(Xtest,Ytest))"
   ]
  },
  {
   "cell_type": "code",
   "execution_count": 115,
   "metadata": {},
   "outputs": [
    {
     "data": {
      "text/plain": [
       "[<matplotlib.lines.Line2D at 0x12f95ded9b0>]"
      ]
     },
     "execution_count": 115,
     "metadata": {},
     "output_type": "execute_result"
    },
    {
     "data": {
      "image/png": "[encoded data removed]",
      "text/plain": [
       "<Figure size 432x288 with 1 Axes>"
      ]
     },
     "metadata": {
      "needs_background": "light"
     },
     "output_type": "display_data"
    }
   ],
   "source": [
    "import matplotlib.pyplot as plt\n",
    "%matplotlib inline\n",
    "plt.plot(C_range,score)"
   ]
  },
  {
   "cell_type": "markdown",
   "metadata": {},
   "source": [
    "#### 追求平衡"
   ]
  },
  {
   "cell_type": "code",
   "execution_count": 116,
   "metadata": {},
   "outputs": [
    {
     "name": "stdout",
     "output_type": "stream",
     "text": [
      "under C 0.010000, testing accuracy is 0.782979,recall is 0.745283', auc is 0.855853\n",
      "00:00:388294\n",
      "under C 1.062105, testing accuracy is 0.790071,recall is 0.761006', auc is 0.856100\n",
      "00:01:899965\n",
      "under C 2.114211, testing accuracy is 0.790071,recall is 0.761006', auc is 0.856069\n",
      "00:04:278505\n",
      "under C 3.166316, testing accuracy is 0.790780,recall is 0.764151', auc is 0.855985\n",
      "00:05:364784\n",
      "under C 4.218421, testing accuracy is 0.791489,recall is 0.767296', auc is 0.855977\n",
      "00:06:555593\n",
      "under C 5.270526, testing accuracy is 0.790780,recall is 0.767296', auc is 0.855994\n",
      "00:10:374709\n",
      "under C 6.322632, testing accuracy is 0.790780,recall is 0.767296', auc is 0.855956\n",
      "00:10:851680\n",
      "under C 7.374737, testing accuracy is 0.790780,recall is 0.767296', auc is 0.855861\n",
      "00:13:572332\n",
      "under C 8.426842, testing accuracy is 0.791489,recall is 0.767296', auc is 0.855841\n",
      "00:14:286015\n",
      "under C 9.478947, testing accuracy is 0.791489,recall is 0.767296', auc is 0.855804\n",
      "00:16:896080\n",
      "under C 10.531053, testing accuracy is 0.791489,recall is 0.767296', auc is 0.855766\n",
      "00:18:097073\n",
      "under C 11.583158, testing accuracy is 0.791489,recall is 0.767296', auc is 0.855657\n",
      "00:19:716165\n",
      "under C 12.635263, testing accuracy is 0.792199,recall is 0.767296', auc is 0.855559\n",
      "00:23:250783\n",
      "under C 13.687368, testing accuracy is 0.792199,recall is 0.767296', auc is 0.855536\n",
      "00:23:072117\n",
      "under C 14.739474, testing accuracy is 0.792199,recall is 0.767296', auc is 0.855553\n",
      "00:25:310660\n",
      "under C 15.791579, testing accuracy is 0.792199,recall is 0.767296', auc is 0.855536\n",
      "00:26:195871\n",
      "under C 16.843684, testing accuracy is 0.792199,recall is 0.767296', auc is 0.855591\n",
      "00:31:729341\n",
      "under C 17.895789, testing accuracy is 0.791489,recall is 0.767296', auc is 0.855530\n",
      "00:29:795405\n",
      "under C 18.947895, testing accuracy is 0.791489,recall is 0.767296', auc is 0.855522\n",
      "00:32:608957\n",
      "under C 20.000000, testing accuracy is 0.791489,recall is 0.767296', auc is 0.855562\n",
      "00:36:416180\n"
     ]
    }
   ],
   "source": [
    "import matplotlib.pyplot as plt\n",
    "C_range = np.linspace(0.01,20,20)\n",
    "recallall = []\n",
    "aucall = []\n",
    "scoreall = []\n",
    "for C in C_range:\n",
    "    times = time()\n",
    "    clf = SVC(kernel = \"linear\",C=C\n",
    "                ,class_weight = \"balanced\").fit(Xtrain, Ytrain)\n",
    "    result = clf.predict(Xtest)\n",
    "    score = clf.score(Xtest,Ytest)\n",
    "    recall = recall_score(Ytest, result)\n",
    "    auc = roc_auc_score(Ytest,clf.decision_function(Xtest))\n",
    "    recallall.append(recall)\n",
    "    aucall.append(auc)\n",
    "    scoreall.append(score)\n",
    "    print(\"under C %f, testing accuracy is %f,recall is %f', auc is %f\" %(C,score,recall,auc))\n",
    "    print(datetime.datetime.fromtimestamp(time()-times).strftime(\"%M:%S:%f\"))\n"
   ]
  },
  {
   "cell_type": "code",
   "execution_count": 117,
   "metadata": {},
   "outputs": [
    {
     "name": "stdout",
     "output_type": "stream",
     "text": [
      "0.8561003985532287 1.0621052631578947\n"
     ]
    },
    {
     "data": {
      "image/png": "[encoded data removed]",
      "text/plain": [
       "<Figure size 432x288 with 1 Axes>"
      ]
     },
     "metadata": {
      "needs_background": "light"
     },
     "output_type": "display_data"
    }
   ],
   "source": [
    "print(max(aucall),C_range[aucall.index(max(aucall))])\n",
    "plt.figure()\n",
    "plt.plot(C_range,recallall,c=\"red\",label=\"recall\")\n",
    "plt.plot(C_range,aucall,c=\"black\",label=\"auc\")\n",
    "plt.plot(C_range,scoreall,c=\"orange\",label=\"accuracy\")\n",
    "plt.legend(loc=4)\n",
    "plt.ylim([0.72,0.88])\n",
    "plt.show()"
   ]
  },
  {
   "cell_type": "markdown",
   "metadata": {},
   "source": [
    "首先，我们注意到，随着C值逐渐增大，模型的运行速度变得越来越慢。对于SVM这个本来运行就不\n",
    "快的模型来说，巨大的C值会是一个比较危险的消耗。所以正常来说，我们应该设定一个较小的C值范围\n",
    "来进行调整。\n",
    "其次，C很小的时候，模型的各项指标都很低，但当C到1以上之后，模型的表现开始逐渐稳定，在C\n",
    "逐渐变大之后，模型的效果并没有显著地提高。可以认为我们设定的C值范围太大了，然而再继续增大\n",
    "或者缩小C值的范围，AUC面积也只能够在0.86上下进行变化了，调节C值不能够让模型的任何指标实现\n",
    "质变。"
   ]
  },
  {
   "cell_type": "code",
   "execution_count": 118,
   "metadata": {},
   "outputs": [
    {
     "name": "stdout",
     "output_type": "stream",
     "text": [
      "testing accuracy 0.790071,recall is 0.761006', auc is 0.856100\n",
      "00:01:942840\n"
     ]
    }
   ],
   "source": [
    "# 最佳的C值带入模型\n",
    "times = time()\n",
    "clf = SVC(kernel = \"linear\",C=1.0621052631578947\n",
    "            ,class_weight = \"balanced\"\n",
    "            ).fit(Xtrain, Ytrain)\n",
    "result = clf.predict(Xtest)\n",
    "score = clf.score(Xtest,Ytest)\n",
    "recall = recall_score(Ytest, result)\n",
    "auc = roc_auc_score(Ytest,clf.decision_function(Xtest))\n",
    "print(\"testing accuracy %f,recall is %f', auc is %f\" % (score,recall,auc))\n",
    "print(datetime.datetime.fromtimestamp(time()-times).strftime(\"%M:%S:%f\"))"
   ]
  },
  {
   "cell_type": "markdown",
   "metadata": {},
   "source": [
    "这种情况下模型的准确率，Recall和AUC都没有太差，但是也没有太好，这也许就是模型\n",
    "平衡后的一种结果"
   ]
  },
  {
   "cell_type": "markdown",
   "metadata": {},
   "source": [
    "调整支持向量机本身的参数，已经不能够满足我们的需求了，要想让AUC面积更进一步，需要绘制ROC曲线，查看是否可以通过调整阈值来对这个模型进行改进。"
   ]
  },
  {
   "cell_type": "code",
   "execution_count": 119,
   "metadata": {},
   "outputs": [],
   "source": [
    "# 调整ROC曲线阈值"
   ]
  },
  {
   "cell_type": "code",
   "execution_count": 120,
   "metadata": {},
   "outputs": [],
   "source": [
    "from sklearn.metrics import roc_curve as ROC\n",
    "import matplotlib.pyplot as plt\n",
    "FPR, Recall, thresholds = ROC(Ytest,clf.decision_function(Xtest),pos_label=1)  # pos_label 关注样本的标签\n",
    "area = roc_auc_score(Ytest,clf.decision_function(Xtest))"
   ]
  },
  {
   "cell_type": "code",
   "execution_count": 121,
   "metadata": {},
   "outputs": [
    {
     "data": {
      "image/png": "[encoded data removed]",
      "text/plain": [
       "<Figure size 432x288 with 1 Axes>"
      ]
     },
     "metadata": {
      "needs_background": "light"
     },
     "output_type": "display_data"
    }
   ],
   "source": [
    "# 绘制ROC曲线\n",
    "plt.figure()\n",
    "plt.plot(FPR, Recall, color='red',                      # ROC曲线\n",
    "         label='ROC curve (area = %0.2f)' % area)\n",
    "plt.plot([0, 1], [0, 1], color='black', linestyle='--') # 对角线\n",
    "plt.xlim([-0.05, 1.05])\n",
    "plt.ylim([-0.05, 1.05])\n",
    "plt.xlabel('False Positive Rate')\n",
    "plt.ylabel('Recall')\n",
    "plt.title('Receiver operating characteristic example')\n",
    "plt.legend(loc=\"lower right\")\n",
    "plt.show()"
   ]
  },
  {
   "cell_type": "code",
   "execution_count": 122,
   "metadata": {},
   "outputs": [
    {
     "data": {
      "text/plain": [
       "-0.011916119080159437"
      ]
     },
     "execution_count": 122,
     "metadata": {},
     "output_type": "execute_result"
    }
   ],
   "source": [
    "#求最佳阈值\n",
    "maxindex = (Recall - FPR).tolist().index(max(Recall - FPR))\n",
    "thresholds[maxindex]"
   ]
  },
  {
   "cell_type": "code",
   "execution_count": 124,
   "metadata": {},
   "outputs": [
    {
     "name": "stdout",
     "output_type": "stream",
     "text": [
      "<class 'numpy.ndarray'>\n",
      "(330,)\n"
     ]
    }
   ],
   "source": [
    "print(type((Recall - FPR)))\n",
    "print((Recall - FPR).shape)"
   ]
  },
  {
   "cell_type": "code",
   "execution_count": 126,
   "metadata": {},
   "outputs": [],
   "source": [
    "# 选出的最佳阈值，我们来认为确定y_predict，并确定在这个阈值下的recall和准确度的值："
   ]
  },
  {
   "cell_type": "code",
   "execution_count": 125,
   "metadata": {},
   "outputs": [],
   "source": [
    "from sklearn.metrics import accuracy_score as AC\n",
    "times = time()\n",
    "clf = SVC(kernel = \"linear\",C=1.0621052631578947\n",
    "            ,class_weight = \"balanced\"\n",
    "            ).fit(Xtrain, Ytrain)"
   ]
  },
  {
   "cell_type": "code",
   "execution_count": 128,
   "metadata": {},
   "outputs": [],
   "source": [
    "prob = pd.DataFrame(clf.decision_function(Xtest))\n",
    "prob.loc[prob.iloc[:,0] >= thresholds[maxindex],\"y_pred\"]=1\n",
    "prob.loc[prob.iloc[:,0] < thresholds[maxindex],\"y_pred\"]=0"
   ]
  },
  {
   "cell_type": "code",
   "execution_count": 129,
   "metadata": {},
   "outputs": [
    {
     "name": "stdout",
     "output_type": "stream",
     "text": [
      "testing accuracy 0.788652,recall is 0.767296\n",
      "02:10:401429\n"
     ]
    }
   ],
   "source": [
    "#检查模型本身的准确度\n",
    "score = AC(Ytest,prob.loc[:,\"y_pred\"].values)\n",
    "recall = recall_score(Ytest, prob.loc[:,\"y_pred\"])\n",
    "print(\"testing accuracy %f,recall is %f\" % (score,recall))\n",
    "print(datetime.datetime.fromtimestamp(time()-times).strftime(\"%M:%S:%f\"))"
   ]
  },
  {
   "cell_type": "markdown",
   "metadata": {},
   "source": [
    "反而还不如我们不调整时的效果好。可见，如果我们追求平衡，那SVC本身的结果就已经非常接近最\n",
    "优结果了。调节阈值，调节参数C和调节class_weight都不一定有效果。但整体来看，我们的模型不是\n",
    "一个糟糕的模型，但这个结果如果提交到kaggle参加比赛是绝对不足够的。如果大家感兴趣，还可以更\n",
    "加深入地探索模型，或者换别的方法来处理特征，以达到AUC面积0.9以上，或是准确度或recall都提升\n",
    "到90%以上"
   ]
  },
  {
   "cell_type": "code",
   "execution_count": 130,
   "metadata": {},
   "outputs": [],
   "source": [
    "# 数据预处理花费的时间最大\n",
    "# 大公司划分：\n",
    "# 数据提取--管数据库\n",
    "# 数据清洗--一部分人\n",
    "# 数据建模--算法工程师\n",
    "# 模型上线--各方配合"
   ]
  }
 ],
 "metadata": {
  "kernelspec": {
   "display_name": "Python 3",
   "language": "python",
   "name": "python3"
  },
  "language_info": {
   "codemirror_mode": {
    "name": "ipython",
    "version": 3
   },
   "file_extension": ".py",
   "mimetype": "text/x-python",
   "name": "python",
   "nbconvert_exporter": "python",
   "pygments_lexer": "ipython3",
   "version": "3.7.3"
  }
 },
 "nbformat": 4,
 "nbformat_minor": 4
}
